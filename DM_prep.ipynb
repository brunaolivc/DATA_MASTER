{
 "cells": [
  {
   "cell_type": "code",
   "execution_count": 180,
   "metadata": {},
   "outputs": [],
   "source": [
    "import numpy as np # linear algebra\n",
    "import pandas as pd # data processing, CSV file I/O (e.g. pd.read_csv)\n",
    "import matplotlib.pyplot as plt\n",
    "from numpy import mean\n",
    "from sklearn.ensemble import RandomForestClassifier\n",
    "from sklearn.model_selection import GridSearchCV, RandomizedSearchCV\n",
    "from sklearn.model_selection import cross_val_score\n",
    "from sklearn.metrics import make_scorer, confusion_matrix, roc_auc_score, f1_score, log_loss, precision_score, recall_score\n",
    "from xgboost import XGBClassifier, DMatrix, train, cv\n",
    "from sklearn.feature_selection import chi2"
   ]
  },
  {
   "attachments": {},
   "cell_type": "markdown",
   "metadata": {},
   "source": [
    "# **Overview Base**"
   ]
  },
  {
   "attachments": {},
   "cell_type": "markdown",
   "metadata": {},
   "source": [
    "### Carrega base"
   ]
  },
  {
   "cell_type": "code",
   "execution_count": 2,
   "metadata": {},
   "outputs": [],
   "source": [
    "dados = pd.read_csv(\"train.csv\", delimiter=',')"
   ]
  },
  {
   "cell_type": "code",
   "execution_count": 3,
   "metadata": {},
   "outputs": [
    {
     "data": {
      "text/html": [
       "<div>\n",
       "<style scoped>\n",
       "    .dataframe tbody tr th:only-of-type {\n",
       "        vertical-align: middle;\n",
       "    }\n",
       "\n",
       "    .dataframe tbody tr th {\n",
       "        vertical-align: top;\n",
       "    }\n",
       "\n",
       "    .dataframe thead th {\n",
       "        text-align: right;\n",
       "    }\n",
       "</style>\n",
       "<table border=\"1\" class=\"dataframe\">\n",
       "  <thead>\n",
       "    <tr style=\"text-align: right;\">\n",
       "      <th></th>\n",
       "      <th>ID</th>\n",
       "      <th>var3</th>\n",
       "      <th>var15</th>\n",
       "      <th>imp_ent_var16_ult1</th>\n",
       "      <th>imp_op_var39_comer_ult1</th>\n",
       "      <th>imp_op_var39_comer_ult3</th>\n",
       "      <th>imp_op_var40_comer_ult1</th>\n",
       "      <th>imp_op_var40_comer_ult3</th>\n",
       "      <th>imp_op_var40_efect_ult1</th>\n",
       "      <th>imp_op_var40_efect_ult3</th>\n",
       "      <th>...</th>\n",
       "      <th>saldo_medio_var33_hace2</th>\n",
       "      <th>saldo_medio_var33_hace3</th>\n",
       "      <th>saldo_medio_var33_ult1</th>\n",
       "      <th>saldo_medio_var33_ult3</th>\n",
       "      <th>saldo_medio_var44_hace2</th>\n",
       "      <th>saldo_medio_var44_hace3</th>\n",
       "      <th>saldo_medio_var44_ult1</th>\n",
       "      <th>saldo_medio_var44_ult3</th>\n",
       "      <th>var38</th>\n",
       "      <th>TARGET</th>\n",
       "    </tr>\n",
       "  </thead>\n",
       "  <tbody>\n",
       "    <tr>\n",
       "      <td>0</td>\n",
       "      <td>1</td>\n",
       "      <td>2</td>\n",
       "      <td>23</td>\n",
       "      <td>0.0</td>\n",
       "      <td>0.0</td>\n",
       "      <td>0.0</td>\n",
       "      <td>0.0</td>\n",
       "      <td>0.0</td>\n",
       "      <td>0.0</td>\n",
       "      <td>0.0</td>\n",
       "      <td>...</td>\n",
       "      <td>0.0</td>\n",
       "      <td>0.0</td>\n",
       "      <td>0.0</td>\n",
       "      <td>0.0</td>\n",
       "      <td>0.0</td>\n",
       "      <td>0.0</td>\n",
       "      <td>0.0</td>\n",
       "      <td>0.0</td>\n",
       "      <td>39205.170000</td>\n",
       "      <td>0</td>\n",
       "    </tr>\n",
       "    <tr>\n",
       "      <td>1</td>\n",
       "      <td>3</td>\n",
       "      <td>2</td>\n",
       "      <td>34</td>\n",
       "      <td>0.0</td>\n",
       "      <td>0.0</td>\n",
       "      <td>0.0</td>\n",
       "      <td>0.0</td>\n",
       "      <td>0.0</td>\n",
       "      <td>0.0</td>\n",
       "      <td>0.0</td>\n",
       "      <td>...</td>\n",
       "      <td>0.0</td>\n",
       "      <td>0.0</td>\n",
       "      <td>0.0</td>\n",
       "      <td>0.0</td>\n",
       "      <td>0.0</td>\n",
       "      <td>0.0</td>\n",
       "      <td>0.0</td>\n",
       "      <td>0.0</td>\n",
       "      <td>49278.030000</td>\n",
       "      <td>0</td>\n",
       "    </tr>\n",
       "    <tr>\n",
       "      <td>2</td>\n",
       "      <td>4</td>\n",
       "      <td>2</td>\n",
       "      <td>23</td>\n",
       "      <td>0.0</td>\n",
       "      <td>0.0</td>\n",
       "      <td>0.0</td>\n",
       "      <td>0.0</td>\n",
       "      <td>0.0</td>\n",
       "      <td>0.0</td>\n",
       "      <td>0.0</td>\n",
       "      <td>...</td>\n",
       "      <td>0.0</td>\n",
       "      <td>0.0</td>\n",
       "      <td>0.0</td>\n",
       "      <td>0.0</td>\n",
       "      <td>0.0</td>\n",
       "      <td>0.0</td>\n",
       "      <td>0.0</td>\n",
       "      <td>0.0</td>\n",
       "      <td>67333.770000</td>\n",
       "      <td>0</td>\n",
       "    </tr>\n",
       "    <tr>\n",
       "      <td>3</td>\n",
       "      <td>8</td>\n",
       "      <td>2</td>\n",
       "      <td>37</td>\n",
       "      <td>0.0</td>\n",
       "      <td>195.0</td>\n",
       "      <td>195.0</td>\n",
       "      <td>0.0</td>\n",
       "      <td>0.0</td>\n",
       "      <td>0.0</td>\n",
       "      <td>0.0</td>\n",
       "      <td>...</td>\n",
       "      <td>0.0</td>\n",
       "      <td>0.0</td>\n",
       "      <td>0.0</td>\n",
       "      <td>0.0</td>\n",
       "      <td>0.0</td>\n",
       "      <td>0.0</td>\n",
       "      <td>0.0</td>\n",
       "      <td>0.0</td>\n",
       "      <td>64007.970000</td>\n",
       "      <td>0</td>\n",
       "    </tr>\n",
       "    <tr>\n",
       "      <td>4</td>\n",
       "      <td>10</td>\n",
       "      <td>2</td>\n",
       "      <td>39</td>\n",
       "      <td>0.0</td>\n",
       "      <td>0.0</td>\n",
       "      <td>0.0</td>\n",
       "      <td>0.0</td>\n",
       "      <td>0.0</td>\n",
       "      <td>0.0</td>\n",
       "      <td>0.0</td>\n",
       "      <td>...</td>\n",
       "      <td>0.0</td>\n",
       "      <td>0.0</td>\n",
       "      <td>0.0</td>\n",
       "      <td>0.0</td>\n",
       "      <td>0.0</td>\n",
       "      <td>0.0</td>\n",
       "      <td>0.0</td>\n",
       "      <td>0.0</td>\n",
       "      <td>117310.979016</td>\n",
       "      <td>0</td>\n",
       "    </tr>\n",
       "    <tr>\n",
       "      <td>...</td>\n",
       "      <td>...</td>\n",
       "      <td>...</td>\n",
       "      <td>...</td>\n",
       "      <td>...</td>\n",
       "      <td>...</td>\n",
       "      <td>...</td>\n",
       "      <td>...</td>\n",
       "      <td>...</td>\n",
       "      <td>...</td>\n",
       "      <td>...</td>\n",
       "      <td>...</td>\n",
       "      <td>...</td>\n",
       "      <td>...</td>\n",
       "      <td>...</td>\n",
       "      <td>...</td>\n",
       "      <td>...</td>\n",
       "      <td>...</td>\n",
       "      <td>...</td>\n",
       "      <td>...</td>\n",
       "      <td>...</td>\n",
       "      <td>...</td>\n",
       "    </tr>\n",
       "    <tr>\n",
       "      <td>76015</td>\n",
       "      <td>151829</td>\n",
       "      <td>2</td>\n",
       "      <td>48</td>\n",
       "      <td>0.0</td>\n",
       "      <td>0.0</td>\n",
       "      <td>0.0</td>\n",
       "      <td>0.0</td>\n",
       "      <td>0.0</td>\n",
       "      <td>0.0</td>\n",
       "      <td>0.0</td>\n",
       "      <td>...</td>\n",
       "      <td>0.0</td>\n",
       "      <td>0.0</td>\n",
       "      <td>0.0</td>\n",
       "      <td>0.0</td>\n",
       "      <td>0.0</td>\n",
       "      <td>0.0</td>\n",
       "      <td>0.0</td>\n",
       "      <td>0.0</td>\n",
       "      <td>60926.490000</td>\n",
       "      <td>0</td>\n",
       "    </tr>\n",
       "    <tr>\n",
       "      <td>76016</td>\n",
       "      <td>151830</td>\n",
       "      <td>2</td>\n",
       "      <td>39</td>\n",
       "      <td>0.0</td>\n",
       "      <td>0.0</td>\n",
       "      <td>0.0</td>\n",
       "      <td>0.0</td>\n",
       "      <td>0.0</td>\n",
       "      <td>0.0</td>\n",
       "      <td>0.0</td>\n",
       "      <td>...</td>\n",
       "      <td>0.0</td>\n",
       "      <td>0.0</td>\n",
       "      <td>0.0</td>\n",
       "      <td>0.0</td>\n",
       "      <td>0.0</td>\n",
       "      <td>0.0</td>\n",
       "      <td>0.0</td>\n",
       "      <td>0.0</td>\n",
       "      <td>118634.520000</td>\n",
       "      <td>0</td>\n",
       "    </tr>\n",
       "    <tr>\n",
       "      <td>76017</td>\n",
       "      <td>151835</td>\n",
       "      <td>2</td>\n",
       "      <td>23</td>\n",
       "      <td>0.0</td>\n",
       "      <td>0.0</td>\n",
       "      <td>0.0</td>\n",
       "      <td>0.0</td>\n",
       "      <td>0.0</td>\n",
       "      <td>0.0</td>\n",
       "      <td>0.0</td>\n",
       "      <td>...</td>\n",
       "      <td>0.0</td>\n",
       "      <td>0.0</td>\n",
       "      <td>0.0</td>\n",
       "      <td>0.0</td>\n",
       "      <td>0.0</td>\n",
       "      <td>0.0</td>\n",
       "      <td>0.0</td>\n",
       "      <td>0.0</td>\n",
       "      <td>74028.150000</td>\n",
       "      <td>0</td>\n",
       "    </tr>\n",
       "    <tr>\n",
       "      <td>76018</td>\n",
       "      <td>151836</td>\n",
       "      <td>2</td>\n",
       "      <td>25</td>\n",
       "      <td>0.0</td>\n",
       "      <td>0.0</td>\n",
       "      <td>0.0</td>\n",
       "      <td>0.0</td>\n",
       "      <td>0.0</td>\n",
       "      <td>0.0</td>\n",
       "      <td>0.0</td>\n",
       "      <td>...</td>\n",
       "      <td>0.0</td>\n",
       "      <td>0.0</td>\n",
       "      <td>0.0</td>\n",
       "      <td>0.0</td>\n",
       "      <td>0.0</td>\n",
       "      <td>0.0</td>\n",
       "      <td>0.0</td>\n",
       "      <td>0.0</td>\n",
       "      <td>84278.160000</td>\n",
       "      <td>0</td>\n",
       "    </tr>\n",
       "    <tr>\n",
       "      <td>76019</td>\n",
       "      <td>151838</td>\n",
       "      <td>2</td>\n",
       "      <td>46</td>\n",
       "      <td>0.0</td>\n",
       "      <td>0.0</td>\n",
       "      <td>0.0</td>\n",
       "      <td>0.0</td>\n",
       "      <td>0.0</td>\n",
       "      <td>0.0</td>\n",
       "      <td>0.0</td>\n",
       "      <td>...</td>\n",
       "      <td>0.0</td>\n",
       "      <td>0.0</td>\n",
       "      <td>0.0</td>\n",
       "      <td>0.0</td>\n",
       "      <td>0.0</td>\n",
       "      <td>0.0</td>\n",
       "      <td>0.0</td>\n",
       "      <td>0.0</td>\n",
       "      <td>117310.979016</td>\n",
       "      <td>0</td>\n",
       "    </tr>\n",
       "  </tbody>\n",
       "</table>\n",
       "<p>76020 rows × 371 columns</p>\n",
       "</div>"
      ],
      "text/plain": [
       "           ID  var3  var15  imp_ent_var16_ult1  imp_op_var39_comer_ult1  \\\n",
       "0           1     2     23                 0.0                      0.0   \n",
       "1           3     2     34                 0.0                      0.0   \n",
       "2           4     2     23                 0.0                      0.0   \n",
       "3           8     2     37                 0.0                    195.0   \n",
       "4          10     2     39                 0.0                      0.0   \n",
       "...       ...   ...    ...                 ...                      ...   \n",
       "76015  151829     2     48                 0.0                      0.0   \n",
       "76016  151830     2     39                 0.0                      0.0   \n",
       "76017  151835     2     23                 0.0                      0.0   \n",
       "76018  151836     2     25                 0.0                      0.0   \n",
       "76019  151838     2     46                 0.0                      0.0   \n",
       "\n",
       "       imp_op_var39_comer_ult3  imp_op_var40_comer_ult1  \\\n",
       "0                          0.0                      0.0   \n",
       "1                          0.0                      0.0   \n",
       "2                          0.0                      0.0   \n",
       "3                        195.0                      0.0   \n",
       "4                          0.0                      0.0   \n",
       "...                        ...                      ...   \n",
       "76015                      0.0                      0.0   \n",
       "76016                      0.0                      0.0   \n",
       "76017                      0.0                      0.0   \n",
       "76018                      0.0                      0.0   \n",
       "76019                      0.0                      0.0   \n",
       "\n",
       "       imp_op_var40_comer_ult3  imp_op_var40_efect_ult1  \\\n",
       "0                          0.0                      0.0   \n",
       "1                          0.0                      0.0   \n",
       "2                          0.0                      0.0   \n",
       "3                          0.0                      0.0   \n",
       "4                          0.0                      0.0   \n",
       "...                        ...                      ...   \n",
       "76015                      0.0                      0.0   \n",
       "76016                      0.0                      0.0   \n",
       "76017                      0.0                      0.0   \n",
       "76018                      0.0                      0.0   \n",
       "76019                      0.0                      0.0   \n",
       "\n",
       "       imp_op_var40_efect_ult3  ...  saldo_medio_var33_hace2  \\\n",
       "0                          0.0  ...                      0.0   \n",
       "1                          0.0  ...                      0.0   \n",
       "2                          0.0  ...                      0.0   \n",
       "3                          0.0  ...                      0.0   \n",
       "4                          0.0  ...                      0.0   \n",
       "...                        ...  ...                      ...   \n",
       "76015                      0.0  ...                      0.0   \n",
       "76016                      0.0  ...                      0.0   \n",
       "76017                      0.0  ...                      0.0   \n",
       "76018                      0.0  ...                      0.0   \n",
       "76019                      0.0  ...                      0.0   \n",
       "\n",
       "       saldo_medio_var33_hace3  saldo_medio_var33_ult1  \\\n",
       "0                          0.0                     0.0   \n",
       "1                          0.0                     0.0   \n",
       "2                          0.0                     0.0   \n",
       "3                          0.0                     0.0   \n",
       "4                          0.0                     0.0   \n",
       "...                        ...                     ...   \n",
       "76015                      0.0                     0.0   \n",
       "76016                      0.0                     0.0   \n",
       "76017                      0.0                     0.0   \n",
       "76018                      0.0                     0.0   \n",
       "76019                      0.0                     0.0   \n",
       "\n",
       "       saldo_medio_var33_ult3  saldo_medio_var44_hace2  \\\n",
       "0                         0.0                      0.0   \n",
       "1                         0.0                      0.0   \n",
       "2                         0.0                      0.0   \n",
       "3                         0.0                      0.0   \n",
       "4                         0.0                      0.0   \n",
       "...                       ...                      ...   \n",
       "76015                     0.0                      0.0   \n",
       "76016                     0.0                      0.0   \n",
       "76017                     0.0                      0.0   \n",
       "76018                     0.0                      0.0   \n",
       "76019                     0.0                      0.0   \n",
       "\n",
       "       saldo_medio_var44_hace3  saldo_medio_var44_ult1  \\\n",
       "0                          0.0                     0.0   \n",
       "1                          0.0                     0.0   \n",
       "2                          0.0                     0.0   \n",
       "3                          0.0                     0.0   \n",
       "4                          0.0                     0.0   \n",
       "...                        ...                     ...   \n",
       "76015                      0.0                     0.0   \n",
       "76016                      0.0                     0.0   \n",
       "76017                      0.0                     0.0   \n",
       "76018                      0.0                     0.0   \n",
       "76019                      0.0                     0.0   \n",
       "\n",
       "       saldo_medio_var44_ult3          var38  TARGET  \n",
       "0                         0.0   39205.170000       0  \n",
       "1                         0.0   49278.030000       0  \n",
       "2                         0.0   67333.770000       0  \n",
       "3                         0.0   64007.970000       0  \n",
       "4                         0.0  117310.979016       0  \n",
       "...                       ...            ...     ...  \n",
       "76015                     0.0   60926.490000       0  \n",
       "76016                     0.0  118634.520000       0  \n",
       "76017                     0.0   74028.150000       0  \n",
       "76018                     0.0   84278.160000       0  \n",
       "76019                     0.0  117310.979016       0  \n",
       "\n",
       "[76020 rows x 371 columns]"
      ]
     },
     "execution_count": 3,
     "metadata": {},
     "output_type": "execute_result"
    }
   ],
   "source": [
    "dados"
   ]
  },
  {
   "attachments": {},
   "cell_type": "markdown",
   "metadata": {},
   "source": [
    "### Verifica tamanho da base e resumo da distribuição das variáveis"
   ]
  },
  {
   "cell_type": "code",
   "execution_count": 4,
   "metadata": {},
   "outputs": [
    {
     "name": "stdout",
     "output_type": "stream",
     "text": [
      "<class 'pandas.core.frame.DataFrame'>\n",
      "RangeIndex: 76020 entries, 0 to 76019\n",
      "Columns: 371 entries, ID to TARGET\n",
      "dtypes: float64(111), int64(260)\n",
      "memory usage: 215.2 MB\n"
     ]
    }
   ],
   "source": [
    "dados.info()"
   ]
  },
  {
   "cell_type": "code",
   "execution_count": null,
   "metadata": {},
   "outputs": [
    {
     "name": "stdout",
     "output_type": "stream",
     "text": [
      "<class 'pandas.core.frame.DataFrame'>\n",
      "RangeIndex: 76020 entries, 0 to 76019\n",
      "Columns: 371 entries, ID to TARGET\n",
      "dtypes: float64(111), int64(260)\n",
      "memory usage: 215.2 MB\n"
     ]
    }
   ],
   "source": [
    "dados.describe()"
   ]
  },
  {
   "attachments": {},
   "cell_type": "markdown",
   "metadata": {},
   "source": [
    "### Verificar se há valores missing padroes"
   ]
  },
  {
   "cell_type": "code",
   "execution_count": 5,
   "metadata": {},
   "outputs": [
    {
     "data": {
      "text/plain": [
       "0"
      ]
     },
     "execution_count": 5,
     "metadata": {},
     "output_type": "execute_result"
    }
   ],
   "source": [
    "#Verificando se ha valores missing padrao (None, NaN) na base como um todo \n",
    "dados.isnull().sum().sum()"
   ]
  },
  {
   "attachments": {},
   "cell_type": "markdown",
   "metadata": {},
   "source": [
    "### Verificar se há duplicação na base"
   ]
  },
  {
   "cell_type": "code",
   "execution_count": 6,
   "metadata": {},
   "outputs": [
    {
     "data": {
      "text/plain": [
       "(76020, 371)"
      ]
     },
     "execution_count": 6,
     "metadata": {},
     "output_type": "execute_result"
    }
   ],
   "source": [
    "dados_nodup = dados.drop_duplicates()\n",
    "dados_nodup.shape"
   ]
  },
  {
   "attachments": {},
   "cell_type": "markdown",
   "metadata": {},
   "source": [
    "### Separa base de Treino e Teste e verificar proporção da Target"
   ]
  },
  {
   "cell_type": "code",
   "execution_count": 7,
   "metadata": {},
   "outputs": [
    {
     "data": {
      "text/plain": [
       "((53214, 371), (22806, 371))"
      ]
     },
     "execution_count": 7,
     "metadata": {},
     "output_type": "execute_result"
    }
   ],
   "source": [
    "#Separa a base em 70% treino e 30% teste, estratificada pela TARGET, uma vez que ela nao tem uma proporcao equilibrada na base\n",
    "from sklearn.model_selection import train_test_split\n",
    "train_set, test_set = train_test_split(dados_nodup, test_size=0.3,stratify=dados_nodup['TARGET'],random_state=42)\n",
    "train_set.shape, test_set.shape"
   ]
  },
  {
   "cell_type": "code",
   "execution_count": 8,
   "metadata": {},
   "outputs": [
    {
     "data": {
      "text/html": [
       "<div>\n",
       "<style scoped>\n",
       "    .dataframe tbody tr th:only-of-type {\n",
       "        vertical-align: middle;\n",
       "    }\n",
       "\n",
       "    .dataframe tbody tr th {\n",
       "        vertical-align: top;\n",
       "    }\n",
       "\n",
       "    .dataframe thead th {\n",
       "        text-align: right;\n",
       "    }\n",
       "</style>\n",
       "<table border=\"1\" class=\"dataframe\">\n",
       "  <thead>\n",
       "    <tr style=\"text-align: right;\">\n",
       "      <th></th>\n",
       "      <th>TARGET</th>\n",
       "      <th>Percentage</th>\n",
       "    </tr>\n",
       "  </thead>\n",
       "  <tbody>\n",
       "    <tr>\n",
       "      <td>0</td>\n",
       "      <td>51108</td>\n",
       "      <td>96.042395</td>\n",
       "    </tr>\n",
       "    <tr>\n",
       "      <td>1</td>\n",
       "      <td>2106</td>\n",
       "      <td>3.957605</td>\n",
       "    </tr>\n",
       "  </tbody>\n",
       "</table>\n",
       "</div>"
      ],
      "text/plain": [
       "   TARGET  Percentage\n",
       "0   51108   96.042395\n",
       "1    2106    3.957605"
      ]
     },
     "execution_count": 8,
     "metadata": {},
     "output_type": "execute_result"
    }
   ],
   "source": [
    "df = pd.DataFrame(train_set.TARGET.value_counts())\n",
    "df['Percentage'] = 100*df['TARGET']/train_set.shape[0]\n",
    "df"
   ]
  },
  {
   "cell_type": "code",
   "execution_count": 9,
   "metadata": {},
   "outputs": [
    {
     "data": {
      "text/html": [
       "<div>\n",
       "<style scoped>\n",
       "    .dataframe tbody tr th:only-of-type {\n",
       "        vertical-align: middle;\n",
       "    }\n",
       "\n",
       "    .dataframe tbody tr th {\n",
       "        vertical-align: top;\n",
       "    }\n",
       "\n",
       "    .dataframe thead th {\n",
       "        text-align: right;\n",
       "    }\n",
       "</style>\n",
       "<table border=\"1\" class=\"dataframe\">\n",
       "  <thead>\n",
       "    <tr style=\"text-align: right;\">\n",
       "      <th></th>\n",
       "      <th>TARGET</th>\n",
       "      <th>Percentage</th>\n",
       "    </tr>\n",
       "  </thead>\n",
       "  <tbody>\n",
       "    <tr>\n",
       "      <td>0</td>\n",
       "      <td>21904</td>\n",
       "      <td>96.0449</td>\n",
       "    </tr>\n",
       "    <tr>\n",
       "      <td>1</td>\n",
       "      <td>902</td>\n",
       "      <td>3.9551</td>\n",
       "    </tr>\n",
       "  </tbody>\n",
       "</table>\n",
       "</div>"
      ],
      "text/plain": [
       "   TARGET  Percentage\n",
       "0   21904     96.0449\n",
       "1     902      3.9551"
      ]
     },
     "execution_count": 9,
     "metadata": {},
     "output_type": "execute_result"
    }
   ],
   "source": [
    "df = pd.DataFrame(test_set.TARGET.value_counts())\n",
    "df['Percentage'] = 100*df['TARGET']/test_set.shape[0]\n",
    "df"
   ]
  },
  {
   "attachments": {},
   "cell_type": "markdown",
   "metadata": {},
   "source": [
    "# **Tratamento da Base**"
   ]
  },
  {
   "attachments": {},
   "cell_type": "markdown",
   "metadata": {},
   "source": [
    "### Remove variáveis duplicadas"
   ]
  },
  {
   "cell_type": "code",
   "execution_count": 10,
   "metadata": {},
   "outputs": [
    {
     "data": {
      "text/plain": [
       "(369, 369)"
      ]
     },
     "execution_count": 10,
     "metadata": {},
     "output_type": "execute_result"
    }
   ],
   "source": [
    "features = train_set.drop(['TARGET','ID'],axis=1)\n",
    "corr_matrix = features.corr()\n",
    "corr_matrix.shape"
   ]
  },
  {
   "cell_type": "code",
   "execution_count": 11,
   "metadata": {},
   "outputs": [],
   "source": [
    "#como a matriz de correlacao se repete na diagonal superior e inferior, escolhi uma delas \n",
    "upper_tri = corr_matrix.where(np.triu(np.ones(corr_matrix.shape),k=1).astype(np.bool)) "
   ]
  },
  {
   "cell_type": "code",
   "execution_count": 12,
   "metadata": {},
   "outputs": [
    {
     "name": "stdout",
     "output_type": "stream",
     "text": [
      "['ind_var18', 'ind_var26', 'ind_var25', 'ind_var29_0', 'ind_var29', 'ind_var32', 'ind_var37', 'ind_var39', 'num_var18', 'num_var26', 'num_var25', 'num_var29_0', 'num_var29', 'num_var32', 'num_var37', 'num_var39', 'saldo_var29', 'delta_num_aport_var33_1y3', 'delta_num_reemb_var13_1y3', 'delta_num_reemb_var17_1y3', 'delta_num_trasp_var17_in_1y3', 'delta_num_trasp_var17_out_1y3', 'delta_num_trasp_var33_in_1y3', 'delta_num_trasp_var33_out_1y3', 'delta_num_venta_var44_1y3']\n"
     ]
    }
   ],
   "source": [
    "to_drop = [column for column in upper_tri.columns if any(upper_tri[column] == 1)] \n",
    "print(to_drop)"
   ]
  },
  {
   "cell_type": "code",
   "execution_count": 13,
   "metadata": {},
   "outputs": [
    {
     "name": "stdout",
     "output_type": "stream",
     "text": [
      "25\n"
     ]
    }
   ],
   "source": [
    "print(len(to_drop))"
   ]
  },
  {
   "cell_type": "code",
   "execution_count": 14,
   "metadata": {},
   "outputs": [
    {
     "data": {
      "text/html": [
       "<div>\n",
       "<style scoped>\n",
       "    .dataframe tbody tr th:only-of-type {\n",
       "        vertical-align: middle;\n",
       "    }\n",
       "\n",
       "    .dataframe tbody tr th {\n",
       "        vertical-align: top;\n",
       "    }\n",
       "\n",
       "    .dataframe thead th {\n",
       "        text-align: right;\n",
       "    }\n",
       "</style>\n",
       "<table border=\"1\" class=\"dataframe\">\n",
       "  <thead>\n",
       "    <tr style=\"text-align: right;\">\n",
       "      <th></th>\n",
       "      <th>var3</th>\n",
       "      <th>var15</th>\n",
       "      <th>imp_ent_var16_ult1</th>\n",
       "      <th>imp_op_var39_comer_ult1</th>\n",
       "      <th>imp_op_var39_comer_ult3</th>\n",
       "      <th>imp_op_var40_comer_ult1</th>\n",
       "      <th>imp_op_var40_comer_ult3</th>\n",
       "      <th>imp_op_var40_efect_ult1</th>\n",
       "      <th>imp_op_var40_efect_ult3</th>\n",
       "      <th>imp_op_var40_ult1</th>\n",
       "      <th>...</th>\n",
       "      <th>saldo_medio_var29_ult3</th>\n",
       "      <th>saldo_medio_var33_hace2</th>\n",
       "      <th>saldo_medio_var33_hace3</th>\n",
       "      <th>saldo_medio_var33_ult1</th>\n",
       "      <th>saldo_medio_var33_ult3</th>\n",
       "      <th>saldo_medio_var44_hace2</th>\n",
       "      <th>saldo_medio_var44_hace3</th>\n",
       "      <th>saldo_medio_var44_ult1</th>\n",
       "      <th>saldo_medio_var44_ult3</th>\n",
       "      <th>var38</th>\n",
       "    </tr>\n",
       "  </thead>\n",
       "  <tbody>\n",
       "    <tr>\n",
       "      <td>61553</td>\n",
       "      <td>2</td>\n",
       "      <td>38</td>\n",
       "      <td>48.0</td>\n",
       "      <td>102.0</td>\n",
       "      <td>209.7</td>\n",
       "      <td>0.0</td>\n",
       "      <td>0.0</td>\n",
       "      <td>0.0</td>\n",
       "      <td>0.0</td>\n",
       "      <td>0.0</td>\n",
       "      <td>...</td>\n",
       "      <td>0.0</td>\n",
       "      <td>0.0</td>\n",
       "      <td>0.0</td>\n",
       "      <td>0.0</td>\n",
       "      <td>0.0</td>\n",
       "      <td>0.0</td>\n",
       "      <td>0.0</td>\n",
       "      <td>0.0</td>\n",
       "      <td>0.0</td>\n",
       "      <td>175887.150000</td>\n",
       "    </tr>\n",
       "    <tr>\n",
       "      <td>6865</td>\n",
       "      <td>2</td>\n",
       "      <td>51</td>\n",
       "      <td>0.0</td>\n",
       "      <td>0.0</td>\n",
       "      <td>0.0</td>\n",
       "      <td>0.0</td>\n",
       "      <td>0.0</td>\n",
       "      <td>0.0</td>\n",
       "      <td>0.0</td>\n",
       "      <td>0.0</td>\n",
       "      <td>...</td>\n",
       "      <td>0.0</td>\n",
       "      <td>0.0</td>\n",
       "      <td>0.0</td>\n",
       "      <td>0.0</td>\n",
       "      <td>0.0</td>\n",
       "      <td>0.0</td>\n",
       "      <td>0.0</td>\n",
       "      <td>0.0</td>\n",
       "      <td>0.0</td>\n",
       "      <td>111297.030000</td>\n",
       "    </tr>\n",
       "    <tr>\n",
       "      <td>847</td>\n",
       "      <td>2</td>\n",
       "      <td>23</td>\n",
       "      <td>0.0</td>\n",
       "      <td>0.0</td>\n",
       "      <td>0.0</td>\n",
       "      <td>0.0</td>\n",
       "      <td>0.0</td>\n",
       "      <td>0.0</td>\n",
       "      <td>0.0</td>\n",
       "      <td>0.0</td>\n",
       "      <td>...</td>\n",
       "      <td>0.0</td>\n",
       "      <td>0.0</td>\n",
       "      <td>0.0</td>\n",
       "      <td>0.0</td>\n",
       "      <td>0.0</td>\n",
       "      <td>0.0</td>\n",
       "      <td>0.0</td>\n",
       "      <td>0.0</td>\n",
       "      <td>0.0</td>\n",
       "      <td>117310.979016</td>\n",
       "    </tr>\n",
       "    <tr>\n",
       "      <td>40817</td>\n",
       "      <td>2</td>\n",
       "      <td>23</td>\n",
       "      <td>0.0</td>\n",
       "      <td>0.0</td>\n",
       "      <td>0.0</td>\n",
       "      <td>0.0</td>\n",
       "      <td>0.0</td>\n",
       "      <td>0.0</td>\n",
       "      <td>0.0</td>\n",
       "      <td>0.0</td>\n",
       "      <td>...</td>\n",
       "      <td>0.0</td>\n",
       "      <td>0.0</td>\n",
       "      <td>0.0</td>\n",
       "      <td>0.0</td>\n",
       "      <td>0.0</td>\n",
       "      <td>0.0</td>\n",
       "      <td>0.0</td>\n",
       "      <td>0.0</td>\n",
       "      <td>0.0</td>\n",
       "      <td>80805.900000</td>\n",
       "    </tr>\n",
       "    <tr>\n",
       "      <td>71630</td>\n",
       "      <td>2</td>\n",
       "      <td>23</td>\n",
       "      <td>0.0</td>\n",
       "      <td>0.0</td>\n",
       "      <td>0.0</td>\n",
       "      <td>0.0</td>\n",
       "      <td>0.0</td>\n",
       "      <td>0.0</td>\n",
       "      <td>0.0</td>\n",
       "      <td>0.0</td>\n",
       "      <td>...</td>\n",
       "      <td>0.0</td>\n",
       "      <td>0.0</td>\n",
       "      <td>0.0</td>\n",
       "      <td>0.0</td>\n",
       "      <td>0.0</td>\n",
       "      <td>0.0</td>\n",
       "      <td>0.0</td>\n",
       "      <td>0.0</td>\n",
       "      <td>0.0</td>\n",
       "      <td>124585.620000</td>\n",
       "    </tr>\n",
       "  </tbody>\n",
       "</table>\n",
       "<p>5 rows × 344 columns</p>\n",
       "</div>"
      ],
      "text/plain": [
       "       var3  var15  imp_ent_var16_ult1  imp_op_var39_comer_ult1  \\\n",
       "61553     2     38                48.0                    102.0   \n",
       "6865      2     51                 0.0                      0.0   \n",
       "847       2     23                 0.0                      0.0   \n",
       "40817     2     23                 0.0                      0.0   \n",
       "71630     2     23                 0.0                      0.0   \n",
       "\n",
       "       imp_op_var39_comer_ult3  imp_op_var40_comer_ult1  \\\n",
       "61553                    209.7                      0.0   \n",
       "6865                       0.0                      0.0   \n",
       "847                        0.0                      0.0   \n",
       "40817                      0.0                      0.0   \n",
       "71630                      0.0                      0.0   \n",
       "\n",
       "       imp_op_var40_comer_ult3  imp_op_var40_efect_ult1  \\\n",
       "61553                      0.0                      0.0   \n",
       "6865                       0.0                      0.0   \n",
       "847                        0.0                      0.0   \n",
       "40817                      0.0                      0.0   \n",
       "71630                      0.0                      0.0   \n",
       "\n",
       "       imp_op_var40_efect_ult3  imp_op_var40_ult1  ...  \\\n",
       "61553                      0.0                0.0  ...   \n",
       "6865                       0.0                0.0  ...   \n",
       "847                        0.0                0.0  ...   \n",
       "40817                      0.0                0.0  ...   \n",
       "71630                      0.0                0.0  ...   \n",
       "\n",
       "       saldo_medio_var29_ult3  saldo_medio_var33_hace2  \\\n",
       "61553                     0.0                      0.0   \n",
       "6865                      0.0                      0.0   \n",
       "847                       0.0                      0.0   \n",
       "40817                     0.0                      0.0   \n",
       "71630                     0.0                      0.0   \n",
       "\n",
       "       saldo_medio_var33_hace3  saldo_medio_var33_ult1  \\\n",
       "61553                      0.0                     0.0   \n",
       "6865                       0.0                     0.0   \n",
       "847                        0.0                     0.0   \n",
       "40817                      0.0                     0.0   \n",
       "71630                      0.0                     0.0   \n",
       "\n",
       "       saldo_medio_var33_ult3  saldo_medio_var44_hace2  \\\n",
       "61553                     0.0                      0.0   \n",
       "6865                      0.0                      0.0   \n",
       "847                       0.0                      0.0   \n",
       "40817                     0.0                      0.0   \n",
       "71630                     0.0                      0.0   \n",
       "\n",
       "       saldo_medio_var44_hace3  saldo_medio_var44_ult1  \\\n",
       "61553                      0.0                     0.0   \n",
       "6865                       0.0                     0.0   \n",
       "847                        0.0                     0.0   \n",
       "40817                      0.0                     0.0   \n",
       "71630                      0.0                     0.0   \n",
       "\n",
       "       saldo_medio_var44_ult3          var38  \n",
       "61553                     0.0  175887.150000  \n",
       "6865                      0.0  111297.030000  \n",
       "847                       0.0  117310.979016  \n",
       "40817                     0.0   80805.900000  \n",
       "71630                     0.0  124585.620000  \n",
       "\n",
       "[5 rows x 344 columns]"
      ]
     },
     "execution_count": 14,
     "metadata": {},
     "output_type": "execute_result"
    }
   ],
   "source": [
    "features_1 = features.drop(to_drop, axis=1)\n",
    "features_1.head()"
   ]
  },
  {
   "cell_type": "code",
   "execution_count": null,
   "metadata": {},
   "outputs": [
    {
     "data": {
      "text/plain": [
       "(53214, 287)"
      ]
     },
     "metadata": {},
     "output_type": "display_data"
    }
   ],
   "source": [
    "features_1.shape"
   ]
  },
  {
   "attachments": {},
   "cell_type": "markdown",
   "metadata": {},
   "source": [
    "### Remove variáveis constantes"
   ]
  },
  {
   "cell_type": "code",
   "execution_count": 15,
   "metadata": {},
   "outputs": [
    {
     "name": "stdout",
     "output_type": "stream",
     "text": [
      "['ind_var2_0', 'ind_var2', 'ind_var13_medio_0', 'ind_var13_medio', 'ind_var27_0', 'ind_var28_0', 'ind_var28', 'ind_var27', 'ind_var34_0', 'ind_var34', 'ind_var41', 'ind_var46_0', 'ind_var46', 'num_var13_medio_0', 'num_var13_medio', 'num_var27_0', 'num_var28_0', 'num_var28', 'num_var27', 'num_var34_0', 'num_var34', 'num_var41', 'num_var46_0', 'num_var46', 'saldo_var13_medio', 'saldo_var28', 'saldo_var27', 'saldo_var34', 'saldo_var41', 'saldo_var46', 'delta_imp_amort_var34_1y3', 'delta_imp_reemb_var33_1y3', 'delta_num_reemb_var33_1y3', 'imp_amort_var18_hace3', 'imp_amort_var34_hace3', 'imp_amort_var34_ult1', 'imp_reemb_var13_hace3', 'imp_reemb_var17_hace3', 'imp_reemb_var33_hace3', 'imp_reemb_var33_ult1', 'imp_trasp_var17_out_hace3', 'imp_trasp_var33_out_hace3', 'num_var2_0_ult1', 'num_var2_ult1', 'num_meses_var13_medio_ult3', 'num_reemb_var13_hace3', 'num_reemb_var17_hace3', 'num_reemb_var33_hace3', 'num_reemb_var33_ult1', 'num_trasp_var17_out_hace3', 'num_trasp_var33_out_hace3', 'saldo_var2_ult1', 'saldo_medio_var13_medio_hace2', 'saldo_medio_var13_medio_hace3', 'saldo_medio_var13_medio_ult1', 'saldo_medio_var13_medio_ult3', 'saldo_medio_var29_hace3']\n"
     ]
    }
   ],
   "source": [
    "#REMOVER VARIAVEIS CONSTANTES, OU SEJA, COM VARIANCIA ZERO\n",
    "\n",
    "from sklearn.feature_selection import VarianceThreshold\n",
    "sel = VarianceThreshold(threshold=0)\n",
    "sel.fit(features_1)  # fit encontra variaveis com variancia zero\n",
    "#get_support() eh um vetor que indica quais variaveis NAO tem variancia zero\n",
    "to_drop_2 = [column for column in features_1.columns if column not in features_1.columns[sel.get_support()]] \n",
    "print(to_drop_2)"
   ]
  },
  {
   "cell_type": "code",
   "execution_count": 16,
   "metadata": {},
   "outputs": [
    {
     "name": "stdout",
     "output_type": "stream",
     "text": [
      "57\n"
     ]
    }
   ],
   "source": [
    "print(len(to_drop_2))"
   ]
  },
  {
   "cell_type": "code",
   "execution_count": 17,
   "metadata": {},
   "outputs": [
    {
     "data": {
      "text/html": [
       "<div>\n",
       "<style scoped>\n",
       "    .dataframe tbody tr th:only-of-type {\n",
       "        vertical-align: middle;\n",
       "    }\n",
       "\n",
       "    .dataframe tbody tr th {\n",
       "        vertical-align: top;\n",
       "    }\n",
       "\n",
       "    .dataframe thead th {\n",
       "        text-align: right;\n",
       "    }\n",
       "</style>\n",
       "<table border=\"1\" class=\"dataframe\">\n",
       "  <thead>\n",
       "    <tr style=\"text-align: right;\">\n",
       "      <th></th>\n",
       "      <th>var3</th>\n",
       "      <th>var15</th>\n",
       "      <th>imp_ent_var16_ult1</th>\n",
       "      <th>imp_op_var39_comer_ult1</th>\n",
       "      <th>imp_op_var39_comer_ult3</th>\n",
       "      <th>imp_op_var40_comer_ult1</th>\n",
       "      <th>imp_op_var40_comer_ult3</th>\n",
       "      <th>imp_op_var40_efect_ult1</th>\n",
       "      <th>imp_op_var40_efect_ult3</th>\n",
       "      <th>imp_op_var40_ult1</th>\n",
       "      <th>...</th>\n",
       "      <th>saldo_medio_var29_ult3</th>\n",
       "      <th>saldo_medio_var33_hace2</th>\n",
       "      <th>saldo_medio_var33_hace3</th>\n",
       "      <th>saldo_medio_var33_ult1</th>\n",
       "      <th>saldo_medio_var33_ult3</th>\n",
       "      <th>saldo_medio_var44_hace2</th>\n",
       "      <th>saldo_medio_var44_hace3</th>\n",
       "      <th>saldo_medio_var44_ult1</th>\n",
       "      <th>saldo_medio_var44_ult3</th>\n",
       "      <th>var38</th>\n",
       "    </tr>\n",
       "  </thead>\n",
       "  <tbody>\n",
       "    <tr>\n",
       "      <td>61553</td>\n",
       "      <td>2</td>\n",
       "      <td>38</td>\n",
       "      <td>48.0</td>\n",
       "      <td>102.0</td>\n",
       "      <td>209.7</td>\n",
       "      <td>0.0</td>\n",
       "      <td>0.0</td>\n",
       "      <td>0.0</td>\n",
       "      <td>0.0</td>\n",
       "      <td>0.0</td>\n",
       "      <td>...</td>\n",
       "      <td>0.0</td>\n",
       "      <td>0.0</td>\n",
       "      <td>0.0</td>\n",
       "      <td>0.0</td>\n",
       "      <td>0.0</td>\n",
       "      <td>0.0</td>\n",
       "      <td>0.0</td>\n",
       "      <td>0.0</td>\n",
       "      <td>0.0</td>\n",
       "      <td>175887.150000</td>\n",
       "    </tr>\n",
       "    <tr>\n",
       "      <td>6865</td>\n",
       "      <td>2</td>\n",
       "      <td>51</td>\n",
       "      <td>0.0</td>\n",
       "      <td>0.0</td>\n",
       "      <td>0.0</td>\n",
       "      <td>0.0</td>\n",
       "      <td>0.0</td>\n",
       "      <td>0.0</td>\n",
       "      <td>0.0</td>\n",
       "      <td>0.0</td>\n",
       "      <td>...</td>\n",
       "      <td>0.0</td>\n",
       "      <td>0.0</td>\n",
       "      <td>0.0</td>\n",
       "      <td>0.0</td>\n",
       "      <td>0.0</td>\n",
       "      <td>0.0</td>\n",
       "      <td>0.0</td>\n",
       "      <td>0.0</td>\n",
       "      <td>0.0</td>\n",
       "      <td>111297.030000</td>\n",
       "    </tr>\n",
       "    <tr>\n",
       "      <td>847</td>\n",
       "      <td>2</td>\n",
       "      <td>23</td>\n",
       "      <td>0.0</td>\n",
       "      <td>0.0</td>\n",
       "      <td>0.0</td>\n",
       "      <td>0.0</td>\n",
       "      <td>0.0</td>\n",
       "      <td>0.0</td>\n",
       "      <td>0.0</td>\n",
       "      <td>0.0</td>\n",
       "      <td>...</td>\n",
       "      <td>0.0</td>\n",
       "      <td>0.0</td>\n",
       "      <td>0.0</td>\n",
       "      <td>0.0</td>\n",
       "      <td>0.0</td>\n",
       "      <td>0.0</td>\n",
       "      <td>0.0</td>\n",
       "      <td>0.0</td>\n",
       "      <td>0.0</td>\n",
       "      <td>117310.979016</td>\n",
       "    </tr>\n",
       "    <tr>\n",
       "      <td>40817</td>\n",
       "      <td>2</td>\n",
       "      <td>23</td>\n",
       "      <td>0.0</td>\n",
       "      <td>0.0</td>\n",
       "      <td>0.0</td>\n",
       "      <td>0.0</td>\n",
       "      <td>0.0</td>\n",
       "      <td>0.0</td>\n",
       "      <td>0.0</td>\n",
       "      <td>0.0</td>\n",
       "      <td>...</td>\n",
       "      <td>0.0</td>\n",
       "      <td>0.0</td>\n",
       "      <td>0.0</td>\n",
       "      <td>0.0</td>\n",
       "      <td>0.0</td>\n",
       "      <td>0.0</td>\n",
       "      <td>0.0</td>\n",
       "      <td>0.0</td>\n",
       "      <td>0.0</td>\n",
       "      <td>80805.900000</td>\n",
       "    </tr>\n",
       "    <tr>\n",
       "      <td>71630</td>\n",
       "      <td>2</td>\n",
       "      <td>23</td>\n",
       "      <td>0.0</td>\n",
       "      <td>0.0</td>\n",
       "      <td>0.0</td>\n",
       "      <td>0.0</td>\n",
       "      <td>0.0</td>\n",
       "      <td>0.0</td>\n",
       "      <td>0.0</td>\n",
       "      <td>0.0</td>\n",
       "      <td>...</td>\n",
       "      <td>0.0</td>\n",
       "      <td>0.0</td>\n",
       "      <td>0.0</td>\n",
       "      <td>0.0</td>\n",
       "      <td>0.0</td>\n",
       "      <td>0.0</td>\n",
       "      <td>0.0</td>\n",
       "      <td>0.0</td>\n",
       "      <td>0.0</td>\n",
       "      <td>124585.620000</td>\n",
       "    </tr>\n",
       "  </tbody>\n",
       "</table>\n",
       "<p>5 rows × 287 columns</p>\n",
       "</div>"
      ],
      "text/plain": [
       "       var3  var15  imp_ent_var16_ult1  imp_op_var39_comer_ult1  \\\n",
       "61553     2     38                48.0                    102.0   \n",
       "6865      2     51                 0.0                      0.0   \n",
       "847       2     23                 0.0                      0.0   \n",
       "40817     2     23                 0.0                      0.0   \n",
       "71630     2     23                 0.0                      0.0   \n",
       "\n",
       "       imp_op_var39_comer_ult3  imp_op_var40_comer_ult1  \\\n",
       "61553                    209.7                      0.0   \n",
       "6865                       0.0                      0.0   \n",
       "847                        0.0                      0.0   \n",
       "40817                      0.0                      0.0   \n",
       "71630                      0.0                      0.0   \n",
       "\n",
       "       imp_op_var40_comer_ult3  imp_op_var40_efect_ult1  \\\n",
       "61553                      0.0                      0.0   \n",
       "6865                       0.0                      0.0   \n",
       "847                        0.0                      0.0   \n",
       "40817                      0.0                      0.0   \n",
       "71630                      0.0                      0.0   \n",
       "\n",
       "       imp_op_var40_efect_ult3  imp_op_var40_ult1  ...  \\\n",
       "61553                      0.0                0.0  ...   \n",
       "6865                       0.0                0.0  ...   \n",
       "847                        0.0                0.0  ...   \n",
       "40817                      0.0                0.0  ...   \n",
       "71630                      0.0                0.0  ...   \n",
       "\n",
       "       saldo_medio_var29_ult3  saldo_medio_var33_hace2  \\\n",
       "61553                     0.0                      0.0   \n",
       "6865                      0.0                      0.0   \n",
       "847                       0.0                      0.0   \n",
       "40817                     0.0                      0.0   \n",
       "71630                     0.0                      0.0   \n",
       "\n",
       "       saldo_medio_var33_hace3  saldo_medio_var33_ult1  \\\n",
       "61553                      0.0                     0.0   \n",
       "6865                       0.0                     0.0   \n",
       "847                        0.0                     0.0   \n",
       "40817                      0.0                     0.0   \n",
       "71630                      0.0                     0.0   \n",
       "\n",
       "       saldo_medio_var33_ult3  saldo_medio_var44_hace2  \\\n",
       "61553                     0.0                      0.0   \n",
       "6865                      0.0                      0.0   \n",
       "847                       0.0                      0.0   \n",
       "40817                     0.0                      0.0   \n",
       "71630                     0.0                      0.0   \n",
       "\n",
       "       saldo_medio_var44_hace3  saldo_medio_var44_ult1  \\\n",
       "61553                      0.0                     0.0   \n",
       "6865                       0.0                     0.0   \n",
       "847                        0.0                     0.0   \n",
       "40817                      0.0                     0.0   \n",
       "71630                      0.0                     0.0   \n",
       "\n",
       "       saldo_medio_var44_ult3          var38  \n",
       "61553                     0.0  175887.150000  \n",
       "6865                      0.0  111297.030000  \n",
       "847                       0.0  117310.979016  \n",
       "40817                     0.0   80805.900000  \n",
       "71630                     0.0  124585.620000  \n",
       "\n",
       "[5 rows x 287 columns]"
      ]
     },
     "execution_count": 17,
     "metadata": {},
     "output_type": "execute_result"
    }
   ],
   "source": [
    "features_2= features_1.drop(to_drop_2, axis=1)\n",
    "features_2.head()"
   ]
  },
  {
   "cell_type": "code",
   "execution_count": 18,
   "metadata": {},
   "outputs": [
    {
     "data": {
      "text/plain": [
       "(53214, 287)"
      ]
     },
     "execution_count": 18,
     "metadata": {},
     "output_type": "execute_result"
    }
   ],
   "source": [
    "features_2.shape"
   ]
  },
  {
   "attachments": {},
   "cell_type": "markdown",
   "metadata": {},
   "source": [
    "# **Feature Selection**"
   ]
  },
  {
   "attachments": {},
   "cell_type": "markdown",
   "metadata": {},
   "source": [
    "### Agrupa variáveis por nomes em comum"
   ]
  },
  {
   "cell_type": "code",
   "execution_count": 19,
   "metadata": {},
   "outputs": [
    {
     "data": {
      "text/html": [
       "<div>\n",
       "<style scoped>\n",
       "    .dataframe tbody tr th:only-of-type {\n",
       "        vertical-align: middle;\n",
       "    }\n",
       "\n",
       "    .dataframe tbody tr th {\n",
       "        vertical-align: top;\n",
       "    }\n",
       "\n",
       "    .dataframe thead th {\n",
       "        text-align: right;\n",
       "    }\n",
       "</style>\n",
       "<table border=\"1\" class=\"dataframe\">\n",
       "  <thead>\n",
       "    <tr style=\"text-align: right;\">\n",
       "      <th></th>\n",
       "      <th>full</th>\n",
       "      <th>abv</th>\n",
       "    </tr>\n",
       "  </thead>\n",
       "  <tbody>\n",
       "    <tr>\n",
       "      <td>0</td>\n",
       "      <td>var3</td>\n",
       "      <td>var</td>\n",
       "    </tr>\n",
       "    <tr>\n",
       "      <td>1</td>\n",
       "      <td>var15</td>\n",
       "      <td>var</td>\n",
       "    </tr>\n",
       "    <tr>\n",
       "      <td>2</td>\n",
       "      <td>imp_ent_var16_ult1</td>\n",
       "      <td>imp</td>\n",
       "    </tr>\n",
       "    <tr>\n",
       "      <td>3</td>\n",
       "      <td>imp_op_var39_comer_ult1</td>\n",
       "      <td>imp</td>\n",
       "    </tr>\n",
       "    <tr>\n",
       "      <td>4</td>\n",
       "      <td>imp_op_var39_comer_ult3</td>\n",
       "      <td>imp</td>\n",
       "    </tr>\n",
       "    <tr>\n",
       "      <td>...</td>\n",
       "      <td>...</td>\n",
       "      <td>...</td>\n",
       "    </tr>\n",
       "    <tr>\n",
       "      <td>282</td>\n",
       "      <td>saldo_medio_var44_hace2</td>\n",
       "      <td>sal</td>\n",
       "    </tr>\n",
       "    <tr>\n",
       "      <td>283</td>\n",
       "      <td>saldo_medio_var44_hace3</td>\n",
       "      <td>sal</td>\n",
       "    </tr>\n",
       "    <tr>\n",
       "      <td>284</td>\n",
       "      <td>saldo_medio_var44_ult1</td>\n",
       "      <td>sal</td>\n",
       "    </tr>\n",
       "    <tr>\n",
       "      <td>285</td>\n",
       "      <td>saldo_medio_var44_ult3</td>\n",
       "      <td>sal</td>\n",
       "    </tr>\n",
       "    <tr>\n",
       "      <td>286</td>\n",
       "      <td>var38</td>\n",
       "      <td>var</td>\n",
       "    </tr>\n",
       "  </tbody>\n",
       "</table>\n",
       "<p>287 rows × 2 columns</p>\n",
       "</div>"
      ],
      "text/plain": [
       "                        full  abv\n",
       "0                       var3  var\n",
       "1                      var15  var\n",
       "2         imp_ent_var16_ult1  imp\n",
       "3    imp_op_var39_comer_ult1  imp\n",
       "4    imp_op_var39_comer_ult3  imp\n",
       "..                       ...  ...\n",
       "282  saldo_medio_var44_hace2  sal\n",
       "283  saldo_medio_var44_hace3  sal\n",
       "284   saldo_medio_var44_ult1  sal\n",
       "285   saldo_medio_var44_ult3  sal\n",
       "286                    var38  var\n",
       "\n",
       "[287 rows x 2 columns]"
      ]
     },
     "execution_count": 19,
     "metadata": {},
     "output_type": "execute_result"
    }
   ],
   "source": [
    "dict = {'full': features_2.columns}\n",
    "colunas = pd.DataFrame(dict)\n",
    "\n",
    "colunas['abv'] = colunas['full'].str.slice(0,3)\n",
    "colunas"
   ]
  },
  {
   "cell_type": "code",
   "execution_count": 20,
   "metadata": {},
   "outputs": [
    {
     "data": {
      "text/html": [
       "<div>\n",
       "<style scoped>\n",
       "    .dataframe tbody tr th:only-of-type {\n",
       "        vertical-align: middle;\n",
       "    }\n",
       "\n",
       "    .dataframe tbody tr th {\n",
       "        vertical-align: top;\n",
       "    }\n",
       "\n",
       "    .dataframe thead th {\n",
       "        text-align: right;\n",
       "    }\n",
       "</style>\n",
       "<table border=\"1\" class=\"dataframe\">\n",
       "  <thead>\n",
       "    <tr style=\"text-align: right;\">\n",
       "      <th></th>\n",
       "      <th>full</th>\n",
       "    </tr>\n",
       "    <tr>\n",
       "      <th>abv</th>\n",
       "      <th></th>\n",
       "    </tr>\n",
       "  </thead>\n",
       "  <tbody>\n",
       "    <tr>\n",
       "      <td>del</td>\n",
       "      <td>15</td>\n",
       "    </tr>\n",
       "    <tr>\n",
       "      <td>imp</td>\n",
       "      <td>40</td>\n",
       "    </tr>\n",
       "    <tr>\n",
       "      <td>ind</td>\n",
       "      <td>54</td>\n",
       "    </tr>\n",
       "    <tr>\n",
       "      <td>num</td>\n",
       "      <td>115</td>\n",
       "    </tr>\n",
       "    <tr>\n",
       "      <td>sal</td>\n",
       "      <td>58</td>\n",
       "    </tr>\n",
       "    <tr>\n",
       "      <td>var</td>\n",
       "      <td>5</td>\n",
       "    </tr>\n",
       "  </tbody>\n",
       "</table>\n",
       "</div>"
      ],
      "text/plain": [
       "     full\n",
       "abv      \n",
       "del    15\n",
       "imp    40\n",
       "ind    54\n",
       "num   115\n",
       "sal    58\n",
       "var     5"
      ]
     },
     "execution_count": 20,
     "metadata": {},
     "output_type": "execute_result"
    }
   ],
   "source": [
    "colunas.groupby('abv').count()"
   ]
  },
  {
   "cell_type": "code",
   "execution_count": 21,
   "metadata": {},
   "outputs": [
    {
     "data": {
      "text/plain": [
       "<matplotlib.axes._subplots.AxesSubplot at 0x7f7f2c871d10>"
      ]
     },
     "execution_count": 21,
     "metadata": {},
     "output_type": "execute_result"
    },
    {
     "data": {
      "image/png": "[encoded data removed]",
      "text/plain": [
       "<Figure size 432x288 with 1 Axes>"
      ]
     },
     "metadata": {
      "needs_background": "light"
     },
     "output_type": "display_data"
    }
   ],
   "source": [
    "colunas.abv.hist()"
   ]
  },
  {
   "attachments": {},
   "cell_type": "markdown",
   "metadata": {},
   "source": [
    "### Separa variáveis em Binárias, Categóricas e Contínuas"
   ]
  },
  {
   "cell_type": "code",
   "execution_count": 157,
   "metadata": {},
   "outputs": [
    {
     "name": "stdout",
     "output_type": "stream",
     "text": [
      "#Binarias 80\n",
      "#Ate 10 categorias 78\n",
      "#Continuas 129\n"
     ]
    }
   ],
   "source": [
    "#TENTAR DETERMINAR SE AS VARIAVEIS SAO BINARIAS, CATEGORICAS OU CONTINUAS\n",
    "\n",
    "#PRIMEIRO VERIFICOU-SE A QUANTIDADE DE DOMINIOS DE CADA VARIAVEL DA BASE E TENTOU-SE AGRUPAR POR QUANTIDADE DE DOMINIOS\n",
    "#BINARIAS: 2 DOMINIOS\n",
    "#CATEGORICAS ATE 10 DOMINIOS: DE 3 A 10 DOMINIOS OU VARS COM INICIO DO NOME DA VARIAVEL NUM (TODAS ELAS PARECEM TER\n",
    "# APENAS VALORES INTEIROS ATRAVES DO DESCRIBE), REMOVENDO VARIAVEIS COM VALORES NAO INTEIROS (ELAS SE TORNAM CONTINUAS)\n",
    "#CONTINUAS: FOI FEITO UM TRABALHO DE VERIFICAR QUAL ERA UMA QUANTIDADE MINIMA DE DOMINIOS NECESSARIOS PARA A VARIAVEL\n",
    "# DEIXAR DE SER CATEGORICA E SE TORNAR CONTINUA, INICIOU-SE O TESTE VERIFICANDO SE A QUANTIDADE DE DOMINIOS ERA MAIOR\n",
    "# QUE N/2 E FOI-SE DIMINUINDO E VERIFICANDO QUAIS VARIAVEIS ALI TINHAM NOMES PARECIDOS, ALEM DE VERIFICAR SE O DESCRIBE\n",
    "# MOSTRAVA VALORES QUEBRADOS OU VALORES INTEIROS.\n",
    "#  VARS COM INICIO DO NOME DA VARIAVEL SALDO, IMP OU DELTA (-1 A 1)\n",
    "\n",
    "\n",
    "#VETORES DE TESTE\n",
    "vars_bin = []\n",
    "vars_cat10 = []\n",
    "vars_cont = []\n",
    "\n",
    "vars_bin = [columns for columns in features_2.columns if len(features_2[columns].value_counts()) == 2]\n",
    "\n",
    "vars_cat10 = [columns for columns in features_2.columns \n",
    "              if columns not in vars_bin\n",
    "              and len(features_2[columns].value_counts()) <= 10]\n",
    "#vars_cont = [columns for columns in features_2.columns if len(features_2[columns].value_counts()) > 10 and len(features_2[columns].value_counts()) > int((features_2.shape[0])/500)]\n",
    "vars_cont = [columns for columns in features_2.columns \n",
    "             if columns not in vars_bin \n",
    "             and columns not in vars_cat10]\n",
    "print('#Binarias',len(vars_bin))\n",
    "print('#Ate 10 categorias',len(vars_cat10))\n",
    "print('#Continuas',len(vars_cont))\n",
    "#APARENTEMENTE:\n",
    "#BINARIAS: com 2 categorias\n",
    "#CATEGORICAS: com 3 categorias\n",
    "#CONTINUAS: SALDO ou IMP ou DELTA (-1 A 1)\n",
    "#CATEGORICAS: NUM ou ate 10 categorias\n"
   ]
  },
  {
   "cell_type": "code",
   "execution_count": 159,
   "metadata": {},
   "outputs": [
    {
     "name": "stdout",
     "output_type": "stream",
     "text": [
      "60\n"
     ]
    }
   ],
   "source": [
    "#VERIFICA SE AS VARIAVEIS CONSIDERADAS CATEGORICAS SAO INTEIROS NAO NEGATIVOS, CASO CONTRARIO, CHAMAR DE CONTINUAS\n",
    "\n",
    "var_cat_true = []\n",
    "\n",
    "var_cat_true = [columns for columns in features_2[vars_cat10].columns \n",
    "                if np.array_equal(features_2[columns], features_2[columns].astype(int))\n",
    "                and np.array_equal(features_2[columns], abs(features_2[columns]))]\n",
    "print(len(var_cat_true))"
   ]
  },
  {
   "cell_type": "code",
   "execution_count": 160,
   "metadata": {},
   "outputs": [
    {
     "name": "stdout",
     "output_type": "stream",
     "text": [
      "18\n"
     ]
    }
   ],
   "source": [
    "vars_to_cont = []\n",
    "\n",
    "vars_to_cont = [columns for columns in features_2[vars_cat10].columns if columns not in var_cat_true]\n",
    "print(len(vars_to_cont))"
   ]
  },
  {
   "cell_type": "code",
   "execution_count": 26,
   "metadata": {},
   "outputs": [
    {
     "name": "stdout",
     "output_type": "stream",
     "text": [
      "#Binarias 80\n",
      "#Ate 10 categorias 60\n",
      "#Continuas 147\n"
     ]
    }
   ],
   "source": [
    "vars_cont_2 = []\n",
    "vars_cat10_2 = []\n",
    "\n",
    "vars_cont_2 = [columns for columns in features_2.columns if columns in vars_cont or columns in vars_to_cont]\n",
    "vars_cat10_2 = [columns for columns in features_2[vars_cat10].columns if columns not in vars_to_cont]\n",
    "print('#Binarias',len(vars_bin))\n",
    "print('#Ate 10 categorias',len(vars_cat10_2))\n",
    "print('#Continuas',len(vars_cont_2))"
   ]
  },
  {
   "attachments": {},
   "cell_type": "markdown",
   "metadata": {},
   "source": [
    "### Verifica Associação de Variáveis Categóricas com a TARGET"
   ]
  },
  {
   "attachments": {},
   "cell_type": "markdown",
   "metadata": {},
   "source": [
    "##### Utiliza teste Chi-Squared para verificar associação entre Variáveis Categóricas e a TARGET"
   ]
  },
  {
   "cell_type": "code",
   "execution_count": 28,
   "metadata": {},
   "outputs": [
    {
     "data": {
      "text/html": [
       "<div>\n",
       "<style scoped>\n",
       "    .dataframe tbody tr th:only-of-type {\n",
       "        vertical-align: middle;\n",
       "    }\n",
       "\n",
       "    .dataframe tbody tr th {\n",
       "        vertical-align: top;\n",
       "    }\n",
       "\n",
       "    .dataframe thead th {\n",
       "        text-align: right;\n",
       "    }\n",
       "</style>\n",
       "<table border=\"1\" class=\"dataframe\">\n",
       "  <thead>\n",
       "    <tr style=\"text-align: right;\">\n",
       "      <th></th>\n",
       "      <th>Chi2</th>\n",
       "      <th>p-Value</th>\n",
       "      <th>associacao</th>\n",
       "    </tr>\n",
       "  </thead>\n",
       "  <tbody>\n",
       "    <tr>\n",
       "      <td>num_var1_0</td>\n",
       "      <td>2.056941</td>\n",
       "      <td>1.515141e-01</td>\n",
       "      <td>NaN</td>\n",
       "    </tr>\n",
       "    <tr>\n",
       "      <td>num_var4</td>\n",
       "      <td>245.491116</td>\n",
       "      <td>2.497193e-55</td>\n",
       "      <td>2.497193e-55</td>\n",
       "    </tr>\n",
       "    <tr>\n",
       "      <td>num_var5_0</td>\n",
       "      <td>7.597927</td>\n",
       "      <td>5.843544e-03</td>\n",
       "      <td>5.843544e-03</td>\n",
       "    </tr>\n",
       "    <tr>\n",
       "      <td>num_var5</td>\n",
       "      <td>987.652698</td>\n",
       "      <td>8.672433e-217</td>\n",
       "      <td>8.672433e-217</td>\n",
       "    </tr>\n",
       "    <tr>\n",
       "      <td>num_var8_0</td>\n",
       "      <td>375.266455</td>\n",
       "      <td>1.335196e-83</td>\n",
       "      <td>1.335196e-83</td>\n",
       "    </tr>\n",
       "    <tr>\n",
       "      <td>num_var12_0</td>\n",
       "      <td>85.862875</td>\n",
       "      <td>1.928557e-20</td>\n",
       "      <td>1.928557e-20</td>\n",
       "    </tr>\n",
       "    <tr>\n",
       "      <td>num_var12</td>\n",
       "      <td>156.720950</td>\n",
       "      <td>5.890152e-36</td>\n",
       "      <td>5.890152e-36</td>\n",
       "    </tr>\n",
       "    <tr>\n",
       "      <td>num_var13_0</td>\n",
       "      <td>240.497758</td>\n",
       "      <td>3.063180e-54</td>\n",
       "      <td>3.063180e-54</td>\n",
       "    </tr>\n",
       "    <tr>\n",
       "      <td>num_var13_corto_0</td>\n",
       "      <td>168.619793</td>\n",
       "      <td>1.481237e-38</td>\n",
       "      <td>1.481237e-38</td>\n",
       "    </tr>\n",
       "    <tr>\n",
       "      <td>num_var13_corto</td>\n",
       "      <td>171.138710</td>\n",
       "      <td>4.173166e-39</td>\n",
       "      <td>4.173166e-39</td>\n",
       "    </tr>\n",
       "    <tr>\n",
       "      <td>num_var13_largo_0</td>\n",
       "      <td>73.507177</td>\n",
       "      <td>1.002709e-17</td>\n",
       "      <td>1.002709e-17</td>\n",
       "    </tr>\n",
       "    <tr>\n",
       "      <td>num_var13_largo</td>\n",
       "      <td>69.327651</td>\n",
       "      <td>8.339222e-17</td>\n",
       "      <td>8.339222e-17</td>\n",
       "    </tr>\n",
       "    <tr>\n",
       "      <td>num_var13</td>\n",
       "      <td>239.409233</td>\n",
       "      <td>5.290781e-54</td>\n",
       "      <td>5.290781e-54</td>\n",
       "    </tr>\n",
       "    <tr>\n",
       "      <td>num_var14_0</td>\n",
       "      <td>0.074954</td>\n",
       "      <td>7.842562e-01</td>\n",
       "      <td>NaN</td>\n",
       "    </tr>\n",
       "    <tr>\n",
       "      <td>num_var14</td>\n",
       "      <td>7.806908</td>\n",
       "      <td>5.204689e-03</td>\n",
       "      <td>5.204689e-03</td>\n",
       "    </tr>\n",
       "    <tr>\n",
       "      <td>num_var17</td>\n",
       "      <td>0.271889</td>\n",
       "      <td>6.020673e-01</td>\n",
       "      <td>NaN</td>\n",
       "    </tr>\n",
       "    <tr>\n",
       "      <td>num_var24_0</td>\n",
       "      <td>116.505510</td>\n",
       "      <td>3.683543e-27</td>\n",
       "      <td>3.683543e-27</td>\n",
       "    </tr>\n",
       "    <tr>\n",
       "      <td>num_var24</td>\n",
       "      <td>136.336290</td>\n",
       "      <td>1.684442e-31</td>\n",
       "      <td>1.684442e-31</td>\n",
       "    </tr>\n",
       "    <tr>\n",
       "      <td>num_var26_0</td>\n",
       "      <td>119.065628</td>\n",
       "      <td>1.013212e-27</td>\n",
       "      <td>1.013212e-27</td>\n",
       "    </tr>\n",
       "    <tr>\n",
       "      <td>num_var25_0</td>\n",
       "      <td>118.343375</td>\n",
       "      <td>1.458262e-27</td>\n",
       "      <td>1.458262e-27</td>\n",
       "    </tr>\n",
       "    <tr>\n",
       "      <td>num_op_var40_hace3</td>\n",
       "      <td>2.719653</td>\n",
       "      <td>9.911959e-02</td>\n",
       "      <td>NaN</td>\n",
       "    </tr>\n",
       "    <tr>\n",
       "      <td>num_var30_0</td>\n",
       "      <td>25.426325</td>\n",
       "      <td>4.596034e-07</td>\n",
       "      <td>4.596034e-07</td>\n",
       "    </tr>\n",
       "    <tr>\n",
       "      <td>num_var30</td>\n",
       "      <td>1125.979600</td>\n",
       "      <td>7.454634e-247</td>\n",
       "      <td>7.454634e-247</td>\n",
       "    </tr>\n",
       "    <tr>\n",
       "      <td>num_var31</td>\n",
       "      <td>3.354180</td>\n",
       "      <td>6.703457e-02</td>\n",
       "      <td>NaN</td>\n",
       "    </tr>\n",
       "    <tr>\n",
       "      <td>num_var32_0</td>\n",
       "      <td>1.704941</td>\n",
       "      <td>1.916430e-01</td>\n",
       "      <td>NaN</td>\n",
       "    </tr>\n",
       "    <tr>\n",
       "      <td>num_var33_0</td>\n",
       "      <td>4.944823</td>\n",
       "      <td>2.616892e-02</td>\n",
       "      <td>2.616892e-02</td>\n",
       "    </tr>\n",
       "    <tr>\n",
       "      <td>num_var33</td>\n",
       "      <td>3.832238</td>\n",
       "      <td>5.027577e-02</td>\n",
       "      <td>NaN</td>\n",
       "    </tr>\n",
       "    <tr>\n",
       "      <td>num_var39_0</td>\n",
       "      <td>15.580208</td>\n",
       "      <td>7.907802e-05</td>\n",
       "      <td>7.907802e-05</td>\n",
       "    </tr>\n",
       "    <tr>\n",
       "      <td>num_var40_0</td>\n",
       "      <td>2.101542</td>\n",
       "      <td>1.471507e-01</td>\n",
       "      <td>NaN</td>\n",
       "    </tr>\n",
       "    <tr>\n",
       "      <td>num_var41_0</td>\n",
       "      <td>16.706585</td>\n",
       "      <td>4.362930e-05</td>\n",
       "      <td>4.362930e-05</td>\n",
       "    </tr>\n",
       "    <tr>\n",
       "      <td>num_var42_0</td>\n",
       "      <td>2.611139</td>\n",
       "      <td>1.061155e-01</td>\n",
       "      <td>NaN</td>\n",
       "    </tr>\n",
       "    <tr>\n",
       "      <td>num_var42</td>\n",
       "      <td>963.980971</td>\n",
       "      <td>1.212406e-211</td>\n",
       "      <td>1.212406e-211</td>\n",
       "    </tr>\n",
       "    <tr>\n",
       "      <td>var36</td>\n",
       "      <td>30050.969675</td>\n",
       "      <td>0.000000e+00</td>\n",
       "      <td>0.000000e+00</td>\n",
       "    </tr>\n",
       "    <tr>\n",
       "      <td>imp_aport_var33_ult1</td>\n",
       "      <td>86.534398</td>\n",
       "      <td>1.373278e-20</td>\n",
       "      <td>1.373278e-20</td>\n",
       "    </tr>\n",
       "    <tr>\n",
       "      <td>num_aport_var13_hace3</td>\n",
       "      <td>147.506206</td>\n",
       "      <td>6.082377e-34</td>\n",
       "      <td>6.082377e-34</td>\n",
       "    </tr>\n",
       "    <tr>\n",
       "      <td>num_aport_var13_ult1</td>\n",
       "      <td>11.339288</td>\n",
       "      <td>7.588440e-04</td>\n",
       "      <td>7.588440e-04</td>\n",
       "    </tr>\n",
       "    <tr>\n",
       "      <td>num_aport_var17_hace3</td>\n",
       "      <td>2.719653</td>\n",
       "      <td>9.911959e-02</td>\n",
       "      <td>NaN</td>\n",
       "    </tr>\n",
       "    <tr>\n",
       "      <td>num_aport_var17_ult1</td>\n",
       "      <td>20.848768</td>\n",
       "      <td>4.970119e-06</td>\n",
       "      <td>4.970119e-06</td>\n",
       "    </tr>\n",
       "    <tr>\n",
       "      <td>num_aport_var33_hace3</td>\n",
       "      <td>2.348791</td>\n",
       "      <td>1.253802e-01</td>\n",
       "      <td>NaN</td>\n",
       "    </tr>\n",
       "    <tr>\n",
       "      <td>num_aport_var33_ult1</td>\n",
       "      <td>0.741723</td>\n",
       "      <td>3.891094e-01</td>\n",
       "      <td>NaN</td>\n",
       "    </tr>\n",
       "    <tr>\n",
       "      <td>num_var7_recib_ult1</td>\n",
       "      <td>0.096165</td>\n",
       "      <td>7.564810e-01</td>\n",
       "      <td>NaN</td>\n",
       "    </tr>\n",
       "    <tr>\n",
       "      <td>num_compra_var44_hace3</td>\n",
       "      <td>3.584996</td>\n",
       "      <td>5.830354e-02</td>\n",
       "      <td>NaN</td>\n",
       "    </tr>\n",
       "    <tr>\n",
       "      <td>num_compra_var44_ult1</td>\n",
       "      <td>7.391008</td>\n",
       "      <td>6.555073e-03</td>\n",
       "      <td>6.555073e-03</td>\n",
       "    </tr>\n",
       "    <tr>\n",
       "      <td>num_meses_var5_ult3</td>\n",
       "      <td>997.714058</td>\n",
       "      <td>5.638295e-219</td>\n",
       "      <td>5.638295e-219</td>\n",
       "    </tr>\n",
       "    <tr>\n",
       "      <td>num_meses_var8_ult3</td>\n",
       "      <td>81.718539</td>\n",
       "      <td>1.569147e-19</td>\n",
       "      <td>1.569147e-19</td>\n",
       "    </tr>\n",
       "    <tr>\n",
       "      <td>num_meses_var12_ult3</td>\n",
       "      <td>107.077913</td>\n",
       "      <td>4.280075e-25</td>\n",
       "      <td>4.280075e-25</td>\n",
       "    </tr>\n",
       "    <tr>\n",
       "      <td>num_meses_var13_corto_ult3</td>\n",
       "      <td>142.664448</td>\n",
       "      <td>6.959827e-33</td>\n",
       "      <td>6.959827e-33</td>\n",
       "    </tr>\n",
       "    <tr>\n",
       "      <td>num_meses_var13_largo_ult3</td>\n",
       "      <td>40.959615</td>\n",
       "      <td>1.554076e-10</td>\n",
       "      <td>1.554076e-10</td>\n",
       "    </tr>\n",
       "    <tr>\n",
       "      <td>num_meses_var17_ult3</td>\n",
       "      <td>4.514503</td>\n",
       "      <td>3.360864e-02</td>\n",
       "      <td>3.360864e-02</td>\n",
       "    </tr>\n",
       "    <tr>\n",
       "      <td>num_meses_var29_ult3</td>\n",
       "      <td>0.164827</td>\n",
       "      <td>6.847504e-01</td>\n",
       "      <td>NaN</td>\n",
       "    </tr>\n",
       "    <tr>\n",
       "      <td>num_meses_var33_ult3</td>\n",
       "      <td>2.843273</td>\n",
       "      <td>9.175713e-02</td>\n",
       "      <td>NaN</td>\n",
       "    </tr>\n",
       "    <tr>\n",
       "      <td>num_meses_var39_vig_ult3</td>\n",
       "      <td>0.950230</td>\n",
       "      <td>3.296607e-01</td>\n",
       "      <td>NaN</td>\n",
       "    </tr>\n",
       "    <tr>\n",
       "      <td>num_meses_var44_ult3</td>\n",
       "      <td>3.761207</td>\n",
       "      <td>5.245471e-02</td>\n",
       "      <td>NaN</td>\n",
       "    </tr>\n",
       "    <tr>\n",
       "      <td>num_op_var40_efect_ult1</td>\n",
       "      <td>265.624238</td>\n",
       "      <td>1.020037e-59</td>\n",
       "      <td>1.020037e-59</td>\n",
       "    </tr>\n",
       "    <tr>\n",
       "      <td>num_op_var40_efect_ult3</td>\n",
       "      <td>348.525945</td>\n",
       "      <td>8.874375e-78</td>\n",
       "      <td>8.874375e-78</td>\n",
       "    </tr>\n",
       "    <tr>\n",
       "      <td>num_reemb_var17_ult1</td>\n",
       "      <td>152.112970</td>\n",
       "      <td>5.985985e-35</td>\n",
       "      <td>5.985985e-35</td>\n",
       "    </tr>\n",
       "    <tr>\n",
       "      <td>num_sal_var16_ult1</td>\n",
       "      <td>54.143058</td>\n",
       "      <td>1.864113e-13</td>\n",
       "      <td>1.864113e-13</td>\n",
       "    </tr>\n",
       "    <tr>\n",
       "      <td>num_trasp_var17_in_hace3</td>\n",
       "      <td>0.370862</td>\n",
       "      <td>5.425349e-01</td>\n",
       "      <td>NaN</td>\n",
       "    </tr>\n",
       "    <tr>\n",
       "      <td>num_trasp_var33_in_ult1</td>\n",
       "      <td>0.494482</td>\n",
       "      <td>4.819346e-01</td>\n",
       "      <td>NaN</td>\n",
       "    </tr>\n",
       "    <tr>\n",
       "      <td>num_venta_var44_ult1</td>\n",
       "      <td>9.766025</td>\n",
       "      <td>1.777664e-03</td>\n",
       "      <td>1.777664e-03</td>\n",
       "    </tr>\n",
       "  </tbody>\n",
       "</table>\n",
       "</div>"
      ],
      "text/plain": [
       "                                    Chi2        p-Value     associacao\n",
       "num_var1_0                      2.056941   1.515141e-01            NaN\n",
       "num_var4                      245.491116   2.497193e-55   2.497193e-55\n",
       "num_var5_0                      7.597927   5.843544e-03   5.843544e-03\n",
       "num_var5                      987.652698  8.672433e-217  8.672433e-217\n",
       "num_var8_0                    375.266455   1.335196e-83   1.335196e-83\n",
       "num_var12_0                    85.862875   1.928557e-20   1.928557e-20\n",
       "num_var12                     156.720950   5.890152e-36   5.890152e-36\n",
       "num_var13_0                   240.497758   3.063180e-54   3.063180e-54\n",
       "num_var13_corto_0             168.619793   1.481237e-38   1.481237e-38\n",
       "num_var13_corto               171.138710   4.173166e-39   4.173166e-39\n",
       "num_var13_largo_0              73.507177   1.002709e-17   1.002709e-17\n",
       "num_var13_largo                69.327651   8.339222e-17   8.339222e-17\n",
       "num_var13                     239.409233   5.290781e-54   5.290781e-54\n",
       "num_var14_0                     0.074954   7.842562e-01            NaN\n",
       "num_var14                       7.806908   5.204689e-03   5.204689e-03\n",
       "num_var17                       0.271889   6.020673e-01            NaN\n",
       "num_var24_0                   116.505510   3.683543e-27   3.683543e-27\n",
       "num_var24                     136.336290   1.684442e-31   1.684442e-31\n",
       "num_var26_0                   119.065628   1.013212e-27   1.013212e-27\n",
       "num_var25_0                   118.343375   1.458262e-27   1.458262e-27\n",
       "num_op_var40_hace3              2.719653   9.911959e-02            NaN\n",
       "num_var30_0                    25.426325   4.596034e-07   4.596034e-07\n",
       "num_var30                    1125.979600  7.454634e-247  7.454634e-247\n",
       "num_var31                       3.354180   6.703457e-02            NaN\n",
       "num_var32_0                     1.704941   1.916430e-01            NaN\n",
       "num_var33_0                     4.944823   2.616892e-02   2.616892e-02\n",
       "num_var33                       3.832238   5.027577e-02            NaN\n",
       "num_var39_0                    15.580208   7.907802e-05   7.907802e-05\n",
       "num_var40_0                     2.101542   1.471507e-01            NaN\n",
       "num_var41_0                    16.706585   4.362930e-05   4.362930e-05\n",
       "num_var42_0                     2.611139   1.061155e-01            NaN\n",
       "num_var42                     963.980971  1.212406e-211  1.212406e-211\n",
       "var36                       30050.969675   0.000000e+00   0.000000e+00\n",
       "imp_aport_var33_ult1           86.534398   1.373278e-20   1.373278e-20\n",
       "num_aport_var13_hace3         147.506206   6.082377e-34   6.082377e-34\n",
       "num_aport_var13_ult1           11.339288   7.588440e-04   7.588440e-04\n",
       "num_aport_var17_hace3           2.719653   9.911959e-02            NaN\n",
       "num_aport_var17_ult1           20.848768   4.970119e-06   4.970119e-06\n",
       "num_aport_var33_hace3           2.348791   1.253802e-01            NaN\n",
       "num_aport_var33_ult1            0.741723   3.891094e-01            NaN\n",
       "num_var7_recib_ult1             0.096165   7.564810e-01            NaN\n",
       "num_compra_var44_hace3          3.584996   5.830354e-02            NaN\n",
       "num_compra_var44_ult1           7.391008   6.555073e-03   6.555073e-03\n",
       "num_meses_var5_ult3           997.714058  5.638295e-219  5.638295e-219\n",
       "num_meses_var8_ult3            81.718539   1.569147e-19   1.569147e-19\n",
       "num_meses_var12_ult3          107.077913   4.280075e-25   4.280075e-25\n",
       "num_meses_var13_corto_ult3    142.664448   6.959827e-33   6.959827e-33\n",
       "num_meses_var13_largo_ult3     40.959615   1.554076e-10   1.554076e-10\n",
       "num_meses_var17_ult3            4.514503   3.360864e-02   3.360864e-02\n",
       "num_meses_var29_ult3            0.164827   6.847504e-01            NaN\n",
       "num_meses_var33_ult3            2.843273   9.175713e-02            NaN\n",
       "num_meses_var39_vig_ult3        0.950230   3.296607e-01            NaN\n",
       "num_meses_var44_ult3            3.761207   5.245471e-02            NaN\n",
       "num_op_var40_efect_ult1       265.624238   1.020037e-59   1.020037e-59\n",
       "num_op_var40_efect_ult3       348.525945   8.874375e-78   8.874375e-78\n",
       "num_reemb_var17_ult1          152.112970   5.985985e-35   5.985985e-35\n",
       "num_sal_var16_ult1             54.143058   1.864113e-13   1.864113e-13\n",
       "num_trasp_var17_in_hace3        0.370862   5.425349e-01            NaN\n",
       "num_trasp_var33_in_ult1         0.494482   4.819346e-01            NaN\n",
       "num_venta_var44_ult1            9.766025   1.777664e-03   1.777664e-03"
      ]
     },
     "execution_count": 28,
     "metadata": {},
     "output_type": "execute_result"
    }
   ],
   "source": [
    "chi_scores = chi2(train_set[vars_cat10_2],train_set['TARGET'])\n",
    "\n",
    "scores = pd.Series(chi_scores[0], index=vars_cat10_2)\n",
    "pvalues = pd.Series(chi_scores[1], index=vars_cat10_2)\n",
    "\n",
    "teste_chi = pd.DataFrame({'Chi2':scores, 'p-Value':pvalues})\n",
    "teste_chi['associacao'] = teste_chi[teste_chi['p-Value'] <= 0.05]['p-Value']\n",
    "teste_chi"
   ]
  },
  {
   "attachments": {},
   "cell_type": "markdown",
   "metadata": {},
   "source": [
    "##### Remove Variáveis Categóricas sem associação estatisticamente significativa com a TARGET"
   ]
  },
  {
   "cell_type": "code",
   "execution_count": 29,
   "metadata": {},
   "outputs": [
    {
     "name": "stdout",
     "output_type": "stream",
     "text": [
      "20\n"
     ]
    }
   ],
   "source": [
    "to_drop_3 = []\n",
    "to_drop_3 = [columns for columns in teste_chi[teste_chi['p-Value'] > 0.05].index]\n",
    "print(len(to_drop_3))"
   ]
  },
  {
   "cell_type": "code",
   "execution_count": 30,
   "metadata": {},
   "outputs": [
    {
     "name": "stdout",
     "output_type": "stream",
     "text": [
      "#Binarias 80\n",
      "#Ate 10 categorias 40\n",
      "#Continuas 147\n"
     ]
    }
   ],
   "source": [
    "vars_cat10_3 = []\n",
    "\n",
    "vars_cat10_3 = [columns for columns in features_2[vars_cat10_2].columns if columns not in to_drop_3]\n",
    "print('#Binarias',len(vars_bin))\n",
    "print('#Ate 10 categorias',len(vars_cat10_3))\n",
    "print('#Continuas',len(vars_cont_2))"
   ]
  },
  {
   "attachments": {},
   "cell_type": "markdown",
   "metadata": {},
   "source": [
    "##### Utiliza teste Chi-Squared para verificar associação entre Variáveis Binárias e a TARGET"
   ]
  },
  {
   "cell_type": "code",
   "execution_count": 32,
   "metadata": {},
   "outputs": [
    {
     "data": {
      "text/html": [
       "<div>\n",
       "<style scoped>\n",
       "    .dataframe tbody tr th:only-of-type {\n",
       "        vertical-align: middle;\n",
       "    }\n",
       "\n",
       "    .dataframe tbody tr th {\n",
       "        vertical-align: top;\n",
       "    }\n",
       "\n",
       "    .dataframe thead th {\n",
       "        text-align: right;\n",
       "    }\n",
       "</style>\n",
       "<table border=\"1\" class=\"dataframe\">\n",
       "  <thead>\n",
       "    <tr style=\"text-align: right;\">\n",
       "      <th></th>\n",
       "      <th>Chi2</th>\n",
       "      <th>p-Value</th>\n",
       "      <th>associacao</th>\n",
       "    </tr>\n",
       "  </thead>\n",
       "  <tbody>\n",
       "    <tr>\n",
       "      <td>ind_var1_0</td>\n",
       "      <td>0.395146</td>\n",
       "      <td>5.296068e-01</td>\n",
       "      <td>NaN</td>\n",
       "    </tr>\n",
       "    <tr>\n",
       "      <td>ind_var1</td>\n",
       "      <td>7.387847</td>\n",
       "      <td>6.566605e-03</td>\n",
       "      <td>6.566605e-03</td>\n",
       "    </tr>\n",
       "    <tr>\n",
       "      <td>ind_var5_0</td>\n",
       "      <td>2.824111</td>\n",
       "      <td>9.285828e-02</td>\n",
       "      <td>NaN</td>\n",
       "    </tr>\n",
       "    <tr>\n",
       "      <td>ind_var5</td>\n",
       "      <td>330.017318</td>\n",
       "      <td>9.528301e-74</td>\n",
       "      <td>9.528301e-74</td>\n",
       "    </tr>\n",
       "    <tr>\n",
       "      <td>ind_var6_0</td>\n",
       "      <td>0.247241</td>\n",
       "      <td>6.190244e-01</td>\n",
       "      <td>NaN</td>\n",
       "    </tr>\n",
       "    <tr>\n",
       "      <td>...</td>\n",
       "      <td>...</td>\n",
       "      <td>...</td>\n",
       "      <td>...</td>\n",
       "    </tr>\n",
       "    <tr>\n",
       "      <td>num_trasp_var17_in_ult1</td>\n",
       "      <td>0.494482</td>\n",
       "      <td>4.819346e-01</td>\n",
       "      <td>NaN</td>\n",
       "    </tr>\n",
       "    <tr>\n",
       "      <td>num_trasp_var17_out_ult1</td>\n",
       "      <td>0.370862</td>\n",
       "      <td>5.425349e-01</td>\n",
       "      <td>NaN</td>\n",
       "    </tr>\n",
       "    <tr>\n",
       "      <td>num_trasp_var33_in_hace3</td>\n",
       "      <td>0.370862</td>\n",
       "      <td>5.425349e-01</td>\n",
       "      <td>NaN</td>\n",
       "    </tr>\n",
       "    <tr>\n",
       "      <td>num_trasp_var33_out_ult1</td>\n",
       "      <td>0.123621</td>\n",
       "      <td>7.251404e-01</td>\n",
       "      <td>NaN</td>\n",
       "    </tr>\n",
       "    <tr>\n",
       "      <td>num_venta_var44_hace3</td>\n",
       "      <td>0.123621</td>\n",
       "      <td>7.251404e-01</td>\n",
       "      <td>NaN</td>\n",
       "    </tr>\n",
       "  </tbody>\n",
       "</table>\n",
       "<p>80 rows × 3 columns</p>\n",
       "</div>"
      ],
      "text/plain": [
       "                                Chi2       p-Value    associacao\n",
       "ind_var1_0                  0.395146  5.296068e-01           NaN\n",
       "ind_var1                    7.387847  6.566605e-03  6.566605e-03\n",
       "ind_var5_0                  2.824111  9.285828e-02           NaN\n",
       "ind_var5                  330.017318  9.528301e-74  9.528301e-74\n",
       "ind_var6_0                  0.247241  6.190244e-01           NaN\n",
       "...                              ...           ...           ...\n",
       "num_trasp_var17_in_ult1     0.494482  4.819346e-01           NaN\n",
       "num_trasp_var17_out_ult1    0.370862  5.425349e-01           NaN\n",
       "num_trasp_var33_in_hace3    0.370862  5.425349e-01           NaN\n",
       "num_trasp_var33_out_ult1    0.123621  7.251404e-01           NaN\n",
       "num_venta_var44_hace3       0.123621  7.251404e-01           NaN\n",
       "\n",
       "[80 rows x 3 columns]"
      ]
     },
     "execution_count": 32,
     "metadata": {},
     "output_type": "execute_result"
    }
   ],
   "source": [
    "chi_scores = chi2(train_set[vars_bin],train_set['TARGET'])\n",
    "\n",
    "scores = pd.Series(chi_scores[0], index=vars_bin)\n",
    "pvalues = pd.Series(chi_scores[1], index=vars_bin)\n",
    "\n",
    "teste_chi_bin = pd.DataFrame({'Chi2':scores, 'p-Value':pvalues})\n",
    "teste_chi_bin['associacao'] = teste_chi_bin[teste_chi_bin['p-Value'] <= 0.05]['p-Value']\n",
    "teste_chi_bin"
   ]
  },
  {
   "attachments": {},
   "cell_type": "markdown",
   "metadata": {},
   "source": [
    "##### Remove Variáveis Binárias sem associação estatisticamente significativa com a TARGET"
   ]
  },
  {
   "cell_type": "code",
   "execution_count": 33,
   "metadata": {},
   "outputs": [
    {
     "name": "stdout",
     "output_type": "stream",
     "text": [
      "35\n"
     ]
    }
   ],
   "source": [
    "to_drop_4 = []\n",
    "to_drop_4 = [columns for columns in teste_chi_bin[teste_chi_bin['p-Value'] > 0.05].index]\n",
    "print(len(to_drop_4))"
   ]
  },
  {
   "cell_type": "code",
   "execution_count": 34,
   "metadata": {},
   "outputs": [
    {
     "name": "stdout",
     "output_type": "stream",
     "text": [
      "#Binarias 45\n",
      "#Ate 10 categorias 40\n",
      "#Continuas 147\n"
     ]
    }
   ],
   "source": [
    "vars_bin_2 = []\n",
    "\n",
    "vars_bin_2 = [columns for columns in features_2[vars_bin].columns if columns not in to_drop_4]\n",
    "print('#Binarias',len(vars_bin_2))\n",
    "print('#Ate 10 categorias',len(vars_cat10_3))\n",
    "print('#Continuas',len(vars_cont_2))"
   ]
  },
  {
   "cell_type": "code",
   "execution_count": 36,
   "metadata": {},
   "outputs": [
    {
     "data": {
      "text/html": [
       "<div>\n",
       "<style scoped>\n",
       "    .dataframe tbody tr th:only-of-type {\n",
       "        vertical-align: middle;\n",
       "    }\n",
       "\n",
       "    .dataframe tbody tr th {\n",
       "        vertical-align: top;\n",
       "    }\n",
       "\n",
       "    .dataframe thead th {\n",
       "        text-align: right;\n",
       "    }\n",
       "</style>\n",
       "<table border=\"1\" class=\"dataframe\">\n",
       "  <thead>\n",
       "    <tr style=\"text-align: right;\">\n",
       "      <th></th>\n",
       "      <th>var3</th>\n",
       "      <th>var15</th>\n",
       "      <th>imp_ent_var16_ult1</th>\n",
       "      <th>imp_op_var39_comer_ult1</th>\n",
       "      <th>imp_op_var39_comer_ult3</th>\n",
       "      <th>imp_op_var40_comer_ult1</th>\n",
       "      <th>imp_op_var40_comer_ult3</th>\n",
       "      <th>imp_op_var40_efect_ult1</th>\n",
       "      <th>imp_op_var40_efect_ult3</th>\n",
       "      <th>imp_op_var40_ult1</th>\n",
       "      <th>...</th>\n",
       "      <th>saldo_medio_var29_ult3</th>\n",
       "      <th>saldo_medio_var33_hace2</th>\n",
       "      <th>saldo_medio_var33_hace3</th>\n",
       "      <th>saldo_medio_var33_ult1</th>\n",
       "      <th>saldo_medio_var33_ult3</th>\n",
       "      <th>saldo_medio_var44_hace2</th>\n",
       "      <th>saldo_medio_var44_hace3</th>\n",
       "      <th>saldo_medio_var44_ult1</th>\n",
       "      <th>saldo_medio_var44_ult3</th>\n",
       "      <th>var38</th>\n",
       "    </tr>\n",
       "  </thead>\n",
       "  <tbody>\n",
       "    <tr>\n",
       "      <td>61553</td>\n",
       "      <td>2</td>\n",
       "      <td>38</td>\n",
       "      <td>48.0</td>\n",
       "      <td>102.0</td>\n",
       "      <td>209.7</td>\n",
       "      <td>0.0</td>\n",
       "      <td>0.0</td>\n",
       "      <td>0.0</td>\n",
       "      <td>0.0</td>\n",
       "      <td>0.0</td>\n",
       "      <td>...</td>\n",
       "      <td>0.0</td>\n",
       "      <td>0.0</td>\n",
       "      <td>0.0</td>\n",
       "      <td>0.0</td>\n",
       "      <td>0.0</td>\n",
       "      <td>0.0</td>\n",
       "      <td>0.0</td>\n",
       "      <td>0.0</td>\n",
       "      <td>0.0</td>\n",
       "      <td>175887.150000</td>\n",
       "    </tr>\n",
       "    <tr>\n",
       "      <td>6865</td>\n",
       "      <td>2</td>\n",
       "      <td>51</td>\n",
       "      <td>0.0</td>\n",
       "      <td>0.0</td>\n",
       "      <td>0.0</td>\n",
       "      <td>0.0</td>\n",
       "      <td>0.0</td>\n",
       "      <td>0.0</td>\n",
       "      <td>0.0</td>\n",
       "      <td>0.0</td>\n",
       "      <td>...</td>\n",
       "      <td>0.0</td>\n",
       "      <td>0.0</td>\n",
       "      <td>0.0</td>\n",
       "      <td>0.0</td>\n",
       "      <td>0.0</td>\n",
       "      <td>0.0</td>\n",
       "      <td>0.0</td>\n",
       "      <td>0.0</td>\n",
       "      <td>0.0</td>\n",
       "      <td>111297.030000</td>\n",
       "    </tr>\n",
       "    <tr>\n",
       "      <td>847</td>\n",
       "      <td>2</td>\n",
       "      <td>23</td>\n",
       "      <td>0.0</td>\n",
       "      <td>0.0</td>\n",
       "      <td>0.0</td>\n",
       "      <td>0.0</td>\n",
       "      <td>0.0</td>\n",
       "      <td>0.0</td>\n",
       "      <td>0.0</td>\n",
       "      <td>0.0</td>\n",
       "      <td>...</td>\n",
       "      <td>0.0</td>\n",
       "      <td>0.0</td>\n",
       "      <td>0.0</td>\n",
       "      <td>0.0</td>\n",
       "      <td>0.0</td>\n",
       "      <td>0.0</td>\n",
       "      <td>0.0</td>\n",
       "      <td>0.0</td>\n",
       "      <td>0.0</td>\n",
       "      <td>117310.979016</td>\n",
       "    </tr>\n",
       "    <tr>\n",
       "      <td>40817</td>\n",
       "      <td>2</td>\n",
       "      <td>23</td>\n",
       "      <td>0.0</td>\n",
       "      <td>0.0</td>\n",
       "      <td>0.0</td>\n",
       "      <td>0.0</td>\n",
       "      <td>0.0</td>\n",
       "      <td>0.0</td>\n",
       "      <td>0.0</td>\n",
       "      <td>0.0</td>\n",
       "      <td>...</td>\n",
       "      <td>0.0</td>\n",
       "      <td>0.0</td>\n",
       "      <td>0.0</td>\n",
       "      <td>0.0</td>\n",
       "      <td>0.0</td>\n",
       "      <td>0.0</td>\n",
       "      <td>0.0</td>\n",
       "      <td>0.0</td>\n",
       "      <td>0.0</td>\n",
       "      <td>80805.900000</td>\n",
       "    </tr>\n",
       "    <tr>\n",
       "      <td>71630</td>\n",
       "      <td>2</td>\n",
       "      <td>23</td>\n",
       "      <td>0.0</td>\n",
       "      <td>0.0</td>\n",
       "      <td>0.0</td>\n",
       "      <td>0.0</td>\n",
       "      <td>0.0</td>\n",
       "      <td>0.0</td>\n",
       "      <td>0.0</td>\n",
       "      <td>0.0</td>\n",
       "      <td>...</td>\n",
       "      <td>0.0</td>\n",
       "      <td>0.0</td>\n",
       "      <td>0.0</td>\n",
       "      <td>0.0</td>\n",
       "      <td>0.0</td>\n",
       "      <td>0.0</td>\n",
       "      <td>0.0</td>\n",
       "      <td>0.0</td>\n",
       "      <td>0.0</td>\n",
       "      <td>124585.620000</td>\n",
       "    </tr>\n",
       "  </tbody>\n",
       "</table>\n",
       "<p>5 rows × 232 columns</p>\n",
       "</div>"
      ],
      "text/plain": [
       "       var3  var15  imp_ent_var16_ult1  imp_op_var39_comer_ult1  \\\n",
       "61553     2     38                48.0                    102.0   \n",
       "6865      2     51                 0.0                      0.0   \n",
       "847       2     23                 0.0                      0.0   \n",
       "40817     2     23                 0.0                      0.0   \n",
       "71630     2     23                 0.0                      0.0   \n",
       "\n",
       "       imp_op_var39_comer_ult3  imp_op_var40_comer_ult1  \\\n",
       "61553                    209.7                      0.0   \n",
       "6865                       0.0                      0.0   \n",
       "847                        0.0                      0.0   \n",
       "40817                      0.0                      0.0   \n",
       "71630                      0.0                      0.0   \n",
       "\n",
       "       imp_op_var40_comer_ult3  imp_op_var40_efect_ult1  \\\n",
       "61553                      0.0                      0.0   \n",
       "6865                       0.0                      0.0   \n",
       "847                        0.0                      0.0   \n",
       "40817                      0.0                      0.0   \n",
       "71630                      0.0                      0.0   \n",
       "\n",
       "       imp_op_var40_efect_ult3  imp_op_var40_ult1  ...  \\\n",
       "61553                      0.0                0.0  ...   \n",
       "6865                       0.0                0.0  ...   \n",
       "847                        0.0                0.0  ...   \n",
       "40817                      0.0                0.0  ...   \n",
       "71630                      0.0                0.0  ...   \n",
       "\n",
       "       saldo_medio_var29_ult3  saldo_medio_var33_hace2  \\\n",
       "61553                     0.0                      0.0   \n",
       "6865                      0.0                      0.0   \n",
       "847                       0.0                      0.0   \n",
       "40817                     0.0                      0.0   \n",
       "71630                     0.0                      0.0   \n",
       "\n",
       "       saldo_medio_var33_hace3  saldo_medio_var33_ult1  \\\n",
       "61553                      0.0                     0.0   \n",
       "6865                       0.0                     0.0   \n",
       "847                        0.0                     0.0   \n",
       "40817                      0.0                     0.0   \n",
       "71630                      0.0                     0.0   \n",
       "\n",
       "       saldo_medio_var33_ult3  saldo_medio_var44_hace2  \\\n",
       "61553                     0.0                      0.0   \n",
       "6865                      0.0                      0.0   \n",
       "847                       0.0                      0.0   \n",
       "40817                     0.0                      0.0   \n",
       "71630                     0.0                      0.0   \n",
       "\n",
       "       saldo_medio_var44_hace3  saldo_medio_var44_ult1  \\\n",
       "61553                      0.0                     0.0   \n",
       "6865                       0.0                     0.0   \n",
       "847                        0.0                     0.0   \n",
       "40817                      0.0                     0.0   \n",
       "71630                      0.0                     0.0   \n",
       "\n",
       "       saldo_medio_var44_ult3          var38  \n",
       "61553                     0.0  175887.150000  \n",
       "6865                      0.0  111297.030000  \n",
       "847                       0.0  117310.979016  \n",
       "40817                     0.0   80805.900000  \n",
       "71630                     0.0  124585.620000  \n",
       "\n",
       "[5 rows x 232 columns]"
      ]
     },
     "execution_count": 36,
     "metadata": {},
     "output_type": "execute_result"
    }
   ],
   "source": [
    "features_3 = features_2.drop(to_drop_3, axis=1).drop(to_drop_4, axis=1)\n",
    "features_3.head()"
   ]
  },
  {
   "attachments": {},
   "cell_type": "markdown",
   "metadata": {},
   "source": [
    "### **Feature Importance - Random Forest**"
   ]
  },
  {
   "cell_type": "code",
   "execution_count": null,
   "metadata": {},
   "outputs": [
    {
     "data": {
      "text/plain": [
       "((53214, 232), (53214,))"
      ]
     },
     "metadata": {},
     "output_type": "display_data"
    }
   ],
   "source": [
    "#Separa X e Y de treino\n",
    "x_train = []\n",
    "y_train = []\n",
    "x_train = train_set[features_3.columns]\n",
    "y_train = train_set['TARGET']\n",
    "x_train.shape, y_train.shape"
   ]
  },
  {
   "attachments": {},
   "cell_type": "markdown",
   "metadata": {},
   "source": [
    "#### Define Funcao de Lucro (maximizar):"
   ]
  },
  {
   "attachments": {},
   "cell_type": "markdown",
   "metadata": {},
   "source": [
    "##### LUCRO = (-10 * FP)+(90 * TP)\n",
    "##### Lucro Relativo = ((-10 * FP)+(90 * TP))/Lucro Máximo"
   ]
  },
  {
   "cell_type": "code",
   "execution_count": 97,
   "metadata": {},
   "outputs": [],
   "source": [
    "def funcao_lucro(y_true, y_pred):\n",
    "\n",
    "    cm = confusion_matrix(y_true, y_pred).ravel().tolist()\n",
    "    fp = cm[1]\n",
    "    tp = cm[3]\n",
    "\n",
    "    lucro_max = sum(y_true)*90\n",
    "    \n",
    "    lucro_rel = ((-10*fp)+(90*tp))/lucro_max\n",
    "\n",
    "    return lucro_rel\n",
    "\n",
    "lucro = make_scorer(funcao_lucro, greater_is_better=True)"
   ]
  },
  {
   "attachments": {},
   "cell_type": "markdown",
   "metadata": {},
   "source": [
    "##### Lucro Maximo (100% acerto)"
   ]
  },
  {
   "cell_type": "code",
   "execution_count": null,
   "metadata": {},
   "outputs": [
    {
     "name": "stdout",
     "output_type": "stream",
     "text": [
      "Lucro Maximo: 189540.00\n"
     ]
    }
   ],
   "source": [
    "LM = sum(y_train)*90\n",
    "print('Lucro Maximo: %.2f' % LM)"
   ]
  },
  {
   "attachments": {},
   "cell_type": "markdown",
   "metadata": {},
   "source": [
    "#### Random Forest"
   ]
  },
  {
   "attachments": {},
   "cell_type": "markdown",
   "metadata": {},
   "source": [
    "##### Utiliza class_weight para dados desbalanceados"
   ]
  },
  {
   "cell_type": "code",
   "execution_count": null,
   "metadata": {},
   "outputs": [],
   "source": [
    "#Como os dados nao sao balanceados\n",
    "#Another approach to make random forest more suitable for learning from extremely imbalanced data follows the idea of cost\n",
    "# sensitive learning. Since the RF classifier tends to be biased towards the majority class, we shall place a heavier penalty\n",
    "# on misclassifying the minority class.\n",
    "#class weight = balanced -> This argument takes a dictionary with a mapping of each class value (e.g. 0 and 1) to the weighting. The argument value of\n",
    "# ‘balanced‘ can be provided to automatically use the inverse weighting from the training dataset, giving focus to the\n",
    "# minority class.\n",
    "#class_weight='balanced_subsample' -> Given that each decision tree is constructed from a bootstrap sample (e.g. random selection with replacement), the class\n",
    "# distribution in the data sample will be different for each tree.\n",
    "#As such, it might be interesting to change the class weighting based on the class distribution in each bootstrap sample,\n",
    "# instead of the entire training dataset."
   ]
  },
  {
   "attachments": {},
   "cell_type": "markdown",
   "metadata": {},
   "source": [
    "##### Modelo Base"
   ]
  },
  {
   "cell_type": "code",
   "execution_count": 100,
   "metadata": {},
   "outputs": [
    {
     "name": "stdout",
     "output_type": "stream",
     "text": [
      "Media Lucro Relativo: 0.042\n"
     ]
    }
   ],
   "source": [
    "rnd_clf = RandomForestClassifier(n_estimators = 10, class_weight='balanced_subsample',random_state=42)\n",
    "\n",
    "scores = cross_val_score(rnd_clf, x_train, y_train, scoring=lucro, cv=10) #para classificacao o cv ja eh estratificado pela target\n",
    "\n",
    "print('Media Lucro Relativo: %.3f' % mean(scores))"
   ]
  },
  {
   "attachments": {},
   "cell_type": "markdown",
   "metadata": {},
   "source": [
    "##### Grid Search: buscar hiperparametros melhores"
   ]
  },
  {
   "cell_type": "code",
   "execution_count": 101,
   "metadata": {},
   "outputs": [
    {
     "data": {
      "text/plain": [
       "GridSearchCV(cv=10, error_score='raise-deprecating',\n",
       "             estimator=RandomForestClassifier(bootstrap=True, class_weight=None,\n",
       "                                              criterion='gini', max_depth=None,\n",
       "                                              max_features='auto',\n",
       "                                              max_leaf_nodes=None,\n",
       "                                              min_impurity_decrease=0.0,\n",
       "                                              min_impurity_split=None,\n",
       "                                              min_samples_leaf=1,\n",
       "                                              min_samples_split=2,\n",
       "                                              min_weight_fraction_leaf=0.0,\n",
       "                                              n_estimators='warn', n_jobs=None,\n",
       "                                              oob_score=False,\n",
       "                                              random_state=None, verbose=0,\n",
       "                                              warm_start=False),\n",
       "             iid='warn', n_jobs=None,\n",
       "             param_grid={'class_weight': ['balanced_subsample'],\n",
       "                         'criterion': ['gini'], 'max_depth': range(5, 20, 5),\n",
       "                         'max_features': ['sqrt', 'log2'],\n",
       "                         'n_estimators': [30, 50, 100]},\n",
       "             pre_dispatch='2*n_jobs', refit=True, return_train_score=False,\n",
       "             scoring=make_scorer(funcao_lucro), verbose=0)"
      ]
     },
     "execution_count": 101,
     "metadata": {},
     "output_type": "execute_result"
    }
   ],
   "source": [
    "#Foi testado 'n_estimators': [10,30,50] E 'max_depth': range(5,50,10) E 'max_features': ['sqrt','log2'] -> best = 50, 5, sqrt\n",
    "#Foi testado 'n_estimators': [30,50,100] E 'max_depth': range(5,20,10) E 'max_features': ['sqrt','log2'] -> best = 100, 5, sqrt\n",
    "\n",
    "grid_param = {\n",
    "    'n_estimators': [30,50,100],\n",
    "    'criterion': ['gini'], #default\n",
    "    'max_depth': range(5,20,5),\n",
    "    'max_features': ['sqrt','log2'],\n",
    "    'class_weight':['balanced_subsample']\n",
    "}\n",
    "\n",
    "rnd_clf = RandomForestClassifier()\n",
    "\n",
    "grid_search = GridSearchCV(rnd_clf,grid_param,scoring=lucro,cv=10)\n",
    "\n",
    "grid_search.fit(x_train,y_train)"
   ]
  },
  {
   "cell_type": "code",
   "execution_count": 102,
   "metadata": {},
   "outputs": [
    {
     "data": {
      "text/plain": [
       "RandomForestClassifier(bootstrap=True, class_weight='balanced_subsample',\n",
       "                       criterion='gini', max_depth=15, max_features='sqrt',\n",
       "                       max_leaf_nodes=None, min_impurity_decrease=0.0,\n",
       "                       min_impurity_split=None, min_samples_leaf=1,\n",
       "                       min_samples_split=2, min_weight_fraction_leaf=0.0,\n",
       "                       n_estimators=100, n_jobs=None, oob_score=False,\n",
       "                       random_state=None, verbose=0, warm_start=False)"
      ]
     },
     "execution_count": 102,
     "metadata": {},
     "output_type": "execute_result"
    }
   ],
   "source": [
    "grid_search.best_estimator_"
   ]
  },
  {
   "cell_type": "code",
   "execution_count": 103,
   "metadata": {},
   "outputs": [
    {
     "data": {
      "text/plain": [
       "{'class_weight': 'balanced_subsample',\n",
       " 'criterion': 'gini',\n",
       " 'max_depth': 15,\n",
       " 'max_features': 'sqrt',\n",
       " 'n_estimators': 100}"
      ]
     },
     "execution_count": 103,
     "metadata": {},
     "output_type": "execute_result"
    }
   ],
   "source": [
    "grid_search.best_params_"
   ]
  },
  {
   "cell_type": "code",
   "execution_count": 104,
   "metadata": {},
   "outputs": [
    {
     "name": "stdout",
     "output_type": "stream",
     "text": [
      "-0.05944055932687189 {'class_weight': 'balanced_subsample', 'criterion': 'gini', 'max_depth': 5, 'max_features': 'sqrt', 'n_estimators': 30}\n",
      "-0.0628360272761926 {'class_weight': 'balanced_subsample', 'criterion': 'gini', 'max_depth': 5, 'max_features': 'sqrt', 'n_estimators': 50}\n",
      "-0.061029608693783946 {'class_weight': 'balanced_subsample', 'criterion': 'gini', 'max_depth': 5, 'max_features': 'sqrt', 'n_estimators': 100}\n",
      "-0.08619003933510663 {'class_weight': 'balanced_subsample', 'criterion': 'gini', 'max_depth': 5, 'max_features': 'log2', 'n_estimators': 30}\n",
      "-0.08911168922703322 {'class_weight': 'balanced_subsample', 'criterion': 'gini', 'max_depth': 5, 'max_features': 'log2', 'n_estimators': 50}\n",
      "-0.08430705900533086 {'class_weight': 'balanced_subsample', 'criterion': 'gini', 'max_depth': 5, 'max_features': 'log2', 'n_estimators': 100}\n",
      "0.0924482576631986 {'class_weight': 'balanced_subsample', 'criterion': 'gini', 'max_depth': 10, 'max_features': 'sqrt', 'n_estimators': 30}\n",
      "0.06413962267052632 {'class_weight': 'balanced_subsample', 'criterion': 'gini', 'max_depth': 10, 'max_features': 'sqrt', 'n_estimators': 50}\n",
      "0.08119004401438716 {'class_weight': 'balanced_subsample', 'criterion': 'gini', 'max_depth': 10, 'max_features': 'sqrt', 'n_estimators': 100}\n",
      "-0.03447215952622451 {'class_weight': 'balanced_subsample', 'criterion': 'gini', 'max_depth': 10, 'max_features': 'log2', 'n_estimators': 30}\n",
      "-0.044850908004681986 {'class_weight': 'balanced_subsample', 'criterion': 'gini', 'max_depth': 10, 'max_features': 'log2', 'n_estimators': 50}\n",
      "-0.043093814882400966 {'class_weight': 'balanced_subsample', 'criterion': 'gini', 'max_depth': 10, 'max_features': 'log2', 'n_estimators': 100}\n",
      "0.17384894813821242 {'class_weight': 'balanced_subsample', 'criterion': 'gini', 'max_depth': 15, 'max_features': 'sqrt', 'n_estimators': 30}\n",
      "0.1766050666196051 {'class_weight': 'balanced_subsample', 'criterion': 'gini', 'max_depth': 15, 'max_features': 'sqrt', 'n_estimators': 50}\n",
      "0.1882499404348321 {'class_weight': 'balanced_subsample', 'criterion': 'gini', 'max_depth': 15, 'max_features': 'sqrt', 'n_estimators': 100}\n",
      "0.04023111007124586 {'class_weight': 'balanced_subsample', 'criterion': 'gini', 'max_depth': 15, 'max_features': 'log2', 'n_estimators': 30}\n",
      "0.012161310222603288 {'class_weight': 'balanced_subsample', 'criterion': 'gini', 'max_depth': 15, 'max_features': 'log2', 'n_estimators': 50}\n",
      "0.02665809304664632 {'class_weight': 'balanced_subsample', 'criterion': 'gini', 'max_depth': 15, 'max_features': 'log2', 'n_estimators': 100}\n"
     ]
    }
   ],
   "source": [
    "cvres = grid_search.cv_results_\n",
    "for mean_score, params in zip(cvres['mean_test_score'],cvres['params']):\n",
    "    print(mean_score,params)"
   ]
  },
  {
   "attachments": {},
   "cell_type": "markdown",
   "metadata": {},
   "source": [
    "##### Modelo Otimizado"
   ]
  },
  {
   "cell_type": "code",
   "execution_count": 105,
   "metadata": {},
   "outputs": [
    {
     "name": "stdout",
     "output_type": "stream",
     "text": [
      "Media Lucro Relativo: 0.184\n"
     ]
    }
   ],
   "source": [
    "rnd_clf = RandomForestClassifier(criterion = 'gini',\n",
    " max_depth = 15,\n",
    " max_features = 'sqrt',\n",
    " n_estimators = 100,\n",
    " class_weight = 'balanced_subsample', random_state=42)\n",
    "\n",
    "scores = cross_val_score(rnd_clf, x_train, y_train, scoring=lucro, cv=10) #para classificacao o cv ja eh estratificado pela target\n",
    "\n",
    "print('Media Lucro Relativo: %.3f' % mean(scores))"
   ]
  },
  {
   "attachments": {},
   "cell_type": "markdown",
   "metadata": {},
   "source": [
    "##### Verifica Feature Importance abaixo de limiar escolhido (0.01)"
   ]
  },
  {
   "cell_type": "code",
   "execution_count": 106,
   "metadata": {},
   "outputs": [
    {
     "data": {
      "text/plain": [
       "var15                        0.168336\n",
       "saldo_var30                  0.044406\n",
       "var38                        0.044155\n",
       "saldo_medio_var5_hace2       0.040667\n",
       "saldo_medio_var5_hace3       0.038507\n",
       "                               ...   \n",
       "delta_imp_amort_var18_1y3    0.000000\n",
       "imp_amort_var18_ult1         0.000000\n",
       "imp_var7_emit_ult1           0.000000\n",
       "imp_aport_var33_ult1         0.000000\n",
       "delta_num_aport_var17_1y3    0.000000\n",
       "Length: 232, dtype: float64"
      ]
     },
     "execution_count": 106,
     "metadata": {},
     "output_type": "execute_result"
    }
   ],
   "source": [
    "rnd_clf.fit(x_train,y_train)\n",
    "\n",
    "feature_scores = pd.Series(rnd_clf.feature_importances_, index=x_train.columns).sort_values(ascending=False)\n",
    "\n",
    "feature_scores.to_csv('feature_importance.csv',header=False)\n",
    "\n",
    "feature_scores"
   ]
  },
  {
   "cell_type": "code",
   "execution_count": 219,
   "metadata": {},
   "outputs": [
    {
     "data": {
      "text/plain": [
       "211"
      ]
     },
     "execution_count": 219,
     "metadata": {},
     "output_type": "execute_result"
    }
   ],
   "source": [
    "(feature_scores <= 0.01).sum()"
   ]
  },
  {
   "cell_type": "code",
   "execution_count": 110,
   "metadata": {},
   "outputs": [
    {
     "data": {
      "text/plain": [
       "<matplotlib.axes._subplots.AxesSubplot at 0x7f7ed2807e90>"
      ]
     },
     "execution_count": 110,
     "metadata": {},
     "output_type": "execute_result"
    },
    {
     "data": {
      "image/png": "[encoded data removed]",
      "text/plain": [
       "<Figure size 800x640 with 1 Axes>"
      ]
     },
     "metadata": {},
     "output_type": "display_data"
    }
   ],
   "source": [
    "plt.figure(num=None, figsize=(10,8), dpi=80, facecolor='w', edgecolor='k')\n",
    "\n",
    "feat_importance = pd.Series(rnd_clf.feature_importances_, index= x_train.columns)\n",
    "\n",
    "feat_importance.nlargest(19).plot(kind='barh')"
   ]
  },
  {
   "attachments": {},
   "cell_type": "markdown",
   "metadata": {},
   "source": [
    "##### Remove Variáveis com Feature Importance abaixo de 0.01"
   ]
  },
  {
   "cell_type": "code",
   "execution_count": 222,
   "metadata": {},
   "outputs": [],
   "source": [
    "to_drop_4 = []\n",
    "# to_drop_4 = feature_scores.loc[lambda x: x <= feature_scores.get(key='random_var')].index[1:]\n",
    "to_drop_4 = feature_scores.loc[lambda x: x <= 0.01].index"
   ]
  },
  {
   "cell_type": "code",
   "execution_count": 223,
   "metadata": {},
   "outputs": [
    {
     "data": {
      "text/html": [
       "<div>\n",
       "<style scoped>\n",
       "    .dataframe tbody tr th:only-of-type {\n",
       "        vertical-align: middle;\n",
       "    }\n",
       "\n",
       "    .dataframe tbody tr th {\n",
       "        vertical-align: top;\n",
       "    }\n",
       "\n",
       "    .dataframe thead th {\n",
       "        text-align: right;\n",
       "    }\n",
       "</style>\n",
       "<table border=\"1\" class=\"dataframe\">\n",
       "  <thead>\n",
       "    <tr style=\"text-align: right;\">\n",
       "      <th></th>\n",
       "      <th>var15</th>\n",
       "      <th>ind_var30</th>\n",
       "      <th>num_var4</th>\n",
       "      <th>num_var30</th>\n",
       "      <th>num_var35</th>\n",
       "      <th>num_var42</th>\n",
       "      <th>saldo_var5</th>\n",
       "      <th>saldo_var30</th>\n",
       "      <th>saldo_var42</th>\n",
       "      <th>num_var22_ult3</th>\n",
       "      <th>...</th>\n",
       "      <th>num_meses_var5_ult3</th>\n",
       "      <th>num_var45_hace2</th>\n",
       "      <th>num_var45_hace3</th>\n",
       "      <th>num_var45_ult1</th>\n",
       "      <th>num_var45_ult3</th>\n",
       "      <th>saldo_medio_var5_hace2</th>\n",
       "      <th>saldo_medio_var5_hace3</th>\n",
       "      <th>saldo_medio_var5_ult1</th>\n",
       "      <th>saldo_medio_var5_ult3</th>\n",
       "      <th>var38</th>\n",
       "    </tr>\n",
       "  </thead>\n",
       "  <tbody>\n",
       "    <tr>\n",
       "      <td>61553</td>\n",
       "      <td>38</td>\n",
       "      <td>1</td>\n",
       "      <td>4</td>\n",
       "      <td>6</td>\n",
       "      <td>12</td>\n",
       "      <td>6</td>\n",
       "      <td>0.3</td>\n",
       "      <td>64139.49</td>\n",
       "      <td>64139.49</td>\n",
       "      <td>3</td>\n",
       "      <td>...</td>\n",
       "      <td>3</td>\n",
       "      <td>15</td>\n",
       "      <td>3</td>\n",
       "      <td>12</td>\n",
       "      <td>30</td>\n",
       "      <td>129.18</td>\n",
       "      <td>12.60</td>\n",
       "      <td>176.07</td>\n",
       "      <td>105.96</td>\n",
       "      <td>175887.150000</td>\n",
       "    </tr>\n",
       "    <tr>\n",
       "      <td>6865</td>\n",
       "      <td>51</td>\n",
       "      <td>1</td>\n",
       "      <td>1</td>\n",
       "      <td>3</td>\n",
       "      <td>3</td>\n",
       "      <td>3</td>\n",
       "      <td>1.5</td>\n",
       "      <td>1.50</td>\n",
       "      <td>1.50</td>\n",
       "      <td>3</td>\n",
       "      <td>...</td>\n",
       "      <td>3</td>\n",
       "      <td>0</td>\n",
       "      <td>3</td>\n",
       "      <td>3</td>\n",
       "      <td>6</td>\n",
       "      <td>1.50</td>\n",
       "      <td>0.72</td>\n",
       "      <td>1.50</td>\n",
       "      <td>1.23</td>\n",
       "      <td>111297.030000</td>\n",
       "    </tr>\n",
       "    <tr>\n",
       "      <td>847</td>\n",
       "      <td>23</td>\n",
       "      <td>1</td>\n",
       "      <td>1</td>\n",
       "      <td>3</td>\n",
       "      <td>3</td>\n",
       "      <td>3</td>\n",
       "      <td>3.0</td>\n",
       "      <td>3.00</td>\n",
       "      <td>3.00</td>\n",
       "      <td>0</td>\n",
       "      <td>...</td>\n",
       "      <td>3</td>\n",
       "      <td>0</td>\n",
       "      <td>0</td>\n",
       "      <td>0</td>\n",
       "      <td>0</td>\n",
       "      <td>3.00</td>\n",
       "      <td>0.72</td>\n",
       "      <td>3.00</td>\n",
       "      <td>2.25</td>\n",
       "      <td>117310.979016</td>\n",
       "    </tr>\n",
       "    <tr>\n",
       "      <td>40817</td>\n",
       "      <td>23</td>\n",
       "      <td>0</td>\n",
       "      <td>0</td>\n",
       "      <td>0</td>\n",
       "      <td>0</td>\n",
       "      <td>0</td>\n",
       "      <td>0.0</td>\n",
       "      <td>0.00</td>\n",
       "      <td>0.00</td>\n",
       "      <td>0</td>\n",
       "      <td>...</td>\n",
       "      <td>0</td>\n",
       "      <td>0</td>\n",
       "      <td>0</td>\n",
       "      <td>0</td>\n",
       "      <td>0</td>\n",
       "      <td>0.00</td>\n",
       "      <td>0.00</td>\n",
       "      <td>0.00</td>\n",
       "      <td>0.00</td>\n",
       "      <td>80805.900000</td>\n",
       "    </tr>\n",
       "    <tr>\n",
       "      <td>71630</td>\n",
       "      <td>23</td>\n",
       "      <td>1</td>\n",
       "      <td>1</td>\n",
       "      <td>3</td>\n",
       "      <td>3</td>\n",
       "      <td>3</td>\n",
       "      <td>120.0</td>\n",
       "      <td>120.00</td>\n",
       "      <td>120.00</td>\n",
       "      <td>9</td>\n",
       "      <td>...</td>\n",
       "      <td>3</td>\n",
       "      <td>12</td>\n",
       "      <td>0</td>\n",
       "      <td>0</td>\n",
       "      <td>12</td>\n",
       "      <td>91.98</td>\n",
       "      <td>68.28</td>\n",
       "      <td>120.00</td>\n",
       "      <td>93.42</td>\n",
       "      <td>124585.620000</td>\n",
       "    </tr>\n",
       "  </tbody>\n",
       "</table>\n",
       "<p>5 rows × 21 columns</p>\n",
       "</div>"
      ],
      "text/plain": [
       "       var15  ind_var30  num_var4  num_var30  num_var35  num_var42  \\\n",
       "61553     38          1         4          6         12          6   \n",
       "6865      51          1         1          3          3          3   \n",
       "847       23          1         1          3          3          3   \n",
       "40817     23          0         0          0          0          0   \n",
       "71630     23          1         1          3          3          3   \n",
       "\n",
       "       saldo_var5  saldo_var30  saldo_var42  num_var22_ult3  ...  \\\n",
       "61553         0.3     64139.49     64139.49               3  ...   \n",
       "6865          1.5         1.50         1.50               3  ...   \n",
       "847           3.0         3.00         3.00               0  ...   \n",
       "40817         0.0         0.00         0.00               0  ...   \n",
       "71630       120.0       120.00       120.00               9  ...   \n",
       "\n",
       "       num_meses_var5_ult3  num_var45_hace2  num_var45_hace3  num_var45_ult1  \\\n",
       "61553                    3               15                3              12   \n",
       "6865                     3                0                3               3   \n",
       "847                      3                0                0               0   \n",
       "40817                    0                0                0               0   \n",
       "71630                    3               12                0               0   \n",
       "\n",
       "       num_var45_ult3  saldo_medio_var5_hace2  saldo_medio_var5_hace3  \\\n",
       "61553              30                  129.18                   12.60   \n",
       "6865                6                    1.50                    0.72   \n",
       "847                 0                    3.00                    0.72   \n",
       "40817               0                    0.00                    0.00   \n",
       "71630              12                   91.98                   68.28   \n",
       "\n",
       "       saldo_medio_var5_ult1  saldo_medio_var5_ult3          var38  \n",
       "61553                 176.07                 105.96  175887.150000  \n",
       "6865                    1.50                   1.23  111297.030000  \n",
       "847                     3.00                   2.25  117310.979016  \n",
       "40817                   0.00                   0.00   80805.900000  \n",
       "71630                 120.00                  93.42  124585.620000  \n",
       "\n",
       "[5 rows x 21 columns]"
      ]
     },
     "execution_count": 223,
     "metadata": {},
     "output_type": "execute_result"
    }
   ],
   "source": [
    "features_4 = features_3.drop(to_drop_4, axis=1)\n",
    "features_4.head()"
   ]
  },
  {
   "attachments": {},
   "cell_type": "markdown",
   "metadata": {},
   "source": [
    "##### Modelo Otimizado com Variáveis Selecionadas"
   ]
  },
  {
   "cell_type": "code",
   "execution_count": 224,
   "metadata": {},
   "outputs": [
    {
     "data": {
      "text/plain": [
       "((53214, 21), (53214,))"
      ]
     },
     "execution_count": 224,
     "metadata": {},
     "output_type": "execute_result"
    }
   ],
   "source": [
    "#Separa X e Y de treino\n",
    "x_train_fs = []\n",
    "y_train_fs = []\n",
    "x_train_fs = train_set[features_4.columns]\n",
    "y_train_fs = train_set['TARGET']\n",
    "x_train_fs.shape, y_train_fs.shape"
   ]
  },
  {
   "cell_type": "code",
   "execution_count": 225,
   "metadata": {},
   "outputs": [
    {
     "name": "stdout",
     "output_type": "stream",
     "text": [
      "Media Lucro Relativo: 0.209\n"
     ]
    }
   ],
   "source": [
    "rnd_clf_fs = RandomForestClassifier(criterion = 'gini',\n",
    " max_depth = 15,\n",
    " max_features = 'sqrt',\n",
    " n_estimators = 100,\n",
    " class_weight = 'balanced_subsample', random_state=42)\n",
    "\n",
    "scores_fs = cross_val_score(rnd_clf_fs, x_train_fs, y_train_fs, scoring=lucro, cv=10) #para classificacao o cv ja eh estratificado pela target\n",
    "\n",
    "print('Media Lucro Relativo: %.3f' % mean(scores_fs))"
   ]
  },
  {
   "attachments": {},
   "cell_type": "markdown",
   "metadata": {},
   "source": [
    "# **Define Modelo**"
   ]
  },
  {
   "cell_type": "code",
   "execution_count": 226,
   "metadata": {},
   "outputs": [
    {
     "data": {
      "text/plain": [
       "((53214, 21), (53214,))"
      ]
     },
     "execution_count": 226,
     "metadata": {},
     "output_type": "execute_result"
    }
   ],
   "source": [
    "#Separa X e Y de treino\n",
    "x_train_xgb = train_set[features_4.columns]\n",
    "y_train_xgb = train_set['TARGET']\n",
    "x_train_xgb.shape, y_train_xgb.shape"
   ]
  },
  {
   "cell_type": "code",
   "execution_count": 227,
   "metadata": {},
   "outputs": [
    {
     "data": {
      "text/plain": [
       "((22806, 21), (22806,))"
      ]
     },
     "execution_count": 227,
     "metadata": {},
     "output_type": "execute_result"
    }
   ],
   "source": [
    "#Separa X e Y de teste\n",
    "x_test_xgb = test_set[features_4.columns]\n",
    "y_test_xgb = test_set['TARGET']\n",
    "x_test_xgb.shape, y_test_xgb.shape"
   ]
  },
  {
   "attachments": {},
   "cell_type": "markdown",
   "metadata": {},
   "source": [
    "#### Para Comparação: Acao para todos os clientes"
   ]
  },
  {
   "cell_type": "code",
   "execution_count": 205,
   "metadata": {},
   "outputs": [
    {
     "name": "stdout",
     "output_type": "stream",
     "text": [
      "ROC AUC: 0.500\n",
      "Lucro Relativo: -1.696\n",
      "Lucro Total: -321540.00\n"
     ]
    }
   ],
   "source": [
    "y_acao = pd.Series(np.ones(len(y_train_xgb)),name='TARGET',dtype=int)\n",
    "\n",
    "auc = roc_auc_score(y_train, y_acao.to_list())\n",
    "print('ROC AUC: %.3f' % auc)\n",
    "LR = funcao_lucro(y_train,y_acao.to_list())\n",
    "print('Lucro Relativo: %.3f' % LR)\n",
    "print('Lucro Total: %.2f' % (LR*LM))"
   ]
  },
  {
   "attachments": {},
   "cell_type": "markdown",
   "metadata": {},
   "source": [
    "### XGBoost"
   ]
  },
  {
   "attachments": {},
   "cell_type": "markdown",
   "metadata": {},
   "source": [
    "#### Usa scale_pos_weight para dados desbalanceados"
   ]
  },
  {
   "cell_type": "code",
   "execution_count": null,
   "metadata": {},
   "outputs": [],
   "source": [
    "#Gerar um modelo com Gradiente Boosting\n",
    "#implementacao otimizada: XGBoost - rapido, escalonavel e portatil"
   ]
  },
  {
   "attachments": {},
   "cell_type": "markdown",
   "metadata": {},
   "source": [
    "##### Modelo Base"
   ]
  },
  {
   "cell_type": "code",
   "execution_count": 228,
   "metadata": {},
   "outputs": [
    {
     "name": "stdout",
     "output_type": "stream",
     "text": [
      "ROC AUC: 0.902\n",
      "ROC AUC Teste: 0.728\n",
      "Lucro Relativo: 0.573\n",
      "Lucro Relativo Teste: 0.207\n",
      "Lucro Total: 108650.00\n",
      "Lucro Total Teste: 39178.14\n"
     ]
    }
   ],
   "source": [
    "XGB = XGBClassifier(\n",
    "   scale_pos_weight = sum(y_train_xgb == 0) / sum(y_train_xgb == 1),\n",
    "   # max_depth = 6,\n",
    "   # learning_rate = 0.3,\n",
    "   random_state = 42\n",
    ")\n",
    "XGB.fit(x_train_xgb,y_train_xgb)\n",
    "y_p_train = XGB.predict(x_train_xgb)\n",
    "y_p_test = XGB.predict(x_test_xgb)\n",
    "\n",
    "auc = roc_auc_score(y_train_xgb, y_p_train)\n",
    "auc_test = roc_auc_score(y_test_xgb, y_p_test)\n",
    "print('ROC AUC: %.3f' % auc)\n",
    "print('ROC AUC Teste: %.3f' % auc_test)\n",
    "\n",
    "LR = funcao_lucro(y_train_xgb, y_p_train)\n",
    "LR_test = funcao_lucro(y_test_xgb, y_p_test)\n",
    "print('Lucro Relativo: %.3f' % LR)\n",
    "print('Lucro Relativo Teste: %.3f' % LR_test)\n",
    "print('Lucro Total: %.2f' % (LR*LM))\n",
    "print('Lucro Total Teste: %.2f' % (LR_test*LM))"
   ]
  },
  {
   "cell_type": "code",
   "execution_count": 207,
   "metadata": {},
   "outputs": [
    {
     "data": {
      "text/plain": [
       "{'objective': 'binary:logistic',\n",
       " 'base_score': 0.5,\n",
       " 'booster': 'gbtree',\n",
       " 'colsample_bylevel': 1,\n",
       " 'colsample_bynode': 1,\n",
       " 'colsample_bytree': 1,\n",
       " 'eval_metric': None,\n",
       " 'gamma': 0,\n",
       " 'gpu_id': -1,\n",
       " 'grow_policy': 'depthwise',\n",
       " 'interaction_constraints': '',\n",
       " 'learning_rate': 0.300000012,\n",
       " 'max_bin': 256,\n",
       " 'max_cat_to_onehot': 4,\n",
       " 'max_delta_step': 0,\n",
       " 'max_depth': 6,\n",
       " 'max_leaves': 0,\n",
       " 'min_child_weight': 1,\n",
       " 'monotone_constraints': '()',\n",
       " 'n_jobs': 0,\n",
       " 'num_parallel_tree': 1,\n",
       " 'predictor': 'auto',\n",
       " 'random_state': 42,\n",
       " 'reg_alpha': 0,\n",
       " 'reg_lambda': 1,\n",
       " 'sampling_method': 'uniform',\n",
       " 'scale_pos_weight': 24.267806267806268,\n",
       " 'subsample': 1,\n",
       " 'tree_method': 'exact',\n",
       " 'validate_parameters': 1,\n",
       " 'verbosity': None}"
      ]
     },
     "execution_count": 207,
     "metadata": {},
     "output_type": "execute_result"
    }
   ],
   "source": [
    "XGB.get_xgb_params()"
   ]
  },
  {
   "attachments": {},
   "cell_type": "markdown",
   "metadata": {},
   "source": [
    "#### Define Hiperparâmetros"
   ]
  },
  {
   "cell_type": "code",
   "execution_count": null,
   "metadata": {},
   "outputs": [],
   "source": [
    "# Rodei com max_depth ate 9 e n_estimators ate 100, mas o modelo overfitou"
   ]
  },
  {
   "cell_type": "code",
   "execution_count": 229,
   "metadata": {},
   "outputs": [],
   "source": [
    "XGB_grid_param = {\n",
    "    'n_estimators': range(10,80,10),\n",
    "    'max_depth': range(3,7,3), #default 6\n",
    "    'learning_rate': [0.001,0.01,0.1], #default 0.3\n",
    "    'subsample': np.arange(0.25,1.01,0.25), #default 1\n",
    "    'colsample_bytree': np.arange(0.25,1.01,0.25), #default 1\n",
    "}"
   ]
  },
  {
   "attachments": {},
   "cell_type": "markdown",
   "metadata": {},
   "source": [
    "#### Random Search para escolher Hiperparâmetros"
   ]
  },
  {
   "cell_type": "code",
   "execution_count": null,
   "metadata": {},
   "outputs": [],
   "source": [
    "#Faz Random Search para ver se teriamos algum valor melhor para os hiperparametros\n",
    "#Random Search eh melhor para tunar hiperparametros com XGBoost, pois ele considera algumas combinacoes aleatorias de parametros e nao\n",
    "# todas (como o Grid Search). Logo, como o XGBoost faz modelos sequenciais e, consequentemente, demora mais, melhor usar o Random. \n",
    "#https://xgboost.readthedocs.io/en/stable/parameter.html"
   ]
  },
  {
   "cell_type": "code",
   "execution_count": 230,
   "metadata": {},
   "outputs": [
    {
     "data": {
      "text/plain": [
       "RandomizedSearchCV(cv=5, error_score='raise-deprecating',\n",
       "                   estimator=XGBClassifier(base_score=0.5, booster='gbtree',\n",
       "                                           callbacks=None, colsample_bylevel=1,\n",
       "                                           colsample_bynode=1,\n",
       "                                           colsample_bytree=1,\n",
       "                                           early_stopping_rounds=None,\n",
       "                                           enable_categorical=False,\n",
       "                                           eval_metric=None, gamma=0, gpu_id=-1,\n",
       "                                           grow_policy='depthwise',\n",
       "                                           importance_type=None,\n",
       "                                           interaction_constraints='',\n",
       "                                           learni...\n",
       "                                           reg_alpha=0, ...),\n",
       "                   iid='warn', n_iter=100, n_jobs=-1,\n",
       "                   param_distributions={'colsample_bytree': array([0.25, 0.5 , 0.75, 1.  ]),\n",
       "                                        'learning_rate': [0.001, 0.01, 0.1],\n",
       "                                        'max_depth': range(3, 7, 3),\n",
       "                                        'n_estimators': range(10, 80, 10),\n",
       "                                        'subsample': array([0.25, 0.5 , 0.75, 1.  ])},\n",
       "                   pre_dispatch='2*n_jobs', random_state=None, refit=True,\n",
       "                   return_train_score=False, scoring=make_scorer(funcao_lucro),\n",
       "                   verbose=0)"
      ]
     },
     "execution_count": 230,
     "metadata": {},
     "output_type": "execute_result"
    }
   ],
   "source": [
    "random_search = RandomizedSearchCV(estimator=XGB, \n",
    "                           param_distributions=XGB_grid_param,\n",
    "                           n_iter=100,\n",
    "                           scoring=lucro, \n",
    "                           n_jobs=-1, \n",
    "                           cv=5)\n",
    "\n",
    "random_search.fit(x_train_xgb,y_train_xgb)"
   ]
  },
  {
   "cell_type": "code",
   "execution_count": 231,
   "metadata": {},
   "outputs": [
    {
     "data": {
      "text/plain": [
       "XGBClassifier(base_score=0.5, booster='gbtree', callbacks=None,\n",
       "              colsample_bylevel=1, colsample_bynode=1, colsample_bytree=1.0,\n",
       "              early_stopping_rounds=None, enable_categorical=False,\n",
       "              eval_metric=None, gamma=0, gpu_id=-1, grow_policy='depthwise',\n",
       "              importance_type=None, interaction_constraints='',\n",
       "              learning_rate=0.01, max_bin=256, max_cat_to_onehot=4,\n",
       "              max_delta_step=0, max_depth=6, max_leaves=0, min_child_weight=1,\n",
       "              missing=nan, monotone_constraints='()', n_estimators=70, n_jobs=0,\n",
       "              num_parallel_tree=1, objective='binary:logistic',\n",
       "              predictor='auto', random_state=42, reg_alpha=0, ...)"
      ]
     },
     "execution_count": 231,
     "metadata": {},
     "output_type": "execute_result"
    }
   ],
   "source": [
    "random_search.best_estimator_"
   ]
  },
  {
   "cell_type": "code",
   "execution_count": 232,
   "metadata": {},
   "outputs": [
    {
     "data": {
      "text/plain": [
       "{'subsample': 0.25,\n",
       " 'n_estimators': 70,\n",
       " 'max_depth': 6,\n",
       " 'learning_rate': 0.01,\n",
       " 'colsample_bytree': 1.0}"
      ]
     },
     "execution_count": 232,
     "metadata": {},
     "output_type": "execute_result"
    }
   ],
   "source": [
    "random_search.best_params_"
   ]
  },
  {
   "cell_type": "code",
   "execution_count": 233,
   "metadata": {},
   "outputs": [
    {
     "name": "stdout",
     "output_type": "stream",
     "text": [
      "-0.0722474042480736 {'subsample': 0.5, 'n_estimators': 40, 'max_depth': 3, 'learning_rate': 0.01, 'colsample_bytree': 0.25}\n",
      "0.16708304917395622 {'subsample': 0.25, 'n_estimators': 20, 'max_depth': 6, 'learning_rate': 0.1, 'colsample_bytree': 0.75}\n",
      "0.06710755541345828 {'subsample': 0.25, 'n_estimators': 30, 'max_depth': 3, 'learning_rate': 0.01, 'colsample_bytree': 0.5}\n",
      "0.1551579068350693 {'subsample': 1.0, 'n_estimators': 30, 'max_depth': 3, 'learning_rate': 0.001, 'colsample_bytree': 0.5}\n",
      "0.06974218095043849 {'subsample': 0.25, 'n_estimators': 70, 'max_depth': 3, 'learning_rate': 0.001, 'colsample_bytree': 0.5}\n",
      "0.14302011306391457 {'subsample': 1.0, 'n_estimators': 10, 'max_depth': 6, 'learning_rate': 0.01, 'colsample_bytree': 0.75}\n",
      "-0.011889454869023647 {'subsample': 0.25, 'n_estimators': 10, 'max_depth': 3, 'learning_rate': 0.01, 'colsample_bytree': 0.5}\n",
      "0.15231029427969836 {'subsample': 0.5, 'n_estimators': 30, 'max_depth': 3, 'learning_rate': 0.01, 'colsample_bytree': 0.75}\n",
      "0.04527429844626479 {'subsample': 0.75, 'n_estimators': 50, 'max_depth': 3, 'learning_rate': 0.01, 'colsample_bytree': 1.0}\n",
      "-0.08917677081800567 {'subsample': 0.5, 'n_estimators': 10, 'max_depth': 3, 'learning_rate': 0.1, 'colsample_bytree': 0.25}\n",
      "-0.056838932438864016 {'subsample': 0.25, 'n_estimators': 40, 'max_depth': 6, 'learning_rate': 0.001, 'colsample_bytree': 0.25}\n",
      "0.12367542013011955 {'subsample': 1.0, 'n_estimators': 60, 'max_depth': 6, 'learning_rate': 0.01, 'colsample_bytree': 1.0}\n",
      "0.1580541148795348 {'subsample': 0.25, 'n_estimators': 60, 'max_depth': 6, 'learning_rate': 0.01, 'colsample_bytree': 0.5}\n",
      "0.15003943286438276 {'subsample': 1.0, 'n_estimators': 50, 'max_depth': 6, 'learning_rate': 0.01, 'colsample_bytree': 0.5}\n",
      "0.1175989268505909 {'subsample': 0.25, 'n_estimators': 20, 'max_depth': 3, 'learning_rate': 0.1, 'colsample_bytree': 0.75}\n",
      "0.0923469778214504 {'subsample': 0.5, 'n_estimators': 10, 'max_depth': 6, 'learning_rate': 0.1, 'colsample_bytree': 0.5}\n",
      "0.031214534760158768 {'subsample': 0.5, 'n_estimators': 20, 'max_depth': 3, 'learning_rate': 0.01, 'colsample_bytree': 0.5}\n",
      "0.16613362288662098 {'subsample': 1.0, 'n_estimators': 50, 'max_depth': 6, 'learning_rate': 0.1, 'colsample_bytree': 0.75}\n",
      "-0.06918776406936648 {'subsample': 0.75, 'n_estimators': 70, 'max_depth': 3, 'learning_rate': 0.01, 'colsample_bytree': 0.25}\n",
      "0.08190550737935284 {'subsample': 0.75, 'n_estimators': 40, 'max_depth': 6, 'learning_rate': 0.1, 'colsample_bytree': 0.25}\n",
      "0.1192404324908659 {'subsample': 1.0, 'n_estimators': 50, 'max_depth': 6, 'learning_rate': 0.01, 'colsample_bytree': 1.0}\n",
      "0.12883002246083586 {'subsample': 0.75, 'n_estimators': 50, 'max_depth': 3, 'learning_rate': 0.1, 'colsample_bytree': 0.5}\n",
      "0.17214522572249952 {'subsample': 0.5, 'n_estimators': 50, 'max_depth': 6, 'learning_rate': 0.001, 'colsample_bytree': 1.0}\n",
      "0.15494644794759002 {'subsample': 0.75, 'n_estimators': 10, 'max_depth': 6, 'learning_rate': 0.01, 'colsample_bytree': 0.75}\n",
      "-0.07108596634455697 {'subsample': 0.75, 'n_estimators': 40, 'max_depth': 3, 'learning_rate': 0.001, 'colsample_bytree': 0.25}\n",
      "0.15917139628249158 {'subsample': 0.5, 'n_estimators': 70, 'max_depth': 6, 'learning_rate': 0.1, 'colsample_bytree': 0.75}\n",
      "0.02588424478495403 {'subsample': 0.5, 'n_estimators': 20, 'max_depth': 3, 'learning_rate': 0.001, 'colsample_bytree': 0.5}\n",
      "0.146453315059351 {'subsample': 0.5, 'n_estimators': 20, 'max_depth': 6, 'learning_rate': 0.1, 'colsample_bytree': 0.5}\n",
      "-0.06590775785595028 {'subsample': 1.0, 'n_estimators': 40, 'max_depth': 6, 'learning_rate': 0.001, 'colsample_bytree': 0.25}\n",
      "0.0606268756918141 {'subsample': 0.5, 'n_estimators': 70, 'max_depth': 3, 'learning_rate': 0.01, 'colsample_bytree': 1.0}\n",
      "0.036574968840534676 {'subsample': 0.75, 'n_estimators': 40, 'max_depth': 3, 'learning_rate': 0.1, 'colsample_bytree': 0.25}\n",
      "0.14728488087712277 {'subsample': 0.75, 'n_estimators': 60, 'max_depth': 6, 'learning_rate': 0.1, 'colsample_bytree': 0.25}\n",
      "0.1555256960627687 {'subsample': 0.75, 'n_estimators': 10, 'max_depth': 6, 'learning_rate': 0.001, 'colsample_bytree': 0.75}\n",
      "-0.05583591511382243 {'subsample': 0.25, 'n_estimators': 70, 'max_depth': 6, 'learning_rate': 0.001, 'colsample_bytree': 0.25}\n",
      "0.008237881739365011 {'subsample': 0.75, 'n_estimators': 60, 'max_depth': 3, 'learning_rate': 0.001, 'colsample_bytree': 1.0}\n",
      "-0.0550970092386885 {'subsample': 0.25, 'n_estimators': 60, 'max_depth': 6, 'learning_rate': 0.001, 'colsample_bytree': 0.25}\n",
      "0.17024906411274518 {'subsample': 0.25, 'n_estimators': 70, 'max_depth': 6, 'learning_rate': 0.1, 'colsample_bytree': 0.75}\n",
      "0.1727337292874344 {'subsample': 0.5, 'n_estimators': 50, 'max_depth': 3, 'learning_rate': 0.001, 'colsample_bytree': 0.75}\n",
      "-0.07905797095786525 {'subsample': 0.5, 'n_estimators': 10, 'max_depth': 3, 'learning_rate': 0.01, 'colsample_bytree': 0.25}\n",
      "0.16269621559300726 {'subsample': 0.75, 'n_estimators': 50, 'max_depth': 6, 'learning_rate': 0.01, 'colsample_bytree': 0.75}\n",
      "0.1490894797512597 {'subsample': 1.0, 'n_estimators': 70, 'max_depth': 6, 'learning_rate': 0.01, 'colsample_bytree': 0.75}\n",
      "-0.06469869822017263 {'subsample': 0.5, 'n_estimators': 50, 'max_depth': 6, 'learning_rate': 0.01, 'colsample_bytree': 0.25}\n",
      "-0.06707313434224622 {'subsample': 0.75, 'n_estimators': 50, 'max_depth': 6, 'learning_rate': 0.001, 'colsample_bytree': 0.25}\n",
      "0.13216199953403024 {'subsample': 1.0, 'n_estimators': 70, 'max_depth': 6, 'learning_rate': 0.001, 'colsample_bytree': 0.75}\n",
      "-0.06738468787289585 {'subsample': 1.0, 'n_estimators': 70, 'max_depth': 6, 'learning_rate': 0.001, 'colsample_bytree': 0.25}\n",
      "0.15173483210344652 {'subsample': 0.75, 'n_estimators': 20, 'max_depth': 3, 'learning_rate': 0.01, 'colsample_bytree': 0.75}\n",
      "0.037457327429096764 {'subsample': 0.5, 'n_estimators': 10, 'max_depth': 6, 'learning_rate': 0.001, 'colsample_bytree': 0.5}\n",
      "0.11251785640608727 {'subsample': 0.75, 'n_estimators': 70, 'max_depth': 3, 'learning_rate': 0.1, 'colsample_bytree': 0.25}\n",
      "0.1534688792193103 {'subsample': 0.75, 'n_estimators': 40, 'max_depth': 6, 'learning_rate': 0.1, 'colsample_bytree': 1.0}\n",
      "0.07671656166266201 {'subsample': 0.75, 'n_estimators': 40, 'max_depth': 3, 'learning_rate': 0.01, 'colsample_bytree': 0.5}\n",
      "0.1085252574239932 {'subsample': 1.0, 'n_estimators': 30, 'max_depth': 3, 'learning_rate': 0.1, 'colsample_bytree': 0.75}\n",
      "0.16696954504805758 {'subsample': 0.5, 'n_estimators': 10, 'max_depth': 6, 'learning_rate': 0.01, 'colsample_bytree': 0.75}\n",
      "0.14972154188723183 {'subsample': 1.0, 'n_estimators': 30, 'max_depth': 6, 'learning_rate': 0.01, 'colsample_bytree': 0.75}\n",
      "-0.07052866841066682 {'subsample': 0.25, 'n_estimators': 20, 'max_depth': 3, 'learning_rate': 0.1, 'colsample_bytree': 0.25}\n",
      "0.14555705715972025 {'subsample': 0.75, 'n_estimators': 10, 'max_depth': 3, 'learning_rate': 0.01, 'colsample_bytree': 0.75}\n",
      "0.19139952474855051 {'subsample': 0.25, 'n_estimators': 70, 'max_depth': 6, 'learning_rate': 0.01, 'colsample_bytree': 1.0}\n",
      "0.11654904885005707 {'subsample': 1.0, 'n_estimators': 50, 'max_depth': 3, 'learning_rate': 0.1, 'colsample_bytree': 0.5}\n",
      "0.11148310119447342 {'subsample': 0.25, 'n_estimators': 60, 'max_depth': 3, 'learning_rate': 0.01, 'colsample_bytree': 0.5}\n",
      "0.13667769691688528 {'subsample': 0.25, 'n_estimators': 60, 'max_depth': 6, 'learning_rate': 0.1, 'colsample_bytree': 0.25}\n",
      "0.15668576012460209 {'subsample': 0.25, 'n_estimators': 70, 'max_depth': 6, 'learning_rate': 0.1, 'colsample_bytree': 0.25}\n",
      "0.15916602652843923 {'subsample': 1.0, 'n_estimators': 30, 'max_depth': 6, 'learning_rate': 0.01, 'colsample_bytree': 0.5}\n",
      "0.16782127059631202 {'subsample': 0.5, 'n_estimators': 40, 'max_depth': 6, 'learning_rate': 0.001, 'colsample_bytree': 1.0}\n",
      "0.11538061605492755 {'subsample': 0.25, 'n_estimators': 60, 'max_depth': 3, 'learning_rate': 0.1, 'colsample_bytree': 1.0}\n",
      "0.1532559853056778 {'subsample': 0.75, 'n_estimators': 30, 'max_depth': 6, 'learning_rate': 0.01, 'colsample_bytree': 1.0}\n",
      "0.10431079673719029 {'subsample': 1.0, 'n_estimators': 20, 'max_depth': 6, 'learning_rate': 0.01, 'colsample_bytree': 1.0}\n",
      "0.133268280777869 {'subsample': 0.5, 'n_estimators': 40, 'max_depth': 3, 'learning_rate': 0.1, 'colsample_bytree': 0.5}\n",
      "0.12641652455595692 {'subsample': 1.0, 'n_estimators': 40, 'max_depth': 3, 'learning_rate': 0.001, 'colsample_bytree': 0.75}\n",
      "0.006437031900728886 {'subsample': 0.5, 'n_estimators': 60, 'max_depth': 3, 'learning_rate': 0.001, 'colsample_bytree': 1.0}\n",
      "0.15758797743391864 {'subsample': 1.0, 'n_estimators': 50, 'max_depth': 6, 'learning_rate': 0.1, 'colsample_bytree': 1.0}\n",
      "0.07861971430914905 {'subsample': 0.75, 'n_estimators': 50, 'max_depth': 3, 'learning_rate': 0.001, 'colsample_bytree': 0.5}\n",
      "-0.0662865345498696 {'subsample': 0.25, 'n_estimators': 30, 'max_depth': 3, 'learning_rate': 0.01, 'colsample_bytree': 0.25}\n",
      "0.16513518560582074 {'subsample': 0.75, 'n_estimators': 60, 'max_depth': 6, 'learning_rate': 0.1, 'colsample_bytree': 0.75}\n",
      "0.05045049605073514 {'subsample': 0.25, 'n_estimators': 20, 'max_depth': 3, 'learning_rate': 0.01, 'colsample_bytree': 1.0}\n",
      "0.014991860594700326 {'subsample': 1.0, 'n_estimators': 30, 'max_depth': 3, 'learning_rate': 0.01, 'colsample_bytree': 1.0}\n",
      "0.12491749072664492 {'subsample': 1.0, 'n_estimators': 30, 'max_depth': 3, 'learning_rate': 0.01, 'colsample_bytree': 0.75}\n",
      "0.15156882641359629 {'subsample': 0.75, 'n_estimators': 30, 'max_depth': 3, 'learning_rate': 0.01, 'colsample_bytree': 0.75}\n",
      "-0.03904636072259122 {'subsample': 1.0, 'n_estimators': 20, 'max_depth': 6, 'learning_rate': 0.01, 'colsample_bytree': 0.25}\n",
      "0.1087148019993738 {'subsample': 0.25, 'n_estimators': 10, 'max_depth': 3, 'learning_rate': 0.1, 'colsample_bytree': 0.75}\n",
      "0.15975582237143424 {'subsample': 0.25, 'n_estimators': 30, 'max_depth': 6, 'learning_rate': 0.1, 'colsample_bytree': 0.75}\n",
      "0.14317826692699168 {'subsample': 1.0, 'n_estimators': 40, 'max_depth': 6, 'learning_rate': 0.01, 'colsample_bytree': 0.75}\n",
      "0.11812083545669123 {'subsample': 0.75, 'n_estimators': 50, 'max_depth': 3, 'learning_rate': 0.1, 'colsample_bytree': 0.75}\n",
      "0.1251327845147302 {'subsample': 0.5, 'n_estimators': 20, 'max_depth': 3, 'learning_rate': 0.1, 'colsample_bytree': 0.5}\n",
      "0.15119854354853562 {'subsample': 0.75, 'n_estimators': 20, 'max_depth': 6, 'learning_rate': 0.1, 'colsample_bytree': 0.75}\n",
      "0.15488929248553435 {'subsample': 0.75, 'n_estimators': 30, 'max_depth': 6, 'learning_rate': 0.01, 'colsample_bytree': 0.75}\n",
      "0.16924037285069854 {'subsample': 0.25, 'n_estimators': 10, 'max_depth': 6, 'learning_rate': 0.1, 'colsample_bytree': 0.75}\n",
      "0.17103248250072575 {'subsample': 0.5, 'n_estimators': 20, 'max_depth': 6, 'learning_rate': 0.01, 'colsample_bytree': 0.75}\n",
      "0.11627722333833154 {'subsample': 1.0, 'n_estimators': 40, 'max_depth': 3, 'learning_rate': 0.1, 'colsample_bytree': 1.0}\n",
      "0.11986391758898064 {'subsample': 1.0, 'n_estimators': 50, 'max_depth': 6, 'learning_rate': 0.001, 'colsample_bytree': 0.5}\n",
      "0.13437651012300914 {'subsample': 0.5, 'n_estimators': 70, 'max_depth': 3, 'learning_rate': 0.01, 'colsample_bytree': 0.75}\n",
      "0.05804426402943348 {'subsample': 1.0, 'n_estimators': 60, 'max_depth': 3, 'learning_rate': 0.01, 'colsample_bytree': 1.0}\n",
      "0.13152831226049763 {'subsample': 0.25, 'n_estimators': 30, 'max_depth': 3, 'learning_rate': 0.1, 'colsample_bytree': 0.5}\n",
      "0.00939095640984137 {'subsample': 0.5, 'n_estimators': 40, 'max_depth': 3, 'learning_rate': 0.001, 'colsample_bytree': 1.0}\n",
      "-0.07250364624218297 {'subsample': 0.5, 'n_estimators': 10, 'max_depth': 6, 'learning_rate': 0.01, 'colsample_bytree': 0.25}\n",
      "0.12772291239425568 {'subsample': 0.75, 'n_estimators': 60, 'max_depth': 3, 'learning_rate': 0.1, 'colsample_bytree': 0.5}\n",
      "-0.035543483883603705 {'subsample': 0.5, 'n_estimators': 20, 'max_depth': 6, 'learning_rate': 0.1, 'colsample_bytree': 0.25}\n",
      "0.17020037603601046 {'subsample': 0.5, 'n_estimators': 20, 'max_depth': 6, 'learning_rate': 0.01, 'colsample_bytree': 1.0}\n",
      "0.019869928442512425 {'subsample': 1.0, 'n_estimators': 10, 'max_depth': 3, 'learning_rate': 0.001, 'colsample_bytree': 0.5}\n",
      "0.09291650042654605 {'subsample': 0.5, 'n_estimators': 30, 'max_depth': 6, 'learning_rate': 0.01, 'colsample_bytree': 0.5}\n",
      "-0.0674453663898552 {'subsample': 0.75, 'n_estimators': 70, 'max_depth': 3, 'learning_rate': 0.001, 'colsample_bytree': 0.25}\n",
      "0.06368885625289046 {'subsample': 0.5, 'n_estimators': 10, 'max_depth': 3, 'learning_rate': 0.1, 'colsample_bytree': 0.5}\n"
     ]
    }
   ],
   "source": [
    "cvres_xgb = random_search.cv_results_\n",
    "for mean_score, params in zip(cvres_xgb['mean_test_score'],cvres_xgb['params']):\n",
    "    print(mean_score,params)"
   ]
  },
  {
   "attachments": {},
   "cell_type": "markdown",
   "metadata": {},
   "source": [
    "#### Modelo Final"
   ]
  },
  {
   "cell_type": "code",
   "execution_count": 235,
   "metadata": {},
   "outputs": [
    {
     "name": "stdout",
     "output_type": "stream",
     "text": [
      "ROC AUC: 0.768\n",
      "ROC AUC Teste: 0.760\n",
      "Lucro Relativo: 0.224\n",
      "Lucro Relativo Teste: 0.200\n",
      "Lucro Total: 42420.00\n",
      "Lucro Total Teste: 37870.64\n"
     ]
    }
   ],
   "source": [
    "\n",
    "XGB_final = XGBClassifier(\n",
    "   scale_pos_weight = sum(y_train_xgb == 0) / sum(y_train_xgb == 1),\n",
    "   n_estimators = 70, #30 40 60 40 70\n",
    "   max_depth = 6, #6 9 12 12 6 \n",
    "   learning_rate = 0.001, #0.01 0.1 0.01 0.001 0.001\n",
    "   colsample_bytree = 0.75, #1 1 1 1 0.75\n",
    "   subsample = 0.25, #0.25 0.25 0.25 0.5 0.25\n",
    "   random_state = 42\n",
    ")\n",
    "XGB_final.fit(x_train_xgb,y_train_xgb)\n",
    "y_p_train = XGB_final.predict(x_train_xgb)\n",
    "y_p_test = XGB_final.predict(x_test_xgb)\n",
    "\n",
    "auc = roc_auc_score(y_train_xgb, y_p_train)\n",
    "auc_test = roc_auc_score(y_test_xgb, y_p_test)\n",
    "print('ROC AUC: %.3f' % auc)\n",
    "print('ROC AUC Teste: %.3f' % auc_test)\n",
    "\n",
    "LR = funcao_lucro(y_train_xgb, y_p_train)\n",
    "LR_test = funcao_lucro(y_test_xgb, y_p_test)\n",
    "print('Lucro Relativo: %.3f' % LR)\n",
    "print('Lucro Relativo Teste: %.3f' % LR_test)\n",
    "print('Lucro Total: %.2f' % (LR*LM))\n",
    "print('Lucro Total Teste: %.2f' % (LR_test*LM))"
   ]
  },
  {
   "attachments": {},
   "cell_type": "markdown",
   "metadata": {},
   "source": [
    "# **Customiza Ponto de Corte do Modelo**"
   ]
  },
  {
   "cell_type": "code",
   "execution_count": 274,
   "metadata": {},
   "outputs": [],
   "source": [
    "prob_treino = XGB_final.predict_proba(x_train_xgb)[:,1]\n",
    "df_avaliacao = pd.DataFrame({'Probabilidade' : prob_treino, 'TARGET' : y_train_xgb})"
   ]
  },
  {
   "cell_type": "code",
   "execution_count": 275,
   "metadata": {},
   "outputs": [],
   "source": [
    "resumo_metricas = []\n",
    "\n",
    "for corte in np.arange(0.001, 1, 0.001):\n",
    "    \n",
    "    # Cria o predict baseado no valor do corte\n",
    "    df_avaliacao['TARGET_pred'] = (df_avaliacao['Probabilidade'] >= corte).astype('int')\n",
    "    \n",
    "    # Calcula o lucro\n",
    "    LR = funcao_lucro(df_avaliacao['TARGET'], df_avaliacao['TARGET_pred'])\n",
    "    lucro_total = LR*LM\n",
    "\n",
    "    resumo_metricas.append([corte, LR, lucro_total])"
   ]
  },
  {
   "cell_type": "code",
   "execution_count": 276,
   "metadata": {},
   "outputs": [
    {
     "data": {
      "text/html": [
       "<div>\n",
       "<style scoped>\n",
       "    .dataframe tbody tr th:only-of-type {\n",
       "        vertical-align: middle;\n",
       "    }\n",
       "\n",
       "    .dataframe tbody tr th {\n",
       "        vertical-align: top;\n",
       "    }\n",
       "\n",
       "    .dataframe thead th {\n",
       "        text-align: right;\n",
       "    }\n",
       "</style>\n",
       "<table border=\"1\" class=\"dataframe\">\n",
       "  <thead>\n",
       "    <tr style=\"text-align: right;\">\n",
       "      <th></th>\n",
       "      <th>corte</th>\n",
       "      <th>lucro_relativo</th>\n",
       "      <th>lucro</th>\n",
       "    </tr>\n",
       "  </thead>\n",
       "  <tbody>\n",
       "    <tr>\n",
       "      <td>507</td>\n",
       "      <td>0.508</td>\n",
       "      <td>0.283106</td>\n",
       "      <td>53660.0</td>\n",
       "    </tr>\n",
       "  </tbody>\n",
       "</table>\n",
       "</div>"
      ],
      "text/plain": [
       "     corte  lucro_relativo    lucro\n",
       "507  0.508        0.283106  53660.0"
      ]
     },
     "execution_count": 276,
     "metadata": {},
     "output_type": "execute_result"
    }
   ],
   "source": [
    "resumo_metricas = pd.DataFrame(resumo_metricas, columns=[\"corte\", \"lucro_relativo\", \"lucro\"])\n",
    "resumo_metricas.loc[resumo_metricas.lucro == max(resumo_metricas['lucro'])]"
   ]
  },
  {
   "attachments": {},
   "cell_type": "markdown",
   "metadata": {},
   "source": [
    "### <font color='red'>  **Lucro Base de Treino**"
   ]
  },
  {
   "cell_type": "code",
   "execution_count": 283,
   "metadata": {},
   "outputs": [
    {
     "name": "stdout",
     "output_type": "stream",
     "text": [
      "Lucro: R$ 53660.0\n",
      "Lucro Relativo: 28.31%\n"
     ]
    }
   ],
   "source": [
    "print(\"Lucro: R$\", resumo_metricas.loc[resumo_metricas.lucro == max(resumo_metricas['lucro'])]['lucro'].values[0])\n",
    "print(\"Lucro Relativo: {:0.2%}\".format(resumo_metricas.loc[resumo_metricas.lucro == max(resumo_metricas['lucro'])]['lucro_relativo'].values[0]))"
   ]
  },
  {
   "attachments": {},
   "cell_type": "markdown",
   "metadata": {},
   "source": [
    "### <font color='red'>  **Lucro Base de Teste**"
   ]
  },
  {
   "attachments": {},
   "cell_type": "markdown",
   "metadata": {},
   "source": [
    "#### Corte = 0.51"
   ]
  },
  {
   "cell_type": "code",
   "execution_count": 284,
   "metadata": {},
   "outputs": [
    {
     "name": "stdout",
     "output_type": "stream",
     "text": [
      "Lucro: R$ 20200.0\n",
      "Lucro Relativo: 24.88%\n"
     ]
    }
   ],
   "source": [
    "prob_teste = XGB_final.predict_proba(x_test_xgb)[:,1]\n",
    "pred_final = pd.DataFrame({'Probabilidade' : prob_teste, 'TARGET' : y_test_xgb})\n",
    "pred_final['TARGET_pred'] = (pred_final['Probabilidade'] >= 0.508).astype('int')\n",
    "\n",
    "LM_test = y_test_xgb.sum()*90\n",
    "\n",
    "LR_test = funcao_lucro(pred_final['TARGET'], pred_final['TARGET_pred'])\n",
    "lucro_total_test = LR_test*LM_test\n",
    "\n",
    "print(\"Lucro: R$\", lucro_total_test)\n",
    "print(\"Lucro Relativo: {:0.2%}\".format(LR_test))"
   ]
  },
  {
   "attachments": {},
   "cell_type": "markdown",
   "metadata": {},
   "source": [
    "# **Cria faixas de atuação**"
   ]
  },
  {
   "cell_type": "code",
   "execution_count": 266,
   "metadata": {},
   "outputs": [
    {
     "data": {
      "text/plain": [
       "<matplotlib.legend.Legend at 0x7f7ea95dac10>"
      ]
     },
     "execution_count": 266,
     "metadata": {},
     "output_type": "execute_result"
    },
    {
     "data": {
      "image/png": "[encoded data removed]",
      "text/plain": [
       "<Figure size 576x432 with 1 Axes>"
      ]
     },
     "metadata": {
      "needs_background": "light"
     },
     "output_type": "display_data"
    }
   ],
   "source": [
    "plt.figure(figsize=(8,6))\n",
    "plt.hist(df_avaliacao.loc[(df_avaliacao.TARGET == 1)]['Probabilidade'], bins=50, density = True , alpha=0.5, label=\"Insatisfeito\")\n",
    "plt.hist(df_avaliacao.loc[(df_avaliacao.TARGET == 0)]['Probabilidade'], bins=50, density = True , alpha=0.5, label=\"Satisfeito\")\n",
    "\n",
    "plt.xlabel(\"Probabilidade de Predição\", size=12)\n",
    "plt.ylabel(\"Quantidade\", size=12)\n",
    "plt.legend(loc='upper right')"
   ]
  },
  {
   "attachments": {},
   "cell_type": "markdown",
   "metadata": {},
   "source": [
    "### Nota 1 : Probabilidade de Predição >= 0.508"
   ]
  },
  {
   "attachments": {},
   "cell_type": "markdown",
   "metadata": {},
   "source": [
    "### Nota 2 a 5: Probabilidade de Predição < 0.508"
   ]
  },
  {
   "cell_type": "code",
   "execution_count": 268,
   "metadata": {},
   "outputs": [],
   "source": [
    "notas_treino = df_avaliacao.drop(['TARGET_pred'],axis=1)"
   ]
  },
  {
   "cell_type": "code",
   "execution_count": 285,
   "metadata": {},
   "outputs": [
    {
     "data": {
      "text/plain": [
       "0.25    0.474254\n",
       "0.50    0.481625\n",
       "0.75    0.491264\n",
       "Name: Probabilidade, dtype: float64"
      ]
     },
     "execution_count": 285,
     "metadata": {},
     "output_type": "execute_result"
    }
   ],
   "source": [
    "nota2a5 = notas_treino.loc[notas_treino['Probabilidade'] < 0.508]\n",
    "#Divide o restante do público pelos quartis\n",
    "nota2a5['Probabilidade'].quantile([0.25, 0.5, 0.75])"
   ]
  },
  {
   "cell_type": "code",
   "execution_count": 286,
   "metadata": {},
   "outputs": [
    {
     "data": {
      "text/html": [
       "<div>\n",
       "<style scoped>\n",
       "    .dataframe tbody tr th:only-of-type {\n",
       "        vertical-align: middle;\n",
       "    }\n",
       "\n",
       "    .dataframe tbody tr th {\n",
       "        vertical-align: top;\n",
       "    }\n",
       "\n",
       "    .dataframe thead th {\n",
       "        text-align: right;\n",
       "    }\n",
       "</style>\n",
       "<table border=\"1\" class=\"dataframe\">\n",
       "  <thead>\n",
       "    <tr style=\"text-align: right;\">\n",
       "      <th>TARGET</th>\n",
       "      <th>0</th>\n",
       "      <th>1</th>\n",
       "    </tr>\n",
       "    <tr>\n",
       "      <th>nota</th>\n",
       "      <th></th>\n",
       "      <th></th>\n",
       "    </tr>\n",
       "  </thead>\n",
       "  <tbody>\n",
       "    <tr>\n",
       "      <td>1</td>\n",
       "      <td>5857</td>\n",
       "      <td>1247</td>\n",
       "    </tr>\n",
       "    <tr>\n",
       "      <td>2</td>\n",
       "      <td>11310</td>\n",
       "      <td>573</td>\n",
       "    </tr>\n",
       "    <tr>\n",
       "      <td>3</td>\n",
       "      <td>12088</td>\n",
       "      <td>231</td>\n",
       "    </tr>\n",
       "    <tr>\n",
       "      <td>4</td>\n",
       "      <td>10716</td>\n",
       "      <td>46</td>\n",
       "    </tr>\n",
       "    <tr>\n",
       "      <td>5</td>\n",
       "      <td>11137</td>\n",
       "      <td>9</td>\n",
       "    </tr>\n",
       "  </tbody>\n",
       "</table>\n",
       "</div>"
      ],
      "text/plain": [
       "TARGET      0     1\n",
       "nota               \n",
       "1        5857  1247\n",
       "2       11310   573\n",
       "3       12088   231\n",
       "4       10716    46\n",
       "5       11137     9"
      ]
     },
     "execution_count": 286,
     "metadata": {},
     "output_type": "execute_result"
    }
   ],
   "source": [
    "condicao = [((notas_treino['Probabilidade']>=0.508) & (notas_treino['Probabilidade']<=1)),\n",
    "            ((notas_treino['Probabilidade']>=0.491) & (notas_treino['Probabilidade']<0.508)),\n",
    "            ((notas_treino['Probabilidade']>=0.481) & (notas_treino['Probabilidade']<0.491)),\n",
    "            ((notas_treino['Probabilidade']>=0.474) & (notas_treino['Probabilidade']<0.481)),\n",
    "            ((notas_treino['Probabilidade']>=0) & (notas_treino['Probabilidade']<0.474)),\n",
    "            ]\n",
    "valores = [1,2,3,4,5]\n",
    "\n",
    "notas_treino['nota'] = np.select(condicao,valores)\n",
    "pd.crosstab(notas_treino['nota'],notas_treino['TARGET'])"
   ]
  },
  {
   "attachments": {},
   "cell_type": "markdown",
   "metadata": {},
   "source": [
    "#### Aplica notas na Base de Teste"
   ]
  },
  {
   "cell_type": "code",
   "execution_count": 288,
   "metadata": {},
   "outputs": [],
   "source": [
    "notas_teste = pred_final.drop(['TARGET_pred'],axis=1)"
   ]
  },
  {
   "cell_type": "code",
   "execution_count": 289,
   "metadata": {},
   "outputs": [
    {
     "data": {
      "text/html": [
       "<div>\n",
       "<style scoped>\n",
       "    .dataframe tbody tr th:only-of-type {\n",
       "        vertical-align: middle;\n",
       "    }\n",
       "\n",
       "    .dataframe tbody tr th {\n",
       "        vertical-align: top;\n",
       "    }\n",
       "\n",
       "    .dataframe thead th {\n",
       "        text-align: right;\n",
       "    }\n",
       "</style>\n",
       "<table border=\"1\" class=\"dataframe\">\n",
       "  <thead>\n",
       "    <tr style=\"text-align: right;\">\n",
       "      <th>TARGET</th>\n",
       "      <th>0</th>\n",
       "      <th>1</th>\n",
       "    </tr>\n",
       "    <tr>\n",
       "      <th>nota</th>\n",
       "      <th></th>\n",
       "      <th></th>\n",
       "    </tr>\n",
       "  </thead>\n",
       "  <tbody>\n",
       "    <tr>\n",
       "      <td>1</td>\n",
       "      <td>2570</td>\n",
       "      <td>510</td>\n",
       "    </tr>\n",
       "    <tr>\n",
       "      <td>2</td>\n",
       "      <td>4815</td>\n",
       "      <td>250</td>\n",
       "    </tr>\n",
       "    <tr>\n",
       "      <td>3</td>\n",
       "      <td>5141</td>\n",
       "      <td>91</td>\n",
       "    </tr>\n",
       "    <tr>\n",
       "      <td>4</td>\n",
       "      <td>4511</td>\n",
       "      <td>43</td>\n",
       "    </tr>\n",
       "    <tr>\n",
       "      <td>5</td>\n",
       "      <td>4867</td>\n",
       "      <td>8</td>\n",
       "    </tr>\n",
       "  </tbody>\n",
       "</table>\n",
       "</div>"
      ],
      "text/plain": [
       "TARGET     0    1\n",
       "nota             \n",
       "1       2570  510\n",
       "2       4815  250\n",
       "3       5141   91\n",
       "4       4511   43\n",
       "5       4867    8"
      ]
     },
     "execution_count": 289,
     "metadata": {},
     "output_type": "execute_result"
    }
   ],
   "source": [
    "condicao = [((notas_teste['Probabilidade']>=0.508) & (notas_teste['Probabilidade']<=1)),\n",
    "            ((notas_teste['Probabilidade']>=0.491) & (notas_teste['Probabilidade']<0.508)),\n",
    "            ((notas_teste['Probabilidade']>=0.481) & (notas_teste['Probabilidade']<0.491)),\n",
    "            ((notas_teste['Probabilidade']>=0.474) & (notas_teste['Probabilidade']<0.481)),\n",
    "            ((notas_teste['Probabilidade']>=0) & (notas_teste['Probabilidade']<0.474)),\n",
    "            ]\n",
    "valores = [1,2,3,4,5]\n",
    "\n",
    "notas_teste['nota'] = np.select(condicao,valores)\n",
    "\n",
    "pd.crosstab(notas_teste['nota'],notas_teste['TARGET'])"
   ]
  },
  {
   "cell_type": "code",
   "execution_count": 290,
   "metadata": {},
   "outputs": [
    {
     "data": {
      "text/plain": [
       "<matplotlib.axes._subplots.AxesSubplot at 0x7f7eab9cb750>"
      ]
     },
     "execution_count": 290,
     "metadata": {},
     "output_type": "execute_result"
    },
    {
     "data": {
      "image/png": "[encoded data removed]",
      "text/plain": [
       "<Figure size 432x288 with 1 Axes>"
      ]
     },
     "metadata": {
      "needs_background": "light"
     },
     "output_type": "display_data"
    }
   ],
   "source": [
    "notas_teste.sort_values(['nota']).groupby(['nota']).size().plot.bar()"
   ]
  },
  {
   "cell_type": "code",
   "execution_count": 293,
   "metadata": {},
   "outputs": [
    {
     "data": {
      "text/html": [
       "<div>\n",
       "<style scoped>\n",
       "    .dataframe tbody tr th:only-of-type {\n",
       "        vertical-align: middle;\n",
       "    }\n",
       "\n",
       "    .dataframe tbody tr th {\n",
       "        vertical-align: top;\n",
       "    }\n",
       "\n",
       "    .dataframe thead th {\n",
       "        text-align: right;\n",
       "    }\n",
       "</style>\n",
       "<table border=\"1\" class=\"dataframe\">\n",
       "  <thead>\n",
       "    <tr style=\"text-align: right;\">\n",
       "      <th></th>\n",
       "      <th>mean</th>\n",
       "      <th>sum</th>\n",
       "    </tr>\n",
       "    <tr>\n",
       "      <th>nota</th>\n",
       "      <th></th>\n",
       "      <th></th>\n",
       "    </tr>\n",
       "  </thead>\n",
       "  <tbody>\n",
       "    <tr>\n",
       "      <td>1</td>\n",
       "      <td>6.558442</td>\n",
       "      <td>20200</td>\n",
       "    </tr>\n",
       "    <tr>\n",
       "      <td>2</td>\n",
       "      <td>0.000000</td>\n",
       "      <td>0</td>\n",
       "    </tr>\n",
       "    <tr>\n",
       "      <td>3</td>\n",
       "      <td>0.000000</td>\n",
       "      <td>0</td>\n",
       "    </tr>\n",
       "    <tr>\n",
       "      <td>4</td>\n",
       "      <td>0.000000</td>\n",
       "      <td>0</td>\n",
       "    </tr>\n",
       "    <tr>\n",
       "      <td>5</td>\n",
       "      <td>0.000000</td>\n",
       "      <td>0</td>\n",
       "    </tr>\n",
       "  </tbody>\n",
       "</table>\n",
       "</div>"
      ],
      "text/plain": [
       "          mean    sum\n",
       "nota                 \n",
       "1     6.558442  20200\n",
       "2     0.000000      0\n",
       "3     0.000000      0\n",
       "4     0.000000      0\n",
       "5     0.000000      0"
      ]
     },
     "execution_count": 293,
     "metadata": {},
     "output_type": "execute_result"
    }
   ],
   "source": [
    "conditions = [\n",
    "                ((notas_teste['nota'] == 1) & (notas_teste['TARGET'] == 1)),\n",
    "                ((notas_teste['nota'] == 1) & (notas_teste['TARGET'] == 0)),\n",
    "                (notas_teste['nota'] == 0)\n",
    "            ]\n",
    "\n",
    "values = [90,-10, 0]\n",
    "\n",
    "notas_teste['lucro'] = np.select(conditions, values)\n",
    "\n",
    "notas_teste.groupby(['nota']).agg(['mean','sum'])['lucro']"
   ]
  },
  {
   "cell_type": "code",
   "execution_count": null,
   "metadata": {},
   "outputs": [],
   "source": []
  },
  {
   "cell_type": "code",
   "execution_count": null,
   "metadata": {},
   "outputs": [],
   "source": []
  },
  {
   "cell_type": "code",
   "execution_count": null,
   "metadata": {},
   "outputs": [],
   "source": []
  },
  {
   "cell_type": "code",
   "execution_count": null,
   "metadata": {},
   "outputs": [],
   "source": []
  },
  {
   "cell_type": "code",
   "execution_count": null,
   "metadata": {},
   "outputs": [],
   "source": []
  },
  {
   "cell_type": "code",
   "execution_count": null,
   "metadata": {},
   "outputs": [],
   "source": []
  },
  {
   "cell_type": "code",
   "execution_count": null,
   "metadata": {},
   "outputs": [],
   "source": []
  },
  {
   "cell_type": "code",
   "execution_count": null,
   "metadata": {},
   "outputs": [],
   "source": []
  }
 ],
 "metadata": {
  "kernelspec": {
   "display_name": "Python 3",
   "language": "python",
   "name": "python3"
  },
  "language_info": {
   "codemirror_mode": {
    "name": "ipython",
    "version": 3
   },
   "file_extension": ".py",
   "mimetype": "text/x-python",
   "name": "python",
   "nbconvert_exporter": "python",
   "pygments_lexer": "ipython3",
   "version": "3.7.4"
  },
  "orig_nbformat": 4
 },
 "nbformat": 4,
 "nbformat_minor": 2
}
