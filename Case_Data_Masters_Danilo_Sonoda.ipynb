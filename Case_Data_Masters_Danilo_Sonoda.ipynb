{
 "cells": [
  {
   "cell_type": "markdown",
   "metadata": {},
   "source": [
    "# **CASE DATA MASTERS - DANILO SONODA**"
   ]
  },
  {
   "cell_type": "markdown",
   "metadata": {},
   "source": [
    "**<font color = 'red'> O case Data Master - Cientista de Dados apresenta um problema de satisfação do cliente. É fornecida uma base com diversas variáveis numéricas e com a informação de satisfação do cliente (1 se insatisfeito e 0 se satisfeito). São solicitadas 3 tarefas:** <br>\n",
    "**1)** Maximizar o lucro esperado por cliente dado os custos de ação de retenção e de sucesso. <br> \n",
    "**2)** Dar nota de 1 a 5 para os clientes respeitando a taxa de insatisfação dos mesmos. <br> \n",
    "**3)** Encontrar os 3 grupos naturais com maior lucro esperado por cliente"
   ]
  },
  {
   "cell_type": "markdown",
   "metadata": {},
   "source": [
    "**Abaixo segue a minha resolução para o case:**"
   ]
  },
  {
   "cell_type": "markdown",
   "metadata": {
    "execution": {
     "iopub.execute_input": "2022-01-12T03:48:46.209205Z",
     "iopub.status.busy": "2022-01-12T03:48:46.208574Z",
     "iopub.status.idle": "2022-01-12T03:48:46.215709Z",
     "shell.execute_reply": "2022-01-12T03:48:46.214467Z",
     "shell.execute_reply.started": "2022-01-12T03:48:46.209133Z"
    }
   },
   "source": [
    "# **<font color='red'> Carrega/Instala Bibliotecas**"
   ]
  },
  {
   "cell_type": "code",
   "execution_count": 1,
   "metadata": {
    "execution": {
     "iopub.execute_input": "2022-01-14T17:57:56.098294Z",
     "iopub.status.busy": "2022-01-14T17:57:56.098102Z",
     "iopub.status.idle": "2022-01-14T17:58:03.827606Z",
     "shell.execute_reply": "2022-01-14T17:58:03.826618Z",
     "shell.execute_reply.started": "2022-01-14T17:57:56.098271Z"
    }
   },
   "outputs": [
    {
     "name": "stdout",
     "output_type": "stream",
     "text": [
      "Looking in indexes: http://artifactory.produbanbr.corp/artifactory/api/pypi/pypi-all/simple\n",
      "Requirement already satisfied: feature_engine in /home/container/t719877/.local/lib/python3.6/site-packages (1.2.0)\n",
      "Requirement already satisfied: numpy>=1.18.2 in /opt/miniconda/lib/python3.6/site-packages (from feature_engine) (1.19.5)\n",
      "Requirement already satisfied: statsmodels>=0.11.1 in /opt/miniconda/lib/python3.6/site-packages (from feature_engine) (0.12.2)\n",
      "Requirement already satisfied: scipy>=1.4.1 in /opt/miniconda/lib/python3.6/site-packages (from feature_engine) (1.5.4)\n",
      "Requirement already satisfied: scikit-learn>=0.22.2 in /opt/miniconda/lib/python3.6/site-packages (from feature_engine) (0.24.2)\n",
      "Requirement already satisfied: pandas>=1.0.3 in /opt/miniconda/lib/python3.6/site-packages (from feature_engine) (1.1.5)\n",
      "Requirement already satisfied: python-dateutil>=2.7.3 in /opt/miniconda/lib/python3.6/site-packages (from pandas>=1.0.3->feature_engine) (2.8.2)\n",
      "Requirement already satisfied: pytz>=2017.2 in /opt/miniconda/lib/python3.6/site-packages (from pandas>=1.0.3->feature_engine) (2021.1)\n",
      "Requirement already satisfied: joblib>=0.11 in /opt/miniconda/lib/python3.6/site-packages (from scikit-learn>=0.22.2->feature_engine) (1.0.1)\n",
      "Requirement already satisfied: threadpoolctl>=2.0.0 in /opt/miniconda/lib/python3.6/site-packages (from scikit-learn>=0.22.2->feature_engine) (2.2.0)\n",
      "Requirement already satisfied: patsy>=0.5 in /opt/miniconda/lib/python3.6/site-packages (from statsmodels>=0.11.1->feature_engine) (0.5.1)\n",
      "Requirement already satisfied: six in /opt/miniconda/lib/python3.6/site-packages (from patsy>=0.5->statsmodels>=0.11.1->feature_engine) (1.11.0)\n",
      "Looking in indexes: http://artifactory.produbanbr.corp/artifactory/api/pypi/pypi-all/simple\n",
      "Requirement already satisfied: hyperopt in /home/container/t719877/.local/lib/python3.6/site-packages (0.2.7)\n",
      "Requirement already satisfied: py4j in /opt/miniconda/lib/python3.6/site-packages (from hyperopt) (0.10.7)\n",
      "Requirement already satisfied: cloudpickle in /opt/miniconda/lib/python3.6/site-packages (from hyperopt) (1.2.2)\n",
      "Requirement already satisfied: numpy in /opt/miniconda/lib/python3.6/site-packages (from hyperopt) (1.19.5)\n",
      "Requirement already satisfied: six in /opt/miniconda/lib/python3.6/site-packages (from hyperopt) (1.11.0)\n",
      "Requirement already satisfied: tqdm in /opt/miniconda/lib/python3.6/site-packages (from hyperopt) (4.39.0)\n",
      "Requirement already satisfied: scipy in /opt/miniconda/lib/python3.6/site-packages (from hyperopt) (1.5.4)\n",
      "Requirement already satisfied: networkx>=2.2 in /opt/miniconda/lib/python3.6/site-packages (from hyperopt) (2.5.1)\n",
      "Requirement already satisfied: future in /opt/miniconda/lib/python3.6/site-packages (from hyperopt) (0.18.2)\n",
      "Requirement already satisfied: decorator<5,>=4.3 in /opt/miniconda/lib/python3.6/site-packages (from networkx>=2.2->hyperopt) (4.4.2)\n",
      "Looking in indexes: http://artifactory.produbanbr.corp/artifactory/api/pypi/pypi-all/simple\n",
      "Requirement already satisfied: kneed in /home/container/t719877/.local/lib/python3.6/site-packages (0.7.0)\n",
      "Requirement already satisfied: matplotlib in /opt/miniconda/lib/python3.6/site-packages (from kneed) (3.3.4)\n",
      "Requirement already satisfied: scipy in /opt/miniconda/lib/python3.6/site-packages (from kneed) (1.5.4)\n",
      "Requirement already satisfied: numpy>=1.14.2 in /opt/miniconda/lib/python3.6/site-packages (from kneed) (1.19.5)\n",
      "Requirement already satisfied: pillow>=6.2.0 in /opt/miniconda/lib/python3.6/site-packages (from matplotlib->kneed) (8.3.1)\n",
      "Requirement already satisfied: kiwisolver>=1.0.1 in /opt/miniconda/lib/python3.6/site-packages (from matplotlib->kneed) (1.3.1)\n",
      "Requirement already satisfied: python-dateutil>=2.1 in /opt/miniconda/lib/python3.6/site-packages (from matplotlib->kneed) (2.8.2)\n",
      "Requirement already satisfied: cycler>=0.10 in /opt/miniconda/lib/python3.6/site-packages (from matplotlib->kneed) (0.10.0)\n",
      "Requirement already satisfied: pyparsing!=2.0.4,!=2.1.2,!=2.1.6,>=2.0.3 in /opt/miniconda/lib/python3.6/site-packages (from matplotlib->kneed) (2.4.7)\n",
      "Requirement already satisfied: six in /opt/miniconda/lib/python3.6/site-packages (from cycler>=0.10->matplotlib->kneed) (1.11.0)\n"
     ]
    }
   ],
   "source": [
    "!pip install feature_engine\n",
    "!pip install hyperopt\n",
    "!pip install kneed"
   ]
  },
  {
   "cell_type": "code",
   "execution_count": 2,
   "metadata": {
    "execution": {
     "iopub.execute_input": "2022-01-14T17:58:03.829503Z",
     "iopub.status.busy": "2022-01-14T17:58:03.829269Z",
     "iopub.status.idle": "2022-01-14T17:58:05.812134Z",
     "shell.execute_reply": "2022-01-14T17:58:05.811256Z",
     "shell.execute_reply.started": "2022-01-14T17:58:03.829475Z"
    }
   },
   "outputs": [],
   "source": [
    "import matplotlib.pyplot as plt\n",
    "import numpy as np\n",
    "import pandas as pd\n",
    "import seaborn as sns\n",
    "import shap \n",
    "\n",
    "from collections import Counter\n",
    "from feature_engine.selection import DropDuplicateFeatures, DropConstantFeatures\n",
    "from hyperopt import fmin, tpe, hp, Trials\n",
    "from kneed import KneeLocator\n",
    "from numpy import random\n",
    "from sklearn.cluster import KMeans\n",
    "from sklearn.decomposition import PCA\n",
    "from sklearn.ensemble import RandomForestClassifier\n",
    "from sklearn.feature_selection import SelectFromModel\n",
    "from sklearn.metrics import roc_auc_score, precision_score, recall_score, confusion_matrix, silhouette_score\n",
    "from sklearn.model_selection import train_test_split, RandomizedSearchCV\n",
    "from sklearn.pipeline import Pipeline\n",
    "from sklearn.preprocessing import StandardScaler\n",
    "from sklearn.tree import DecisionTreeClassifier\n",
    "from xgboost import XGBClassifier, cv, DMatrix"
   ]
  },
  {
   "cell_type": "markdown",
   "metadata": {
    "execution": {
     "iopub.execute_input": "2022-01-12T03:48:46.209205Z",
     "iopub.status.busy": "2022-01-12T03:48:46.208574Z",
     "iopub.status.idle": "2022-01-12T03:48:46.215709Z",
     "shell.execute_reply": "2022-01-12T03:48:46.214467Z",
     "shell.execute_reply.started": "2022-01-12T03:48:46.209133Z"
    }
   },
   "source": [
    "# **<font color='red'> Overview Base**"
   ]
  },
  {
   "cell_type": "markdown",
   "metadata": {},
   "source": [
    "### Carrega base"
   ]
  },
  {
   "cell_type": "code",
   "execution_count": 3,
   "metadata": {
    "execution": {
     "iopub.execute_input": "2022-01-14T17:58:05.813984Z",
     "iopub.status.busy": "2022-01-14T17:58:05.813790Z",
     "iopub.status.idle": "2022-01-14T17:58:07.173823Z",
     "shell.execute_reply": "2022-01-14T17:58:07.173015Z",
     "shell.execute_reply.started": "2022-01-14T17:58:05.813963Z"
    }
   },
   "outputs": [
    {
     "data": {
      "text/html": [
       "<div>\n",
       "<style scoped>\n",
       "    .dataframe tbody tr th:only-of-type {\n",
       "        vertical-align: middle;\n",
       "    }\n",
       "\n",
       "    .dataframe tbody tr th {\n",
       "        vertical-align: top;\n",
       "    }\n",
       "\n",
       "    .dataframe thead th {\n",
       "        text-align: right;\n",
       "    }\n",
       "</style>\n",
       "<table border=\"1\" class=\"dataframe\">\n",
       "  <thead>\n",
       "    <tr style=\"text-align: right;\">\n",
       "      <th></th>\n",
       "      <th>ID</th>\n",
       "      <th>var3</th>\n",
       "      <th>var15</th>\n",
       "      <th>imp_ent_var16_ult1</th>\n",
       "      <th>imp_op_var39_comer_ult1</th>\n",
       "      <th>imp_op_var39_comer_ult3</th>\n",
       "      <th>imp_op_var40_comer_ult1</th>\n",
       "      <th>imp_op_var40_comer_ult3</th>\n",
       "      <th>imp_op_var40_efect_ult1</th>\n",
       "      <th>imp_op_var40_efect_ult3</th>\n",
       "      <th>...</th>\n",
       "      <th>saldo_medio_var33_hace2</th>\n",
       "      <th>saldo_medio_var33_hace3</th>\n",
       "      <th>saldo_medio_var33_ult1</th>\n",
       "      <th>saldo_medio_var33_ult3</th>\n",
       "      <th>saldo_medio_var44_hace2</th>\n",
       "      <th>saldo_medio_var44_hace3</th>\n",
       "      <th>saldo_medio_var44_ult1</th>\n",
       "      <th>saldo_medio_var44_ult3</th>\n",
       "      <th>var38</th>\n",
       "      <th>TARGET</th>\n",
       "    </tr>\n",
       "  </thead>\n",
       "  <tbody>\n",
       "    <tr>\n",
       "      <th>0</th>\n",
       "      <td>1</td>\n",
       "      <td>2</td>\n",
       "      <td>23</td>\n",
       "      <td>0.0</td>\n",
       "      <td>0.0</td>\n",
       "      <td>0.0</td>\n",
       "      <td>0.0</td>\n",
       "      <td>0.0</td>\n",
       "      <td>0.0</td>\n",
       "      <td>0.0</td>\n",
       "      <td>...</td>\n",
       "      <td>0.0</td>\n",
       "      <td>0.0</td>\n",
       "      <td>0.0</td>\n",
       "      <td>0.0</td>\n",
       "      <td>0.0</td>\n",
       "      <td>0.0</td>\n",
       "      <td>0.0</td>\n",
       "      <td>0.0</td>\n",
       "      <td>39205.170000</td>\n",
       "      <td>0</td>\n",
       "    </tr>\n",
       "    <tr>\n",
       "      <th>1</th>\n",
       "      <td>3</td>\n",
       "      <td>2</td>\n",
       "      <td>34</td>\n",
       "      <td>0.0</td>\n",
       "      <td>0.0</td>\n",
       "      <td>0.0</td>\n",
       "      <td>0.0</td>\n",
       "      <td>0.0</td>\n",
       "      <td>0.0</td>\n",
       "      <td>0.0</td>\n",
       "      <td>...</td>\n",
       "      <td>0.0</td>\n",
       "      <td>0.0</td>\n",
       "      <td>0.0</td>\n",
       "      <td>0.0</td>\n",
       "      <td>0.0</td>\n",
       "      <td>0.0</td>\n",
       "      <td>0.0</td>\n",
       "      <td>0.0</td>\n",
       "      <td>49278.030000</td>\n",
       "      <td>0</td>\n",
       "    </tr>\n",
       "    <tr>\n",
       "      <th>2</th>\n",
       "      <td>4</td>\n",
       "      <td>2</td>\n",
       "      <td>23</td>\n",
       "      <td>0.0</td>\n",
       "      <td>0.0</td>\n",
       "      <td>0.0</td>\n",
       "      <td>0.0</td>\n",
       "      <td>0.0</td>\n",
       "      <td>0.0</td>\n",
       "      <td>0.0</td>\n",
       "      <td>...</td>\n",
       "      <td>0.0</td>\n",
       "      <td>0.0</td>\n",
       "      <td>0.0</td>\n",
       "      <td>0.0</td>\n",
       "      <td>0.0</td>\n",
       "      <td>0.0</td>\n",
       "      <td>0.0</td>\n",
       "      <td>0.0</td>\n",
       "      <td>67333.770000</td>\n",
       "      <td>0</td>\n",
       "    </tr>\n",
       "    <tr>\n",
       "      <th>3</th>\n",
       "      <td>8</td>\n",
       "      <td>2</td>\n",
       "      <td>37</td>\n",
       "      <td>0.0</td>\n",
       "      <td>195.0</td>\n",
       "      <td>195.0</td>\n",
       "      <td>0.0</td>\n",
       "      <td>0.0</td>\n",
       "      <td>0.0</td>\n",
       "      <td>0.0</td>\n",
       "      <td>...</td>\n",
       "      <td>0.0</td>\n",
       "      <td>0.0</td>\n",
       "      <td>0.0</td>\n",
       "      <td>0.0</td>\n",
       "      <td>0.0</td>\n",
       "      <td>0.0</td>\n",
       "      <td>0.0</td>\n",
       "      <td>0.0</td>\n",
       "      <td>64007.970000</td>\n",
       "      <td>0</td>\n",
       "    </tr>\n",
       "    <tr>\n",
       "      <th>4</th>\n",
       "      <td>10</td>\n",
       "      <td>2</td>\n",
       "      <td>39</td>\n",
       "      <td>0.0</td>\n",
       "      <td>0.0</td>\n",
       "      <td>0.0</td>\n",
       "      <td>0.0</td>\n",
       "      <td>0.0</td>\n",
       "      <td>0.0</td>\n",
       "      <td>0.0</td>\n",
       "      <td>...</td>\n",
       "      <td>0.0</td>\n",
       "      <td>0.0</td>\n",
       "      <td>0.0</td>\n",
       "      <td>0.0</td>\n",
       "      <td>0.0</td>\n",
       "      <td>0.0</td>\n",
       "      <td>0.0</td>\n",
       "      <td>0.0</td>\n",
       "      <td>117310.979016</td>\n",
       "      <td>0</td>\n",
       "    </tr>\n",
       "  </tbody>\n",
       "</table>\n",
       "<p>5 rows × 371 columns</p>\n",
       "</div>"
      ],
      "text/plain": [
       "   ID  var3  var15  imp_ent_var16_ult1  imp_op_var39_comer_ult1  \\\n",
       "0   1     2     23                 0.0                      0.0   \n",
       "1   3     2     34                 0.0                      0.0   \n",
       "2   4     2     23                 0.0                      0.0   \n",
       "3   8     2     37                 0.0                    195.0   \n",
       "4  10     2     39                 0.0                      0.0   \n",
       "\n",
       "   imp_op_var39_comer_ult3  imp_op_var40_comer_ult1  imp_op_var40_comer_ult3  \\\n",
       "0                      0.0                      0.0                      0.0   \n",
       "1                      0.0                      0.0                      0.0   \n",
       "2                      0.0                      0.0                      0.0   \n",
       "3                    195.0                      0.0                      0.0   \n",
       "4                      0.0                      0.0                      0.0   \n",
       "\n",
       "   imp_op_var40_efect_ult1  imp_op_var40_efect_ult3  ...  \\\n",
       "0                      0.0                      0.0  ...   \n",
       "1                      0.0                      0.0  ...   \n",
       "2                      0.0                      0.0  ...   \n",
       "3                      0.0                      0.0  ...   \n",
       "4                      0.0                      0.0  ...   \n",
       "\n",
       "   saldo_medio_var33_hace2  saldo_medio_var33_hace3  saldo_medio_var33_ult1  \\\n",
       "0                      0.0                      0.0                     0.0   \n",
       "1                      0.0                      0.0                     0.0   \n",
       "2                      0.0                      0.0                     0.0   \n",
       "3                      0.0                      0.0                     0.0   \n",
       "4                      0.0                      0.0                     0.0   \n",
       "\n",
       "   saldo_medio_var33_ult3  saldo_medio_var44_hace2  saldo_medio_var44_hace3  \\\n",
       "0                     0.0                      0.0                      0.0   \n",
       "1                     0.0                      0.0                      0.0   \n",
       "2                     0.0                      0.0                      0.0   \n",
       "3                     0.0                      0.0                      0.0   \n",
       "4                     0.0                      0.0                      0.0   \n",
       "\n",
       "   saldo_medio_var44_ult1  saldo_medio_var44_ult3          var38  TARGET  \n",
       "0                     0.0                     0.0   39205.170000       0  \n",
       "1                     0.0                     0.0   49278.030000       0  \n",
       "2                     0.0                     0.0   67333.770000       0  \n",
       "3                     0.0                     0.0   64007.970000       0  \n",
       "4                     0.0                     0.0  117310.979016       0  \n",
       "\n",
       "[5 rows x 371 columns]"
      ]
     },
     "execution_count": 3,
     "metadata": {},
     "output_type": "execute_result"
    }
   ],
   "source": [
    "df = pd.read_csv(\"../C/train.csv\")\n",
    "df.head()"
   ]
  },
  {
   "cell_type": "markdown",
   "metadata": {},
   "source": [
    "### Verifica tamanho da base e resumo da distribuição das variáveis"
   ]
  },
  {
   "cell_type": "code",
   "execution_count": 4,
   "metadata": {
    "execution": {
     "iopub.execute_input": "2022-01-14T17:58:07.175672Z",
     "iopub.status.busy": "2022-01-14T17:58:07.175428Z",
     "iopub.status.idle": "2022-01-14T17:58:07.194989Z",
     "shell.execute_reply": "2022-01-14T17:58:07.194053Z",
     "shell.execute_reply.started": "2022-01-14T17:58:07.175647Z"
    }
   },
   "outputs": [
    {
     "name": "stdout",
     "output_type": "stream",
     "text": [
      "<class 'pandas.core.frame.DataFrame'>\n",
      "RangeIndex: 76020 entries, 0 to 76019\n",
      "Columns: 371 entries, ID to TARGET\n",
      "dtypes: float64(111), int64(260)\n",
      "memory usage: 215.2 MB\n"
     ]
    }
   ],
   "source": [
    "df.info()"
   ]
  },
  {
   "cell_type": "code",
   "execution_count": 5,
   "metadata": {
    "execution": {
     "iopub.execute_input": "2022-01-14T17:58:07.196249Z",
     "iopub.status.busy": "2022-01-14T17:58:07.196045Z",
     "iopub.status.idle": "2022-01-14T17:58:08.518573Z",
     "shell.execute_reply": "2022-01-14T17:58:08.517800Z",
     "shell.execute_reply.started": "2022-01-14T17:58:07.196226Z"
    }
   },
   "outputs": [
    {
     "data": {
      "text/html": [
       "<div>\n",
       "<style scoped>\n",
       "    .dataframe tbody tr th:only-of-type {\n",
       "        vertical-align: middle;\n",
       "    }\n",
       "\n",
       "    .dataframe tbody tr th {\n",
       "        vertical-align: top;\n",
       "    }\n",
       "\n",
       "    .dataframe thead th {\n",
       "        text-align: right;\n",
       "    }\n",
       "</style>\n",
       "<table border=\"1\" class=\"dataframe\">\n",
       "  <thead>\n",
       "    <tr style=\"text-align: right;\">\n",
       "      <th></th>\n",
       "      <th>ID</th>\n",
       "      <th>var3</th>\n",
       "      <th>var15</th>\n",
       "      <th>imp_ent_var16_ult1</th>\n",
       "      <th>imp_op_var39_comer_ult1</th>\n",
       "      <th>imp_op_var39_comer_ult3</th>\n",
       "      <th>imp_op_var40_comer_ult1</th>\n",
       "      <th>imp_op_var40_comer_ult3</th>\n",
       "      <th>imp_op_var40_efect_ult1</th>\n",
       "      <th>imp_op_var40_efect_ult3</th>\n",
       "      <th>...</th>\n",
       "      <th>saldo_medio_var33_hace2</th>\n",
       "      <th>saldo_medio_var33_hace3</th>\n",
       "      <th>saldo_medio_var33_ult1</th>\n",
       "      <th>saldo_medio_var33_ult3</th>\n",
       "      <th>saldo_medio_var44_hace2</th>\n",
       "      <th>saldo_medio_var44_hace3</th>\n",
       "      <th>saldo_medio_var44_ult1</th>\n",
       "      <th>saldo_medio_var44_ult3</th>\n",
       "      <th>var38</th>\n",
       "      <th>TARGET</th>\n",
       "    </tr>\n",
       "  </thead>\n",
       "  <tbody>\n",
       "    <tr>\n",
       "      <th>count</th>\n",
       "      <td>76020.000000</td>\n",
       "      <td>76020.000000</td>\n",
       "      <td>76020.000000</td>\n",
       "      <td>76020.000000</td>\n",
       "      <td>76020.000000</td>\n",
       "      <td>76020.000000</td>\n",
       "      <td>76020.000000</td>\n",
       "      <td>76020.000000</td>\n",
       "      <td>76020.000000</td>\n",
       "      <td>76020.000000</td>\n",
       "      <td>...</td>\n",
       "      <td>76020.000000</td>\n",
       "      <td>76020.000000</td>\n",
       "      <td>76020.000000</td>\n",
       "      <td>76020.000000</td>\n",
       "      <td>76020.000000</td>\n",
       "      <td>76020.000000</td>\n",
       "      <td>76020.000000</td>\n",
       "      <td>76020.000000</td>\n",
       "      <td>7.602000e+04</td>\n",
       "      <td>76020.000000</td>\n",
       "    </tr>\n",
       "    <tr>\n",
       "      <th>mean</th>\n",
       "      <td>75964.050723</td>\n",
       "      <td>-1523.199277</td>\n",
       "      <td>33.212865</td>\n",
       "      <td>86.208265</td>\n",
       "      <td>72.363067</td>\n",
       "      <td>119.529632</td>\n",
       "      <td>3.559130</td>\n",
       "      <td>6.472698</td>\n",
       "      <td>0.412946</td>\n",
       "      <td>0.567352</td>\n",
       "      <td>...</td>\n",
       "      <td>7.935824</td>\n",
       "      <td>1.365146</td>\n",
       "      <td>12.215580</td>\n",
       "      <td>8.784074</td>\n",
       "      <td>31.505324</td>\n",
       "      <td>1.858575</td>\n",
       "      <td>76.026165</td>\n",
       "      <td>56.614351</td>\n",
       "      <td>1.172358e+05</td>\n",
       "      <td>0.039569</td>\n",
       "    </tr>\n",
       "    <tr>\n",
       "      <th>std</th>\n",
       "      <td>43781.947379</td>\n",
       "      <td>39033.462364</td>\n",
       "      <td>12.956486</td>\n",
       "      <td>1614.757313</td>\n",
       "      <td>339.315831</td>\n",
       "      <td>546.266294</td>\n",
       "      <td>93.155749</td>\n",
       "      <td>153.737066</td>\n",
       "      <td>30.604864</td>\n",
       "      <td>36.513513</td>\n",
       "      <td>...</td>\n",
       "      <td>455.887218</td>\n",
       "      <td>113.959637</td>\n",
       "      <td>783.207399</td>\n",
       "      <td>538.439211</td>\n",
       "      <td>2013.125393</td>\n",
       "      <td>147.786584</td>\n",
       "      <td>4040.337842</td>\n",
       "      <td>2852.579397</td>\n",
       "      <td>1.826646e+05</td>\n",
       "      <td>0.194945</td>\n",
       "    </tr>\n",
       "    <tr>\n",
       "      <th>min</th>\n",
       "      <td>1.000000</td>\n",
       "      <td>-999999.000000</td>\n",
       "      <td>5.000000</td>\n",
       "      <td>0.000000</td>\n",
       "      <td>0.000000</td>\n",
       "      <td>0.000000</td>\n",
       "      <td>0.000000</td>\n",
       "      <td>0.000000</td>\n",
       "      <td>0.000000</td>\n",
       "      <td>0.000000</td>\n",
       "      <td>...</td>\n",
       "      <td>0.000000</td>\n",
       "      <td>0.000000</td>\n",
       "      <td>0.000000</td>\n",
       "      <td>0.000000</td>\n",
       "      <td>0.000000</td>\n",
       "      <td>0.000000</td>\n",
       "      <td>0.000000</td>\n",
       "      <td>0.000000</td>\n",
       "      <td>5.163750e+03</td>\n",
       "      <td>0.000000</td>\n",
       "    </tr>\n",
       "    <tr>\n",
       "      <th>25%</th>\n",
       "      <td>38104.750000</td>\n",
       "      <td>2.000000</td>\n",
       "      <td>23.000000</td>\n",
       "      <td>0.000000</td>\n",
       "      <td>0.000000</td>\n",
       "      <td>0.000000</td>\n",
       "      <td>0.000000</td>\n",
       "      <td>0.000000</td>\n",
       "      <td>0.000000</td>\n",
       "      <td>0.000000</td>\n",
       "      <td>...</td>\n",
       "      <td>0.000000</td>\n",
       "      <td>0.000000</td>\n",
       "      <td>0.000000</td>\n",
       "      <td>0.000000</td>\n",
       "      <td>0.000000</td>\n",
       "      <td>0.000000</td>\n",
       "      <td>0.000000</td>\n",
       "      <td>0.000000</td>\n",
       "      <td>6.787061e+04</td>\n",
       "      <td>0.000000</td>\n",
       "    </tr>\n",
       "    <tr>\n",
       "      <th>50%</th>\n",
       "      <td>76043.000000</td>\n",
       "      <td>2.000000</td>\n",
       "      <td>28.000000</td>\n",
       "      <td>0.000000</td>\n",
       "      <td>0.000000</td>\n",
       "      <td>0.000000</td>\n",
       "      <td>0.000000</td>\n",
       "      <td>0.000000</td>\n",
       "      <td>0.000000</td>\n",
       "      <td>0.000000</td>\n",
       "      <td>...</td>\n",
       "      <td>0.000000</td>\n",
       "      <td>0.000000</td>\n",
       "      <td>0.000000</td>\n",
       "      <td>0.000000</td>\n",
       "      <td>0.000000</td>\n",
       "      <td>0.000000</td>\n",
       "      <td>0.000000</td>\n",
       "      <td>0.000000</td>\n",
       "      <td>1.064092e+05</td>\n",
       "      <td>0.000000</td>\n",
       "    </tr>\n",
       "    <tr>\n",
       "      <th>75%</th>\n",
       "      <td>113748.750000</td>\n",
       "      <td>2.000000</td>\n",
       "      <td>40.000000</td>\n",
       "      <td>0.000000</td>\n",
       "      <td>0.000000</td>\n",
       "      <td>0.000000</td>\n",
       "      <td>0.000000</td>\n",
       "      <td>0.000000</td>\n",
       "      <td>0.000000</td>\n",
       "      <td>0.000000</td>\n",
       "      <td>...</td>\n",
       "      <td>0.000000</td>\n",
       "      <td>0.000000</td>\n",
       "      <td>0.000000</td>\n",
       "      <td>0.000000</td>\n",
       "      <td>0.000000</td>\n",
       "      <td>0.000000</td>\n",
       "      <td>0.000000</td>\n",
       "      <td>0.000000</td>\n",
       "      <td>1.187563e+05</td>\n",
       "      <td>0.000000</td>\n",
       "    </tr>\n",
       "    <tr>\n",
       "      <th>max</th>\n",
       "      <td>151838.000000</td>\n",
       "      <td>238.000000</td>\n",
       "      <td>105.000000</td>\n",
       "      <td>210000.000000</td>\n",
       "      <td>12888.030000</td>\n",
       "      <td>21024.810000</td>\n",
       "      <td>8237.820000</td>\n",
       "      <td>11073.570000</td>\n",
       "      <td>6600.000000</td>\n",
       "      <td>6600.000000</td>\n",
       "      <td>...</td>\n",
       "      <td>50003.880000</td>\n",
       "      <td>20385.720000</td>\n",
       "      <td>138831.630000</td>\n",
       "      <td>91778.730000</td>\n",
       "      <td>438329.220000</td>\n",
       "      <td>24650.010000</td>\n",
       "      <td>681462.900000</td>\n",
       "      <td>397884.300000</td>\n",
       "      <td>2.203474e+07</td>\n",
       "      <td>1.000000</td>\n",
       "    </tr>\n",
       "  </tbody>\n",
       "</table>\n",
       "<p>8 rows × 371 columns</p>\n",
       "</div>"
      ],
      "text/plain": [
       "                  ID           var3         var15  imp_ent_var16_ult1  \\\n",
       "count   76020.000000   76020.000000  76020.000000        76020.000000   \n",
       "mean    75964.050723   -1523.199277     33.212865           86.208265   \n",
       "std     43781.947379   39033.462364     12.956486         1614.757313   \n",
       "min         1.000000 -999999.000000      5.000000            0.000000   \n",
       "25%     38104.750000       2.000000     23.000000            0.000000   \n",
       "50%     76043.000000       2.000000     28.000000            0.000000   \n",
       "75%    113748.750000       2.000000     40.000000            0.000000   \n",
       "max    151838.000000     238.000000    105.000000       210000.000000   \n",
       "\n",
       "       imp_op_var39_comer_ult1  imp_op_var39_comer_ult3  \\\n",
       "count             76020.000000             76020.000000   \n",
       "mean                 72.363067               119.529632   \n",
       "std                 339.315831               546.266294   \n",
       "min                   0.000000                 0.000000   \n",
       "25%                   0.000000                 0.000000   \n",
       "50%                   0.000000                 0.000000   \n",
       "75%                   0.000000                 0.000000   \n",
       "max               12888.030000             21024.810000   \n",
       "\n",
       "       imp_op_var40_comer_ult1  imp_op_var40_comer_ult3  \\\n",
       "count             76020.000000             76020.000000   \n",
       "mean                  3.559130                 6.472698   \n",
       "std                  93.155749               153.737066   \n",
       "min                   0.000000                 0.000000   \n",
       "25%                   0.000000                 0.000000   \n",
       "50%                   0.000000                 0.000000   \n",
       "75%                   0.000000                 0.000000   \n",
       "max                8237.820000             11073.570000   \n",
       "\n",
       "       imp_op_var40_efect_ult1  imp_op_var40_efect_ult3  ...  \\\n",
       "count             76020.000000             76020.000000  ...   \n",
       "mean                  0.412946                 0.567352  ...   \n",
       "std                  30.604864                36.513513  ...   \n",
       "min                   0.000000                 0.000000  ...   \n",
       "25%                   0.000000                 0.000000  ...   \n",
       "50%                   0.000000                 0.000000  ...   \n",
       "75%                   0.000000                 0.000000  ...   \n",
       "max                6600.000000              6600.000000  ...   \n",
       "\n",
       "       saldo_medio_var33_hace2  saldo_medio_var33_hace3  \\\n",
       "count             76020.000000             76020.000000   \n",
       "mean                  7.935824                 1.365146   \n",
       "std                 455.887218               113.959637   \n",
       "min                   0.000000                 0.000000   \n",
       "25%                   0.000000                 0.000000   \n",
       "50%                   0.000000                 0.000000   \n",
       "75%                   0.000000                 0.000000   \n",
       "max               50003.880000             20385.720000   \n",
       "\n",
       "       saldo_medio_var33_ult1  saldo_medio_var33_ult3  \\\n",
       "count            76020.000000            76020.000000   \n",
       "mean                12.215580                8.784074   \n",
       "std                783.207399              538.439211   \n",
       "min                  0.000000                0.000000   \n",
       "25%                  0.000000                0.000000   \n",
       "50%                  0.000000                0.000000   \n",
       "75%                  0.000000                0.000000   \n",
       "max             138831.630000            91778.730000   \n",
       "\n",
       "       saldo_medio_var44_hace2  saldo_medio_var44_hace3  \\\n",
       "count             76020.000000             76020.000000   \n",
       "mean                 31.505324                 1.858575   \n",
       "std                2013.125393               147.786584   \n",
       "min                   0.000000                 0.000000   \n",
       "25%                   0.000000                 0.000000   \n",
       "50%                   0.000000                 0.000000   \n",
       "75%                   0.000000                 0.000000   \n",
       "max              438329.220000             24650.010000   \n",
       "\n",
       "       saldo_medio_var44_ult1  saldo_medio_var44_ult3         var38  \\\n",
       "count            76020.000000            76020.000000  7.602000e+04   \n",
       "mean                76.026165               56.614351  1.172358e+05   \n",
       "std               4040.337842             2852.579397  1.826646e+05   \n",
       "min                  0.000000                0.000000  5.163750e+03   \n",
       "25%                  0.000000                0.000000  6.787061e+04   \n",
       "50%                  0.000000                0.000000  1.064092e+05   \n",
       "75%                  0.000000                0.000000  1.187563e+05   \n",
       "max             681462.900000           397884.300000  2.203474e+07   \n",
       "\n",
       "             TARGET  \n",
       "count  76020.000000  \n",
       "mean       0.039569  \n",
       "std        0.194945  \n",
       "min        0.000000  \n",
       "25%        0.000000  \n",
       "50%        0.000000  \n",
       "75%        0.000000  \n",
       "max        1.000000  \n",
       "\n",
       "[8 rows x 371 columns]"
      ]
     },
     "execution_count": 5,
     "metadata": {},
     "output_type": "execute_result"
    }
   ],
   "source": [
    "df.describe()"
   ]
  },
  {
   "cell_type": "markdown",
   "metadata": {},
   "source": [
    "### Separa variável resposta e dropa variável da base de features"
   ]
  },
  {
   "cell_type": "code",
   "execution_count": 6,
   "metadata": {
    "execution": {
     "iopub.execute_input": "2022-01-14T17:58:08.519818Z",
     "iopub.status.busy": "2022-01-14T17:58:08.519640Z",
     "iopub.status.idle": "2022-01-14T17:58:08.523320Z",
     "shell.execute_reply": "2022-01-14T17:58:08.522478Z",
     "shell.execute_reply.started": "2022-01-14T17:58:08.519799Z"
    }
   },
   "outputs": [],
   "source": [
    "y = df['TARGET']"
   ]
  },
  {
   "cell_type": "code",
   "execution_count": 7,
   "metadata": {
    "execution": {
     "iopub.execute_input": "2022-01-14T17:58:08.524403Z",
     "iopub.status.busy": "2022-01-14T17:58:08.524246Z",
     "iopub.status.idle": "2022-01-14T17:58:08.664105Z",
     "shell.execute_reply": "2022-01-14T17:58:08.663383Z",
     "shell.execute_reply.started": "2022-01-14T17:58:08.524386Z"
    }
   },
   "outputs": [
    {
     "data": {
      "text/plain": [
       "(76020, 369)"
      ]
     },
     "execution_count": 7,
     "metadata": {},
     "output_type": "execute_result"
    }
   ],
   "source": [
    "df = df.drop(columns=['ID','TARGET'])\n",
    "df[\"var3\"].replace({-999999.000000: 2}, inplace=True)\n",
    "df.shape"
   ]
  },
  {
   "cell_type": "markdown",
   "metadata": {},
   "source": [
    "Neste passo foram observadas duas coisas. 1) Existe a variável 'ID' que é referente a identficação do cliente e sendo assim não trará discriminação para o modelo, por este motivo foi removida da base. 2) Pelo resumo das estatísticas foi possível observar que a variável 'var3' apresenta um valor distoante (-999999) que pode ser algum valor de erro ou filtro. Por este motivo estes valores foram substituídos pelo valor mais usual da variável (moda). "
   ]
  },
  {
   "cell_type": "markdown",
   "metadata": {},
   "source": [
    "# <font color='blue'> Análise da Target"
   ]
  },
  {
   "cell_type": "code",
   "execution_count": 8,
   "metadata": {
    "execution": {
     "iopub.execute_input": "2022-01-14T17:58:08.665579Z",
     "iopub.status.busy": "2022-01-14T17:58:08.665300Z",
     "iopub.status.idle": "2022-01-14T17:58:08.677557Z",
     "shell.execute_reply": "2022-01-14T17:58:08.676766Z",
     "shell.execute_reply.started": "2022-01-14T17:58:08.665536Z"
    }
   },
   "outputs": [
    {
     "data": {
      "text/plain": [
       "0    73012\n",
       "1     3008\n",
       "Name: TARGET, dtype: int64"
      ]
     },
     "execution_count": 8,
     "metadata": {},
     "output_type": "execute_result"
    }
   ],
   "source": [
    "y.value_counts()"
   ]
  },
  {
   "cell_type": "code",
   "execution_count": 9,
   "metadata": {
    "execution": {
     "iopub.execute_input": "2022-01-14T17:58:08.680065Z",
     "iopub.status.busy": "2022-01-14T17:58:08.679898Z",
     "iopub.status.idle": "2022-01-14T17:58:08.799588Z",
     "shell.execute_reply": "2022-01-14T17:58:08.798888Z",
     "shell.execute_reply.started": "2022-01-14T17:58:08.680046Z"
    }
   },
   "outputs": [
    {
     "data": {
      "text/plain": [
       "<AxesSubplot:ylabel='TARGET'>"
      ]
     },
     "execution_count": 9,
     "metadata": {},
     "output_type": "execute_result"
    },
    {
     "data": {
      "image/png": "[encoded data removed]",
      "text/plain": [
       "<Figure size 432x288 with 1 Axes>"
      ]
     },
     "metadata": {},
     "output_type": "display_data"
    }
   ],
   "source": [
    "y.value_counts().plot.pie(autopct = '%1.2f%%', colors=['grey','red'])"
   ]
  },
  {
   "cell_type": "markdown",
   "metadata": {},
   "source": [
    "**É possível observar que cerca de 4% da base é de clientes insatisfeitos e 96% de clientes satisfeitos**"
   ]
  },
  {
   "cell_type": "markdown",
   "metadata": {},
   "source": [
    "# **<font color = 'red'> TRATAMENTO DA BASE**"
   ]
  },
  {
   "cell_type": "markdown",
   "metadata": {},
   "source": [
    "# <font color='blue'> Verifica Missing"
   ]
  },
  {
   "cell_type": "code",
   "execution_count": 10,
   "metadata": {
    "execution": {
     "iopub.execute_input": "2022-01-14T17:58:08.801377Z",
     "iopub.status.busy": "2022-01-14T17:58:08.801118Z",
     "iopub.status.idle": "2022-01-14T17:58:34.578608Z",
     "shell.execute_reply": "2022-01-14T17:58:34.577672Z",
     "shell.execute_reply.started": "2022-01-14T17:58:08.801348Z"
    }
   },
   "outputs": [
    {
     "data": {
      "text/plain": [
       "<AxesSubplot:>"
      ]
     },
     "execution_count": 10,
     "metadata": {},
     "output_type": "execute_result"
    },
    {
     "data": {
      "image/png": "[encoded data removed]",
      "text/plain": [
       "<Figure size 720x432 with 2 Axes>"
      ]
     },
     "metadata": {
      "needs_background": "light"
     },
     "output_type": "display_data"
    }
   ],
   "source": [
    "plt.figure(figsize=(10,6))\n",
    "sns.heatmap(df.isna(), cmap=\"YlGnBu\",cbar_kws={'label': 'Missing Data'})"
   ]
  },
  {
   "cell_type": "markdown",
   "metadata": {},
   "source": [
    "Não há informações faltantes na base. "
   ]
  },
  {
   "cell_type": "markdown",
   "metadata": {},
   "source": [
    "# <font color='blue'> Verifica Outlier"
   ]
  },
  {
   "cell_type": "markdown",
   "metadata": {},
   "source": [
    "O critério adotado para detecção de outliers foi baseado na média e desvio padrão de cada variável, sendo que o tratamento considerado será a substituição do outlier pelos limites superior (cap) e inferior (floor). <br>\n",
    "Os limites serão definidos da seguinte forma: <br>\n",
    "$Floor = mean - 2.5 * std $ <br>\n",
    "$Cap = mean + 2.5 * std$"
   ]
  },
  {
   "cell_type": "code",
   "execution_count": 11,
   "metadata": {
    "execution": {
     "iopub.execute_input": "2022-01-14T17:58:34.580298Z",
     "iopub.status.busy": "2022-01-14T17:58:34.580029Z",
     "iopub.status.idle": "2022-01-14T17:58:34.916621Z",
     "shell.execute_reply": "2022-01-14T17:58:34.915753Z",
     "shell.execute_reply.started": "2022-01-14T17:58:34.580263Z"
    }
   },
   "outputs": [],
   "source": [
    "mean = np.mean(df)\n",
    "std = np.std(df)\n",
    "floor = mean - 2.5*std\n",
    "cap = mean + 2.5*std"
   ]
  },
  {
   "cell_type": "code",
   "execution_count": 12,
   "metadata": {
    "execution": {
     "iopub.execute_input": "2022-01-14T17:58:34.918057Z",
     "iopub.status.busy": "2022-01-14T17:58:34.917869Z",
     "iopub.status.idle": "2022-01-14T17:58:43.069539Z",
     "shell.execute_reply": "2022-01-14T17:58:43.068854Z",
     "shell.execute_reply.started": "2022-01-14T17:58:34.918038Z"
    }
   },
   "outputs": [],
   "source": [
    "for i in df.columns:\n",
    "    df[i] = np.where(df[i] < floor[i], floor[i], df[i])\n",
    "    df[i] = np.where(df[i] > cap[i], cap[i], df[i])"
   ]
  },
  {
   "cell_type": "code",
   "execution_count": 13,
   "metadata": {
    "execution": {
     "iopub.execute_input": "2022-01-14T17:58:43.070722Z",
     "iopub.status.busy": "2022-01-14T17:58:43.070556Z",
     "iopub.status.idle": "2022-01-14T17:58:44.506753Z",
     "shell.execute_reply": "2022-01-14T17:58:44.506126Z",
     "shell.execute_reply.started": "2022-01-14T17:58:43.070704Z"
    }
   },
   "outputs": [
    {
     "data": {
      "text/html": [
       "<div>\n",
       "<style scoped>\n",
       "    .dataframe tbody tr th:only-of-type {\n",
       "        vertical-align: middle;\n",
       "    }\n",
       "\n",
       "    .dataframe tbody tr th {\n",
       "        vertical-align: top;\n",
       "    }\n",
       "\n",
       "    .dataframe thead th {\n",
       "        text-align: right;\n",
       "    }\n",
       "</style>\n",
       "<table border=\"1\" class=\"dataframe\">\n",
       "  <thead>\n",
       "    <tr style=\"text-align: right;\">\n",
       "      <th></th>\n",
       "      <th>var3</th>\n",
       "      <th>var15</th>\n",
       "      <th>imp_ent_var16_ult1</th>\n",
       "      <th>imp_op_var39_comer_ult1</th>\n",
       "      <th>imp_op_var39_comer_ult3</th>\n",
       "      <th>imp_op_var40_comer_ult1</th>\n",
       "      <th>imp_op_var40_comer_ult3</th>\n",
       "      <th>imp_op_var40_efect_ult1</th>\n",
       "      <th>imp_op_var40_efect_ult3</th>\n",
       "      <th>imp_op_var40_ult1</th>\n",
       "      <th>...</th>\n",
       "      <th>saldo_medio_var29_ult3</th>\n",
       "      <th>saldo_medio_var33_hace2</th>\n",
       "      <th>saldo_medio_var33_hace3</th>\n",
       "      <th>saldo_medio_var33_ult1</th>\n",
       "      <th>saldo_medio_var33_ult3</th>\n",
       "      <th>saldo_medio_var44_hace2</th>\n",
       "      <th>saldo_medio_var44_hace3</th>\n",
       "      <th>saldo_medio_var44_ult1</th>\n",
       "      <th>saldo_medio_var44_ult3</th>\n",
       "      <th>var38</th>\n",
       "    </tr>\n",
       "  </thead>\n",
       "  <tbody>\n",
       "    <tr>\n",
       "      <th>count</th>\n",
       "      <td>76020.000000</td>\n",
       "      <td>76020.000000</td>\n",
       "      <td>76020.000000</td>\n",
       "      <td>76020.000000</td>\n",
       "      <td>76020.000000</td>\n",
       "      <td>76020.000000</td>\n",
       "      <td>76020.000000</td>\n",
       "      <td>76020.000000</td>\n",
       "      <td>76020.000000</td>\n",
       "      <td>76020.000000</td>\n",
       "      <td>...</td>\n",
       "      <td>76020.000000</td>\n",
       "      <td>76020.000000</td>\n",
       "      <td>76020.000000</td>\n",
       "      <td>76020.000000</td>\n",
       "      <td>76020.000000</td>\n",
       "      <td>76020.000000</td>\n",
       "      <td>76020.000000</td>\n",
       "      <td>76020.000000</td>\n",
       "      <td>76020.000000</td>\n",
       "      <td>76020.000000</td>\n",
       "    </tr>\n",
       "    <tr>\n",
       "      <th>mean</th>\n",
       "      <td>2.232550</td>\n",
       "      <td>32.915476</td>\n",
       "      <td>48.050829</td>\n",
       "      <td>51.229826</td>\n",
       "      <td>86.185522</td>\n",
       "      <td>0.793394</td>\n",
       "      <td>1.486636</td>\n",
       "      <td>0.037749</td>\n",
       "      <td>0.053250</td>\n",
       "      <td>0.646158</td>\n",
       "      <td>...</td>\n",
       "      <td>0.003153</td>\n",
       "      <td>0.603148</td>\n",
       "      <td>0.082880</td>\n",
       "      <td>1.086403</td>\n",
       "      <td>0.753908</td>\n",
       "      <td>5.102302</td>\n",
       "      <td>0.149253</td>\n",
       "      <td>13.593422</td>\n",
       "      <td>10.100107</td>\n",
       "      <td>113064.168167</td>\n",
       "    </tr>\n",
       "    <tr>\n",
       "      <th>std</th>\n",
       "      <td>2.026413</td>\n",
       "      <td>11.990362</td>\n",
       "      <td>337.560807</td>\n",
       "      <td>179.133270</td>\n",
       "      <td>289.499217</td>\n",
       "      <td>13.302093</td>\n",
       "      <td>23.341544</td>\n",
       "      <td>1.691100</td>\n",
       "      <td>2.194593</td>\n",
       "      <td>12.199280</td>\n",
       "      <td>...</td>\n",
       "      <td>0.501827</td>\n",
       "      <td>26.091665</td>\n",
       "      <td>4.799873</td>\n",
       "      <td>45.569850</td>\n",
       "      <td>31.435433</td>\n",
       "      <td>155.855274</td>\n",
       "      <td>7.406325</td>\n",
       "      <td>354.803105</td>\n",
       "      <td>258.550369</td>\n",
       "      <td>74493.565148</td>\n",
       "    </tr>\n",
       "    <tr>\n",
       "      <th>min</th>\n",
       "      <td>0.000000</td>\n",
       "      <td>5.000000</td>\n",
       "      <td>0.000000</td>\n",
       "      <td>0.000000</td>\n",
       "      <td>0.000000</td>\n",
       "      <td>0.000000</td>\n",
       "      <td>0.000000</td>\n",
       "      <td>0.000000</td>\n",
       "      <td>0.000000</td>\n",
       "      <td>0.000000</td>\n",
       "      <td>...</td>\n",
       "      <td>0.000000</td>\n",
       "      <td>0.000000</td>\n",
       "      <td>0.000000</td>\n",
       "      <td>0.000000</td>\n",
       "      <td>0.000000</td>\n",
       "      <td>0.000000</td>\n",
       "      <td>0.000000</td>\n",
       "      <td>0.000000</td>\n",
       "      <td>0.000000</td>\n",
       "      <td>5163.750000</td>\n",
       "    </tr>\n",
       "    <tr>\n",
       "      <th>25%</th>\n",
       "      <td>2.000000</td>\n",
       "      <td>23.000000</td>\n",
       "      <td>0.000000</td>\n",
       "      <td>0.000000</td>\n",
       "      <td>0.000000</td>\n",
       "      <td>0.000000</td>\n",
       "      <td>0.000000</td>\n",
       "      <td>0.000000</td>\n",
       "      <td>0.000000</td>\n",
       "      <td>0.000000</td>\n",
       "      <td>...</td>\n",
       "      <td>0.000000</td>\n",
       "      <td>0.000000</td>\n",
       "      <td>0.000000</td>\n",
       "      <td>0.000000</td>\n",
       "      <td>0.000000</td>\n",
       "      <td>0.000000</td>\n",
       "      <td>0.000000</td>\n",
       "      <td>0.000000</td>\n",
       "      <td>0.000000</td>\n",
       "      <td>67870.612500</td>\n",
       "    </tr>\n",
       "    <tr>\n",
       "      <th>50%</th>\n",
       "      <td>2.000000</td>\n",
       "      <td>28.000000</td>\n",
       "      <td>0.000000</td>\n",
       "      <td>0.000000</td>\n",
       "      <td>0.000000</td>\n",
       "      <td>0.000000</td>\n",
       "      <td>0.000000</td>\n",
       "      <td>0.000000</td>\n",
       "      <td>0.000000</td>\n",
       "      <td>0.000000</td>\n",
       "      <td>...</td>\n",
       "      <td>0.000000</td>\n",
       "      <td>0.000000</td>\n",
       "      <td>0.000000</td>\n",
       "      <td>0.000000</td>\n",
       "      <td>0.000000</td>\n",
       "      <td>0.000000</td>\n",
       "      <td>0.000000</td>\n",
       "      <td>0.000000</td>\n",
       "      <td>0.000000</td>\n",
       "      <td>106409.160000</td>\n",
       "    </tr>\n",
       "    <tr>\n",
       "      <th>75%</th>\n",
       "      <td>2.000000</td>\n",
       "      <td>40.000000</td>\n",
       "      <td>0.000000</td>\n",
       "      <td>0.000000</td>\n",
       "      <td>0.000000</td>\n",
       "      <td>0.000000</td>\n",
       "      <td>0.000000</td>\n",
       "      <td>0.000000</td>\n",
       "      <td>0.000000</td>\n",
       "      <td>0.000000</td>\n",
       "      <td>...</td>\n",
       "      <td>0.000000</td>\n",
       "      <td>0.000000</td>\n",
       "      <td>0.000000</td>\n",
       "      <td>0.000000</td>\n",
       "      <td>0.000000</td>\n",
       "      <td>0.000000</td>\n",
       "      <td>0.000000</td>\n",
       "      <td>0.000000</td>\n",
       "      <td>0.000000</td>\n",
       "      <td>118756.252500</td>\n",
       "    </tr>\n",
       "    <tr>\n",
       "      <th>max</th>\n",
       "      <td>26.336255</td>\n",
       "      <td>65.603867</td>\n",
       "      <td>4123.074995</td>\n",
       "      <td>920.647065</td>\n",
       "      <td>1485.186385</td>\n",
       "      <td>236.446970</td>\n",
       "      <td>390.812834</td>\n",
       "      <td>76.924603</td>\n",
       "      <td>91.850535</td>\n",
       "      <td>241.329660</td>\n",
       "      <td>...</td>\n",
       "      <td>79.884651</td>\n",
       "      <td>1147.646373</td>\n",
       "      <td>286.262365</td>\n",
       "      <td>1970.221199</td>\n",
       "      <td>1354.873247</td>\n",
       "      <td>5064.285704</td>\n",
       "      <td>371.322605</td>\n",
       "      <td>10176.804334</td>\n",
       "      <td>7188.015939</td>\n",
       "      <td>573894.302116</td>\n",
       "    </tr>\n",
       "  </tbody>\n",
       "</table>\n",
       "<p>8 rows × 369 columns</p>\n",
       "</div>"
      ],
      "text/plain": [
       "               var3         var15  imp_ent_var16_ult1  \\\n",
       "count  76020.000000  76020.000000        76020.000000   \n",
       "mean       2.232550     32.915476           48.050829   \n",
       "std        2.026413     11.990362          337.560807   \n",
       "min        0.000000      5.000000            0.000000   \n",
       "25%        2.000000     23.000000            0.000000   \n",
       "50%        2.000000     28.000000            0.000000   \n",
       "75%        2.000000     40.000000            0.000000   \n",
       "max       26.336255     65.603867         4123.074995   \n",
       "\n",
       "       imp_op_var39_comer_ult1  imp_op_var39_comer_ult3  \\\n",
       "count             76020.000000             76020.000000   \n",
       "mean                 51.229826                86.185522   \n",
       "std                 179.133270               289.499217   \n",
       "min                   0.000000                 0.000000   \n",
       "25%                   0.000000                 0.000000   \n",
       "50%                   0.000000                 0.000000   \n",
       "75%                   0.000000                 0.000000   \n",
       "max                 920.647065              1485.186385   \n",
       "\n",
       "       imp_op_var40_comer_ult1  imp_op_var40_comer_ult3  \\\n",
       "count             76020.000000             76020.000000   \n",
       "mean                  0.793394                 1.486636   \n",
       "std                  13.302093                23.341544   \n",
       "min                   0.000000                 0.000000   \n",
       "25%                   0.000000                 0.000000   \n",
       "50%                   0.000000                 0.000000   \n",
       "75%                   0.000000                 0.000000   \n",
       "max                 236.446970               390.812834   \n",
       "\n",
       "       imp_op_var40_efect_ult1  imp_op_var40_efect_ult3  imp_op_var40_ult1  \\\n",
       "count             76020.000000             76020.000000       76020.000000   \n",
       "mean                  0.037749                 0.053250           0.646158   \n",
       "std                   1.691100                 2.194593          12.199280   \n",
       "min                   0.000000                 0.000000           0.000000   \n",
       "25%                   0.000000                 0.000000           0.000000   \n",
       "50%                   0.000000                 0.000000           0.000000   \n",
       "75%                   0.000000                 0.000000           0.000000   \n",
       "max                  76.924603                91.850535         241.329660   \n",
       "\n",
       "       ...  saldo_medio_var29_ult3  saldo_medio_var33_hace2  \\\n",
       "count  ...            76020.000000             76020.000000   \n",
       "mean   ...                0.003153                 0.603148   \n",
       "std    ...                0.501827                26.091665   \n",
       "min    ...                0.000000                 0.000000   \n",
       "25%    ...                0.000000                 0.000000   \n",
       "50%    ...                0.000000                 0.000000   \n",
       "75%    ...                0.000000                 0.000000   \n",
       "max    ...               79.884651              1147.646373   \n",
       "\n",
       "       saldo_medio_var33_hace3  saldo_medio_var33_ult1  \\\n",
       "count             76020.000000            76020.000000   \n",
       "mean                  0.082880                1.086403   \n",
       "std                   4.799873               45.569850   \n",
       "min                   0.000000                0.000000   \n",
       "25%                   0.000000                0.000000   \n",
       "50%                   0.000000                0.000000   \n",
       "75%                   0.000000                0.000000   \n",
       "max                 286.262365             1970.221199   \n",
       "\n",
       "       saldo_medio_var33_ult3  saldo_medio_var44_hace2  \\\n",
       "count            76020.000000             76020.000000   \n",
       "mean                 0.753908                 5.102302   \n",
       "std                 31.435433               155.855274   \n",
       "min                  0.000000                 0.000000   \n",
       "25%                  0.000000                 0.000000   \n",
       "50%                  0.000000                 0.000000   \n",
       "75%                  0.000000                 0.000000   \n",
       "max               1354.873247              5064.285704   \n",
       "\n",
       "       saldo_medio_var44_hace3  saldo_medio_var44_ult1  \\\n",
       "count             76020.000000            76020.000000   \n",
       "mean                  0.149253               13.593422   \n",
       "std                   7.406325              354.803105   \n",
       "min                   0.000000                0.000000   \n",
       "25%                   0.000000                0.000000   \n",
       "50%                   0.000000                0.000000   \n",
       "75%                   0.000000                0.000000   \n",
       "max                 371.322605            10176.804334   \n",
       "\n",
       "       saldo_medio_var44_ult3          var38  \n",
       "count            76020.000000   76020.000000  \n",
       "mean                10.100107  113064.168167  \n",
       "std                258.550369   74493.565148  \n",
       "min                  0.000000    5163.750000  \n",
       "25%                  0.000000   67870.612500  \n",
       "50%                  0.000000  106409.160000  \n",
       "75%                  0.000000  118756.252500  \n",
       "max               7188.015939  573894.302116  \n",
       "\n",
       "[8 rows x 369 columns]"
      ]
     },
     "execution_count": 13,
     "metadata": {},
     "output_type": "execute_result"
    }
   ],
   "source": [
    "df.describe()"
   ]
  },
  {
   "cell_type": "markdown",
   "metadata": {},
   "source": [
    "# <font color='blue'> Verifica Variância Constante / Duplicado"
   ]
  },
  {
   "cell_type": "markdown",
   "metadata": {},
   "source": [
    "Neste passo serão removidas as features que forem constantes (apresentarem o mesmo valor para todas as observações) e features duplicadas (features que apresentam valores exatamente iguais a outra feature). "
   ]
  },
  {
   "cell_type": "code",
   "execution_count": 14,
   "metadata": {
    "execution": {
     "iopub.execute_input": "2022-01-14T17:58:44.507896Z",
     "iopub.status.busy": "2022-01-14T17:58:44.507725Z",
     "iopub.status.idle": "2022-01-14T17:58:59.676934Z",
     "shell.execute_reply": "2022-01-14T17:58:59.676407Z",
     "shell.execute_reply.started": "2022-01-14T17:58:44.507877Z"
    }
   },
   "outputs": [
    {
     "data": {
      "text/plain": [
       "Pipeline(steps=[('constant', DropConstantFeatures()),\n",
       "                ('duplicated', DropDuplicateFeatures())])"
      ]
     },
     "execution_count": 14,
     "metadata": {},
     "output_type": "execute_result"
    }
   ],
   "source": [
    "pipe = Pipeline([\n",
    "                ('constant', DropConstantFeatures()), # Constante\n",
    "                ('duplicated', DropDuplicateFeatures()), # Duplicado\n",
    "                ])\n",
    "pipe.fit(df)"
   ]
  },
  {
   "cell_type": "code",
   "execution_count": 15,
   "metadata": {
    "execution": {
     "iopub.execute_input": "2022-01-14T17:58:59.678098Z",
     "iopub.status.busy": "2022-01-14T17:58:59.677930Z",
     "iopub.status.idle": "2022-01-14T17:58:59.681920Z",
     "shell.execute_reply": "2022-01-14T17:58:59.681472Z",
     "shell.execute_reply.started": "2022-01-14T17:58:59.678078Z"
    }
   },
   "outputs": [
    {
     "name": "stdout",
     "output_type": "stream",
     "text": [
      "Quantidade de features constantes: 34\n",
      "Quantidade de features duplicadas 29\n"
     ]
    }
   ],
   "source": [
    "print(\"Quantidade de features constantes:\", len(pipe.named_steps['constant'].features_to_drop_))\n",
    "print(\"Quantidade de features duplicadas\", len(pipe.named_steps['duplicated'].features_to_drop_))"
   ]
  },
  {
   "cell_type": "code",
   "execution_count": 16,
   "metadata": {
    "execution": {
     "iopub.execute_input": "2022-01-14T17:58:59.683056Z",
     "iopub.status.busy": "2022-01-14T17:58:59.682909Z",
     "iopub.status.idle": "2022-01-14T17:59:00.082817Z",
     "shell.execute_reply": "2022-01-14T17:59:00.082247Z",
     "shell.execute_reply.started": "2022-01-14T17:58:59.683039Z"
    }
   },
   "outputs": [
    {
     "name": "stdout",
     "output_type": "stream",
     "text": [
      "Number of original variables:  369\n",
      "Number of variables after selection:  306\n"
     ]
    }
   ],
   "source": [
    "print('Number of original variables: ', df.shape[1])\n",
    "\n",
    "df = pipe.transform(df)\n",
    "\n",
    "print('Number of variables after selection: ', df.shape[1])"
   ]
  },
  {
   "cell_type": "markdown",
   "metadata": {},
   "source": [
    "**63 features foram removidas neste processo**"
   ]
  },
  {
   "cell_type": "markdown",
   "metadata": {},
   "source": [
    "# **<font color = 'red'> Separa base de treino e teste**"
   ]
  },
  {
   "cell_type": "markdown",
   "metadata": {},
   "source": [
    "Será realizada a separação da base de treino e teste na proporção 70/30. "
   ]
  },
  {
   "cell_type": "code",
   "execution_count": 17,
   "metadata": {
    "execution": {
     "iopub.execute_input": "2022-01-14T17:59:00.083855Z",
     "iopub.status.busy": "2022-01-14T17:59:00.083672Z",
     "iopub.status.idle": "2022-01-14T17:59:00.262535Z",
     "shell.execute_reply": "2022-01-14T17:59:00.261922Z",
     "shell.execute_reply.started": "2022-01-14T17:59:00.083833Z"
    }
   },
   "outputs": [],
   "source": [
    "X_train, X_test, y_train, y_test = train_test_split(df, y, test_size=0.3, random_state=14)"
   ]
  },
  {
   "cell_type": "code",
   "execution_count": 18,
   "metadata": {
    "execution": {
     "iopub.execute_input": "2022-01-14T17:59:00.263652Z",
     "iopub.status.busy": "2022-01-14T17:59:00.263463Z",
     "iopub.status.idle": "2022-01-14T17:59:00.267768Z",
     "shell.execute_reply": "2022-01-14T17:59:00.267246Z",
     "shell.execute_reply.started": "2022-01-14T17:59:00.263630Z"
    }
   },
   "outputs": [
    {
     "name": "stdout",
     "output_type": "stream",
     "text": [
      "X_Train:(53214, 306)\n",
      "y_train:(53214,)\n",
      "X_test:(22806, 306)\n",
      "y_test:(22806,)\n"
     ]
    }
   ],
   "source": [
    "print(\"X_Train:\" +str(X_train.shape))\n",
    "print(\"y_train:\" +str(y_train.shape))\n",
    "print(\"X_test:\" +str(X_test.shape))\n",
    "print(\"y_test:\" +str(y_test.shape))\n",
    "# X_Train:(53214, 306)\n",
    "# y_train:(53214,)\n",
    "# X_test:(22806, 306)\n",
    "# y_test:(22806,)"
   ]
  },
  {
   "cell_type": "code",
   "execution_count": 19,
   "metadata": {
    "execution": {
     "iopub.execute_input": "2022-01-14T17:59:00.268831Z",
     "iopub.status.busy": "2022-01-14T17:59:00.268646Z",
     "iopub.status.idle": "2022-01-14T17:59:00.296982Z",
     "shell.execute_reply": "2022-01-14T17:59:00.296409Z",
     "shell.execute_reply.started": "2022-01-14T17:59:00.268809Z"
    }
   },
   "outputs": [
    {
     "name": "stdout",
     "output_type": "stream",
     "text": [
      "Counter({0: 51119, 1: 2095})\n",
      "Counter({0: 21893, 1: 913})\n"
     ]
    }
   ],
   "source": [
    "print(Counter(y_train))\n",
    "\n",
    "print(Counter(y_test))\n",
    "# Counter({0: 51119, 1: 2095})\n",
    "# Counter({0: 21893, 1: 913})"
   ]
  },
  {
   "cell_type": "markdown",
   "metadata": {},
   "source": [
    "# <font color='blue'> **TAREFA 1**"
   ]
  },
  {
   "cell_type": "markdown",
   "metadata": {},
   "source": [
    "# **<font color = 'red'> Feature Selection**"
   ]
  },
  {
   "cell_type": "markdown",
   "metadata": {},
   "source": [
    "Para a seleção de variáveis, será utilizada a função SelectFromModel para definir as variáveis do modelo de Random Forest que possuem feature importance maior do que um determinado threshold (nesta ocasião será considerada a média). "
   ]
  },
  {
   "cell_type": "code",
   "execution_count": 20,
   "metadata": {
    "execution": {
     "iopub.execute_input": "2022-01-14T17:59:00.298054Z",
     "iopub.status.busy": "2022-01-14T17:59:00.297870Z",
     "iopub.status.idle": "2022-01-14T17:59:12.406402Z",
     "shell.execute_reply": "2022-01-14T17:59:12.405858Z",
     "shell.execute_reply.started": "2022-01-14T17:59:00.298033Z"
    }
   },
   "outputs": [
    {
     "data": {
      "text/plain": [
       "array([[3.10000000e+01, 0.00000000e+00, 0.00000000e+00, ...,\n",
       "        6.00000000e+02, 5.80650000e+02, 2.01571950e+05],\n",
       "       [2.40000000e+01, 0.00000000e+00, 0.00000000e+00, ...,\n",
       "        0.00000000e+00, 0.00000000e+00, 1.57866300e+05],\n",
       "       [2.40000000e+01, 0.00000000e+00, 0.00000000e+00, ...,\n",
       "        3.00000000e+00, 2.85000000e+00, 1.17310979e+05],\n",
       "       ...,\n",
       "       [2.30000000e+01, 0.00000000e+00, 0.00000000e+00, ...,\n",
       "        0.00000000e+00, 0.00000000e+00, 1.26139800e+05],\n",
       "       [2.30000000e+01, 0.00000000e+00, 0.00000000e+00, ...,\n",
       "        3.00000000e+00, 2.07000000e+00, 1.26790590e+05],\n",
       "       [4.60000000e+01, 0.00000000e+00, 0.00000000e+00, ...,\n",
       "        0.00000000e+00, 0.00000000e+00, 7.60263300e+04]])"
      ]
     },
     "execution_count": 20,
     "metadata": {},
     "output_type": "execute_result"
    }
   ],
   "source": [
    "rf_fs = RandomForestClassifier(random_state = 14)\n",
    "sfm = SelectFromModel(rf_fs, threshold = 'mean')\n",
    "sfm.fit(X_train,y_train)\n",
    "sfm.transform(X_train) "
   ]
  },
  {
   "cell_type": "code",
   "execution_count": 21,
   "metadata": {
    "execution": {
     "iopub.execute_input": "2022-01-14T17:59:12.407608Z",
     "iopub.status.busy": "2022-01-14T17:59:12.407387Z",
     "iopub.status.idle": "2022-01-14T17:59:12.450972Z",
     "shell.execute_reply": "2022-01-14T17:59:12.450484Z",
     "shell.execute_reply.started": "2022-01-14T17:59:12.407583Z"
    }
   },
   "outputs": [
    {
     "data": {
      "text/plain": [
       "Index(['var15', 'imp_ent_var16_ult1', 'imp_op_var39_comer_ult1',\n",
       "       'imp_op_var39_comer_ult3', 'imp_op_var41_comer_ult3',\n",
       "       'imp_op_var41_efect_ult3', 'imp_op_var41_ult1',\n",
       "       'imp_op_var39_efect_ult3', 'imp_op_var39_ult1', 'num_var4', 'num_var35',\n",
       "       'saldo_var5', 'saldo_var30', 'saldo_var37', 'saldo_var42', 'var36',\n",
       "       'imp_trans_var37_ult1', 'num_var22_hace2', 'num_var22_hace3',\n",
       "       'num_var22_ult1', 'num_var22_ult3', 'num_med_var22_ult3',\n",
       "       'num_med_var45_ult3', 'num_meses_var5_ult3', 'num_meses_var39_vig_ult3',\n",
       "       'num_var45_hace2', 'num_var45_hace3', 'num_var45_ult1',\n",
       "       'num_var45_ult3', 'saldo_medio_var5_hace2', 'saldo_medio_var5_hace3',\n",
       "       'saldo_medio_var5_ult1', 'saldo_medio_var5_ult3', 'var38'],\n",
       "      dtype='object')"
      ]
     },
     "execution_count": 21,
     "metadata": {},
     "output_type": "execute_result"
    }
   ],
   "source": [
    "selected_vars = X_train.columns[sfm.get_support()]\n",
    "selected_vars"
   ]
  },
  {
   "cell_type": "code",
   "execution_count": 22,
   "metadata": {
    "execution": {
     "iopub.execute_input": "2022-01-14T17:59:12.452020Z",
     "iopub.status.busy": "2022-01-14T17:59:12.451827Z",
     "iopub.status.idle": "2022-01-14T17:59:12.469867Z",
     "shell.execute_reply": "2022-01-14T17:59:12.469434Z",
     "shell.execute_reply.started": "2022-01-14T17:59:12.451996Z"
    }
   },
   "outputs": [
    {
     "data": {
      "text/plain": [
       "(53214, 34)"
      ]
     },
     "execution_count": 22,
     "metadata": {},
     "output_type": "execute_result"
    }
   ],
   "source": [
    "X_train_fs = X_train[selected_vars]\n",
    "X_train_fs.shape\n",
    "# (53214, 34)"
   ]
  },
  {
   "cell_type": "markdown",
   "metadata": {},
   "source": [
    "A partir do processo descrito, foram selecionadas 34 variáveis para o modelo final. "
   ]
  },
  {
   "cell_type": "markdown",
   "metadata": {},
   "source": [
    "# **<font color = 'red'> Escola do Modelo**"
   ]
  },
  {
   "cell_type": "markdown",
   "metadata": {},
   "source": [
    "Serão comparados diferentes tipos de modelos (Árvore de Decisão (DT), Random Forest(RF) e XGBoost(XGB)) e será selecionado o modelo com melhor perfomance de AUC. "
   ]
  },
  {
   "cell_type": "code",
   "execution_count": 23,
   "metadata": {
    "execution": {
     "iopub.execute_input": "2022-01-14T17:59:12.470787Z",
     "iopub.status.busy": "2022-01-14T17:59:12.470617Z",
     "iopub.status.idle": "2022-01-14T17:59:12.502589Z",
     "shell.execute_reply": "2022-01-14T17:59:12.502109Z",
     "shell.execute_reply.started": "2022-01-14T17:59:12.470767Z"
    }
   },
   "outputs": [],
   "source": [
    "DT = DecisionTreeClassifier(max_depth = 6, class_weight = \"balanced\", random_state = 14)\n",
    "RF = RandomForestClassifier(max_depth = 6, class_weight = \"balanced\", random_state = 14)\n",
    "XGB = XGBClassifier(scale_pos_weight = sum(y_train == 0) / sum(y_train == 1), random_state=14)"
   ]
  },
  {
   "cell_type": "markdown",
   "metadata": {},
   "source": [
    "Para evitar casos de overfit, limitou-se a profundidade máxima da árvore à 6 (o default do XGBoost). Além disso, incluiu-se o parâmetro de balanceamento dado que vimos que a base é desbalanceada (4% de target e 96% dos demais)."
   ]
  },
  {
   "cell_type": "code",
   "execution_count": 24,
   "metadata": {
    "execution": {
     "iopub.execute_input": "2022-01-14T17:59:12.503573Z",
     "iopub.status.busy": "2022-01-14T17:59:12.503401Z",
     "iopub.status.idle": "2022-01-14T17:59:21.088001Z",
     "shell.execute_reply": "2022-01-14T17:59:21.087525Z",
     "shell.execute_reply.started": "2022-01-14T17:59:12.503552Z"
    }
   },
   "outputs": [
    {
     "name": "stdout",
     "output_type": "stream",
     "text": [
      "AUC DT: 0.7781411112383614\n",
      "AUC DT (teste): 0.7515395624512309\n",
      "AUC RF: 0.7746095275561105\n",
      "AUC RF (teste): 0.7526357782441726\n",
      "AUC XGB: 0.7867016131249929\n",
      "AUC XGB (teste): 0.758114630907497\n"
     ]
    }
   ],
   "source": [
    "DT.fit(X_train_fs,y_train)\n",
    "predito_DT = DT.predict(X_train_fs)\n",
    "predito_DT_T = DT.predict(X_test[selected_vars])\n",
    "auc_DT = roc_auc_score(y_train, predito_DT)\n",
    "auc_DT_T = roc_auc_score(y_test, predito_DT_T)\n",
    "print(\"AUC DT:\", auc_DT)\n",
    "print(\"AUC DT (teste):\", auc_DT_T)\n",
    "\n",
    "RF.fit(X_train_fs,y_train)\n",
    "predito_RF = RF.predict(X_train_fs)\n",
    "predito_RF_T = RF.predict(X_test[selected_vars])\n",
    "auc_RF = roc_auc_score(y_train, predito_RF)\n",
    "auc_RF_T = roc_auc_score(y_test, predito_RF_T)\n",
    "print(\"AUC RF:\", auc_RF)\n",
    "print(\"AUC RF (teste):\", auc_RF_T)\n",
    "\n",
    "XGB.fit(X_train_fs,y_train)\n",
    "predito_XGB = XGB.predict(X_train_fs)\n",
    "predito_XGB_T = XGB.predict(X_test[selected_vars])\n",
    "auc_XGB = roc_auc_score(y_train, predito_XGB)\n",
    "auc_XGB_T = roc_auc_score(y_test, predito_XGB_T)\n",
    "print(\"AUC XGB:\", auc_XGB)\n",
    "print(\"AUC XGB (teste):\", auc_XGB_T)"
   ]
  },
  {
   "cell_type": "markdown",
   "metadata": {},
   "source": [
    "**A partir das métricas obtidas, decidi por escolher o modelo XGBoost para continuidade às análises**"
   ]
  },
  {
   "cell_type": "markdown",
   "metadata": {},
   "source": [
    "# **<font color = 'red'> Definir Hiperparâmetros**"
   ]
  },
  {
   "cell_type": "markdown",
   "metadata": {},
   "source": [
    "Para definir os hiperparâmetros do modelo, decidi por realizar o hyperopt com CV para o XGBoost maximizando a métrica AUC (minimizando -AUC). Abaixo segue o espaço de hiperparâmetros definido. "
   ]
  },
  {
   "cell_type": "markdown",
   "metadata": {},
   "source": [
    "### Espaço de Parâmetros"
   ]
  },
  {
   "cell_type": "code",
   "execution_count": 25,
   "metadata": {
    "execution": {
     "iopub.execute_input": "2022-01-14T17:59:21.088971Z",
     "iopub.status.busy": "2022-01-14T17:59:21.088806Z",
     "iopub.status.idle": "2022-01-14T17:59:21.103260Z",
     "shell.execute_reply": "2022-01-14T17:59:21.102817Z",
     "shell.execute_reply.started": "2022-01-14T17:59:21.088951Z"
    }
   },
   "outputs": [],
   "source": [
    "space = {\n",
    "    'eta' : hp.uniform('eta',0.01, 0.3),\n",
    "    'gamma' : hp.quniform('gamma',0, 0.3, 0.05),\n",
    "    'max_depth' : hp.quniform('max_depth', 3, 10, 2),\n",
    "    'n_estimators' : hp.quniform('n_estimators', 10, 100, 10),\n",
    "    'lambda' : hp.uniform('lambda', 1, 5), \n",
    "    'alpha' : hp.uniform('alpha', 0, 5),\n",
    "    'min_child_weight': hp.uniform('min_child_weight', 1, 100),\n",
    "    'scale_pos_weight': hp.quniform('scale_pos_weight',1, sum(y_train == 0) / sum(y_train == 1), 1)\n",
    "}"
   ]
  },
  {
   "cell_type": "markdown",
   "metadata": {},
   "source": [
    "### Função Objetivo"
   ]
  },
  {
   "cell_type": "code",
   "execution_count": 26,
   "metadata": {
    "execution": {
     "iopub.execute_input": "2022-01-14T17:59:21.104070Z",
     "iopub.status.busy": "2022-01-14T17:59:21.103927Z",
     "iopub.status.idle": "2022-01-14T17:59:21.114080Z",
     "shell.execute_reply": "2022-01-14T17:59:21.113691Z",
     "shell.execute_reply.started": "2022-01-14T17:59:21.104053Z"
    }
   },
   "outputs": [],
   "source": [
    "def objetivo(space):\n",
    "    params = {\"eta\": space['eta'],\n",
    "                \"gamma\": space['gamma'],\n",
    "                \"max_depth\": int(space['max_depth']),\n",
    "                \"n_estimators\": int(space['n_estimators']),\n",
    "                \"reg_lambda\": space['lambda'],\n",
    "                \"reg_alpha\": space['alpha'],\n",
    "                \"min_child_weight\": space['min_child_weight']\n",
    "             }\n",
    "    \n",
    "    X_CV_train = DMatrix(X_train_fs, y_train)\n",
    "    cv_results = cv(dtrain = X_CV_train, params = params, nfold = 3, num_boost_round = 100, early_stopping_rounds = 5, metrics = \"auc\", as_pandas = True, seed = 14)\n",
    "  \n",
    "    best_score = max(cv_results['test-auc-mean'])\n",
    "    print(\"AUC:\" +str('{:0.2%}'.format(best_score)))\n",
    "    \n",
    "    loss = 1 - best_score\n",
    "    return loss"
   ]
  },
  {
   "cell_type": "markdown",
   "metadata": {},
   "source": [
    "### Roda o algoritmo"
   ]
  },
  {
   "cell_type": "code",
   "execution_count": 27,
   "metadata": {
    "execution": {
     "iopub.execute_input": "2022-01-14T17:59:21.117184Z",
     "iopub.status.busy": "2022-01-14T17:59:21.117032Z",
     "iopub.status.idle": "2022-01-14T18:16:34.084140Z",
     "shell.execute_reply": "2022-01-14T18:16:34.083366Z",
     "shell.execute_reply.started": "2022-01-14T17:59:21.117168Z"
    }
   },
   "outputs": [
    {
     "name": "stdout",
     "output_type": "stream",
     "text": [
      "AUC:82.93%                                             \n",
      "AUC:83.30%                                                                        \n",
      "AUC:83.15%                                                                        \n",
      "AUC:82.74%                                                                        \n",
      "AUC:82.43%                                                                        \n",
      "AUC:82.97%                                                                        \n",
      "AUC:83.15%                                                                        \n",
      "AUC:82.25%                                                                        \n",
      "AUC:82.82%                                                                        \n",
      "AUC:83.23%                                                                        \n",
      "AUC:82.99%                                                                         \n",
      "AUC:83.26%                                                                         \n",
      "AUC:82.54%                                                                         \n",
      "AUC:82.95%                                                                         \n",
      "AUC:82.96%                                                                         \n",
      "AUC:83.14%                                                                         \n",
      "AUC:83.29%                                                                         \n",
      "AUC:83.10%                                                                         \n",
      "AUC:82.64%                                                                         \n",
      "AUC:83.25%                                                                         \n",
      "AUC:83.21%                                                                         \n",
      "AUC:83.20%                                                                         \n",
      "AUC:82.85%                                                                         \n",
      "AUC:83.21%                                                                         \n",
      "AUC:82.97%                                                                         \n",
      "AUC:83.07%                                                                         \n",
      "AUC:83.23%                                                                         \n",
      "AUC:83.05%                                                                         \n",
      "AUC:83.21%                                                                         \n",
      "AUC:83.13%                                                                         \n",
      "AUC:83.24%                                                                         \n",
      "AUC:83.24%                                                                         \n",
      "AUC:82.43%                                                                         \n",
      "AUC:82.75%                                                                         \n",
      "AUC:83.12%                                                                         \n",
      "AUC:83.06%                                                                         \n",
      "AUC:83.18%                                                                         \n",
      "AUC:82.06%                                                                         \n",
      "AUC:83.19%                                                                         \n",
      "AUC:83.25%                                                                         \n",
      "AUC:83.19%                                                                         \n",
      "AUC:83.13%                                                                         \n",
      "AUC:83.14%                                                                         \n",
      "AUC:82.40%                                                                         \n",
      "AUC:82.94%                                                                         \n",
      "AUC:82.72%                                                                         \n",
      "AUC:83.14%                                                                         \n",
      "AUC:83.16%                                                                         \n",
      "AUC:82.98%                                                                         \n",
      "AUC:83.06%                                                                         \n",
      "AUC:83.16%                                                                         \n",
      "AUC:83.21%                                                                         \n",
      "AUC:83.10%                                                                         \n",
      "AUC:83.02%                                                                         \n",
      "AUC:83.28%                                                                         \n",
      "AUC:83.25%                                                                         \n",
      "AUC:83.25%                                                                         \n",
      "AUC:83.14%                                                                         \n",
      "AUC:83.23%                                                                         \n",
      "AUC:82.92%                                                                         \n",
      "AUC:83.11%                                                                         \n",
      "AUC:83.09%                                                                         \n",
      "AUC:83.20%                                                                         \n",
      "AUC:83.16%                                                                         \n",
      "AUC:83.08%                                                                         \n",
      "AUC:83.24%                                                                         \n",
      "AUC:83.18%                                                                         \n",
      "AUC:83.13%                                                                         \n",
      "AUC:83.31%                                                                         \n",
      "AUC:83.12%                                                                         \n",
      "AUC:83.21%                                                                        \n",
      "AUC:83.03%                                                                        \n",
      "AUC:83.21%                                                                        \n",
      "AUC:83.11%                                                                        \n",
      "AUC:83.28%                                                                        \n",
      "AUC:83.33%                                                                        \n",
      "AUC:83.12%                                                                         \n",
      "AUC:82.64%                                                                         \n",
      "AUC:83.05%                                                                         \n",
      "AUC:82.14%                                                                         \n",
      "AUC:83.13%                                                                         \n",
      "AUC:83.18%                                                                         \n",
      "AUC:83.14%                                                                         \n",
      "AUC:83.09%                                                                         \n",
      "AUC:83.04%                                                                         \n",
      "AUC:83.26%                                                                         \n",
      "AUC:82.69%                                                                         \n",
      "AUC:83.07%                                                                         \n",
      "AUC:83.16%                                                                         \n",
      "AUC:82.98%                                                                         \n",
      "AUC:83.31%                                                                         \n",
      "AUC:83.24%                                                                         \n",
      "AUC:83.18%                                                                         \n",
      "AUC:82.97%                                                                         \n",
      "AUC:83.17%                                                                         \n",
      "AUC:83.21%                                                                         \n",
      "AUC:82.90%                                                                         \n",
      "AUC:83.18%                                                                         \n",
      "AUC:82.94%                                                                         \n",
      "AUC:83.14%                                                                         \n",
      "100%|██████████| 100/100 [17:12<00:00, 10.33s/trial, best loss: 0.16666766666666666]\n"
     ]
    }
   ],
   "source": [
    "trials = Trials()\n",
    "params_final_model = fmin(objetivo,\n",
    "    space=space,\n",
    "    algo=tpe.suggest,\n",
    "    trials = trials,\n",
    "    max_evals=100)"
   ]
  },
  {
   "cell_type": "markdown",
   "metadata": {},
   "source": [
    " # <font color='red'> **Modelo Final**"
   ]
  },
  {
   "cell_type": "markdown",
   "metadata": {},
   "source": [
    "Após a tunagem dos hiperparâmetros, utiliza-se os parâmetros finais para gerar o modelo final. "
   ]
  },
  {
   "cell_type": "code",
   "execution_count": 28,
   "metadata": {
    "execution": {
     "iopub.execute_input": "2022-01-14T18:16:34.086754Z",
     "iopub.status.busy": "2022-01-14T18:16:34.086539Z",
     "iopub.status.idle": "2022-01-14T18:16:46.311373Z",
     "shell.execute_reply": "2022-01-14T18:16:46.310404Z",
     "shell.execute_reply.started": "2022-01-14T18:16:34.086727Z"
    }
   },
   "outputs": [
    {
     "name": "stdout",
     "output_type": "stream",
     "text": [
      "AUC Final: 0.8007647698913589\n",
      "AUC Final (teste): 0.7536368634285172\n"
     ]
    }
   ],
   "source": [
    "final_model = XGBClassifier(\n",
    "                            eta = params_final_model['eta'],\n",
    "                            gamma = params_final_model['gamma'],\n",
    "                            max_depth = params_final_model['max_depth'].astype('int'),\n",
    "                            n_estimators = params_final_model['n_estimators'].astype('int'),\n",
    "                            reg_lambda = params_final_model['lambda'],\n",
    "                            reg_alpha = params_final_model['alpha'],\n",
    "                            min_child_weight = params_final_model['min_child_weight'],\n",
    "                            scale_pos_weight = params_final_model['scale_pos_weight'] # (sum(y_train == 0) / sum(y_train == 1)),\n",
    "                            )\n",
    "\n",
    "final_model.fit(X_train_fs,y_train)\n",
    "\n",
    "predito_final = final_model.predict(X_train_fs)\n",
    "auc_final = roc_auc_score(y_train, predito_final)\n",
    "print(\"AUC Final:\", auc_final)\n",
    "\n",
    "predito_final_t = final_model.predict(X_test[selected_vars])\n",
    "auc_final_t = roc_auc_score(y_test, predito_final_t)\n",
    "print(\"AUC Final (teste):\", auc_final_t)"
   ]
  },
  {
   "cell_type": "markdown",
   "metadata": {},
   "source": [
    "# SHAP"
   ]
  },
  {
   "cell_type": "markdown",
   "metadata": {},
   "source": [
    "A partir do SHAP é possível observar as variáveis com maior importância para o modelo"
   ]
  },
  {
   "cell_type": "code",
   "execution_count": 29,
   "metadata": {
    "execution": {
     "iopub.execute_input": "2022-01-14T18:16:46.365371Z",
     "iopub.status.busy": "2022-01-14T18:16:46.312936Z",
     "iopub.status.idle": "2022-01-14T18:17:18.391510Z",
     "shell.execute_reply": "2022-01-14T18:17:18.390939Z",
     "shell.execute_reply.started": "2022-01-14T18:16:46.365330Z"
    }
   },
   "outputs": [
    {
     "data": {
      "image/png": "[encoded data removed]",
      "text/plain": [
       "<Figure size 576x684 with 2 Axes>"
      ]
     },
     "metadata": {
      "needs_background": "light"
     },
     "output_type": "display_data"
    }
   ],
   "source": [
    "pred = final_model.predict(X_train_fs, output_margin=True)\n",
    "explainer = shap.TreeExplainer(final_model)\n",
    "shap_values = explainer.shap_values(X_train_fs)\n",
    "shap.summary_plot(shap_values, X_train_fs)"
   ]
  },
  {
   "cell_type": "markdown",
   "metadata": {},
   "source": [
    " ## Customização do ponto de corte"
   ]
  },
  {
   "cell_type": "markdown",
   "metadata": {},
   "source": [
    "Após obter o modelo final, o próximo passo é fazer uma análise de threshold para definir o ponto de corte do predict_proba para classificar os clientes em 'Insatisfeitos' e 'Satisfeitos'. Para isso será percorrido um laço de 1% em 1% e irá verificar o valor de predict_proba onde se maximiza o lucro esperado por cliente. Cabe relembrar que para cada cliente que for alvo da ação de retenção há um custo de 10 reais e para cada cliente 'Insatisfeito' que for alvo de ação há um lucro de 100 reais. "
   ]
  },
  {
   "cell_type": "code",
   "execution_count": 30,
   "metadata": {
    "execution": {
     "iopub.execute_input": "2022-01-14T18:17:18.392713Z",
     "iopub.status.busy": "2022-01-14T18:17:18.392536Z",
     "iopub.status.idle": "2022-01-14T18:17:18.785978Z",
     "shell.execute_reply": "2022-01-14T18:17:18.785430Z",
     "shell.execute_reply.started": "2022-01-14T18:17:18.392693Z"
    }
   },
   "outputs": [],
   "source": [
    "prob_treino = final_model.predict_proba(X_train_fs)[:,1]\n",
    "customiza_thresh = pd.DataFrame({'Probabilidade' : prob_treino, 'Bad' : y_train})"
   ]
  },
  {
   "cell_type": "code",
   "execution_count": 31,
   "metadata": {
    "execution": {
     "iopub.execute_input": "2022-01-14T18:17:18.786997Z",
     "iopub.status.busy": "2022-01-14T18:17:18.786834Z",
     "iopub.status.idle": "2022-01-14T18:17:30.108735Z",
     "shell.execute_reply": "2022-01-14T18:17:30.108212Z",
     "shell.execute_reply.started": "2022-01-14T18:17:18.786979Z"
    }
   },
   "outputs": [
    {
     "name": "stderr",
     "output_type": "stream",
     "text": [
      "Precision is ill-defined and being set to 0.0 due to no predicted samples. Use `zero_division` parameter to control this behavior.\n",
      "Precision is ill-defined and being set to 0.0 due to no predicted samples. Use `zero_division` parameter to control this behavior.\n",
      "Precision is ill-defined and being set to 0.0 due to no predicted samples. Use `zero_division` parameter to control this behavior.\n",
      "Precision is ill-defined and being set to 0.0 due to no predicted samples. Use `zero_division` parameter to control this behavior.\n",
      "Precision is ill-defined and being set to 0.0 due to no predicted samples. Use `zero_division` parameter to control this behavior.\n"
     ]
    }
   ],
   "source": [
    "resumo_metricas = []\n",
    "max_lucro_train = y_train.sum()*90\n",
    "\n",
    "# Iteranto sobre os pontos de corte de interesse.\n",
    "for corte in np.arange(0.01, 1, 0.01):\n",
    "    \n",
    "    # Cria o predict baseado no valor do corte\n",
    "    customiza_thresh['bad_thresh'] = (customiza_thresh['Probabilidade'] >= corte).astype('int')\n",
    "    \n",
    "    # Calcula precision e recall\n",
    "    precision = precision_score(customiza_thresh['Bad'], customiza_thresh['bad_thresh'])\n",
    "    recall = recall_score(customiza_thresh['Bad'], customiza_thresh['bad_thresh'])\n",
    "    \n",
    "    # Calcula Matriz de Confusão\n",
    "    CM = confusion_matrix(customiza_thresh['Bad'], customiza_thresh['bad_thresh'])\n",
    "    \n",
    "    # Calcula o lucro por cliente\n",
    "    lucro = CM[1,1]*90 - CM[0,1]*10\n",
    "    perc_max_lucro = lucro / max_lucro_train\n",
    "    \n",
    "    # Apendando resultados na lista\n",
    "    resumo_metricas.append([corte, precision, recall, lucro, perc_max_lucro])"
   ]
  },
  {
   "cell_type": "code",
   "execution_count": 32,
   "metadata": {
    "execution": {
     "iopub.execute_input": "2022-01-14T18:17:30.109766Z",
     "iopub.status.busy": "2022-01-14T18:17:30.109605Z",
     "iopub.status.idle": "2022-01-14T18:17:30.123180Z",
     "shell.execute_reply": "2022-01-14T18:17:30.122708Z",
     "shell.execute_reply.started": "2022-01-14T18:17:30.109745Z"
    }
   },
   "outputs": [
    {
     "data": {
      "text/html": [
       "<div>\n",
       "<style scoped>\n",
       "    .dataframe tbody tr th:only-of-type {\n",
       "        vertical-align: middle;\n",
       "    }\n",
       "\n",
       "    .dataframe tbody tr th {\n",
       "        vertical-align: top;\n",
       "    }\n",
       "\n",
       "    .dataframe thead th {\n",
       "        text-align: right;\n",
       "    }\n",
       "</style>\n",
       "<table border=\"1\" class=\"dataframe\">\n",
       "  <thead>\n",
       "    <tr style=\"text-align: right;\">\n",
       "      <th></th>\n",
       "      <th>corte</th>\n",
       "      <th>precision</th>\n",
       "      <th>recall</th>\n",
       "      <th>lucro</th>\n",
       "      <th>perc_max_lucro</th>\n",
       "    </tr>\n",
       "  </thead>\n",
       "  <tbody>\n",
       "    <tr>\n",
       "      <th>64</th>\n",
       "      <td>0.65</td>\n",
       "      <td>0.188065</td>\n",
       "      <td>0.645346</td>\n",
       "      <td>63310</td>\n",
       "      <td>0.335773</td>\n",
       "    </tr>\n",
       "  </tbody>\n",
       "</table>\n",
       "</div>"
      ],
      "text/plain": [
       "    corte  precision    recall  lucro  perc_max_lucro\n",
       "64   0.65   0.188065  0.645346  63310        0.335773"
      ]
     },
     "execution_count": 32,
     "metadata": {},
     "output_type": "execute_result"
    }
   ],
   "source": [
    "resumo_metricas = pd.DataFrame(resumo_metricas, columns=[\"corte\", \"precision\", \"recall\", \"lucro\", \"perc_max_lucro\"])\n",
    "resumo_metricas.loc[resumo_metricas.lucro == max(resumo_metricas['lucro'])]"
   ]
  },
  {
   "cell_type": "code",
   "execution_count": 33,
   "metadata": {
    "execution": {
     "iopub.execute_input": "2022-01-14T18:17:30.124060Z",
     "iopub.status.busy": "2022-01-14T18:17:30.123908Z",
     "iopub.status.idle": "2022-01-14T18:17:30.136824Z",
     "shell.execute_reply": "2022-01-14T18:17:30.136405Z",
     "shell.execute_reply.started": "2022-01-14T18:17:30.124042Z"
    }
   },
   "outputs": [
    {
     "data": {
      "text/plain": [
       "0.65"
      ]
     },
     "execution_count": 33,
     "metadata": {},
     "output_type": "execute_result"
    }
   ],
   "source": [
    "corte_otimo = resumo_metricas.loc[resumo_metricas.lucro == max(resumo_metricas['lucro'])]['corte'].values[0]\n",
    "corte_otimo"
   ]
  },
  {
   "cell_type": "markdown",
   "metadata": {},
   "source": [
    "A partir da análise realizada, é possível observar que o ponto de corte para se maximizar o lucro é no predict_proba = 0.65"
   ]
  },
  {
   "cell_type": "markdown",
   "metadata": {},
   "source": [
    "## Aplicando ponto de corte ideal na base de teste"
   ]
  },
  {
   "cell_type": "code",
   "execution_count": 34,
   "metadata": {
    "execution": {
     "iopub.execute_input": "2022-01-14T18:17:30.137776Z",
     "iopub.status.busy": "2022-01-14T18:17:30.137564Z",
     "iopub.status.idle": "2022-01-14T18:17:30.258548Z",
     "shell.execute_reply": "2022-01-14T18:17:30.258045Z",
     "shell.execute_reply.started": "2022-01-14T18:17:30.137758Z"
    }
   },
   "outputs": [
    {
     "name": "stdout",
     "output_type": "stream",
     "text": [
      "Lucro:  22280\n",
      "%Lucro:27.11%\n"
     ]
    }
   ],
   "source": [
    "prob_teste = final_model.predict_proba(X_test[selected_vars])[:,1]\n",
    "base_teste_final = pd.DataFrame({'Probabilidade' : prob_teste, 'Bad' : y_test})\n",
    "base_teste_final['Bad_Final'] = (base_teste_final['Probabilidade'] >= corte_otimo).astype('int')\n",
    "\n",
    "CM = confusion_matrix(base_teste_final['Bad'], base_teste_final['Bad_Final'])\n",
    "lucro = CM[1,1]*90 - CM[0,1]*10\n",
    "max_lucro_test = y_test.sum()*90\n",
    "perc_max_lucro = lucro / max_lucro_test\n",
    "\n",
    "print(\"Lucro: \", lucro)\n",
    "print(\"%Lucro:{:0.2%}\".format(perc_max_lucro))"
   ]
  },
  {
   "cell_type": "markdown",
   "metadata": {},
   "source": [
    "**Aplicando o ponto de corte encontrado na base de treino, aplicou-se na base de teste e foi possível observar um lucro de 22.280 reais.**"
   ]
  },
  {
   "cell_type": "markdown",
   "metadata": {},
   "source": [
    "# <font color='blue'> **TAREFA 2**"
   ]
  },
  {
   "cell_type": "markdown",
   "metadata": {},
   "source": [
    "O objetivo da tarefa 2 é dar nota (rating) de 1 a 5 para os clientes, sendo 1 o mais insatisfeitos e 5 os mais satisfeitos. Além disso, somente os clientes com nota 1 serão alvos da ação de retenção. Por fim, tem-se que maximizar o lucro esperado por cliente. "
   ]
  },
  {
   "cell_type": "markdown",
   "metadata": {},
   "source": [
    "## Gera base para análise"
   ]
  },
  {
   "cell_type": "code",
   "execution_count": 35,
   "metadata": {
    "execution": {
     "iopub.execute_input": "2022-01-14T18:17:30.259491Z",
     "iopub.status.busy": "2022-01-14T18:17:30.259328Z",
     "iopub.status.idle": "2022-01-14T18:17:30.449235Z",
     "shell.execute_reply": "2022-01-14T18:17:30.448586Z",
     "shell.execute_reply.started": "2022-01-14T18:17:30.259471Z"
    }
   },
   "outputs": [],
   "source": [
    "tarefa_2 = X_train_fs.copy()\n",
    "tarefa_2['predict'] = final_model.predict_proba(tarefa_2)[:,1]\n",
    "tarefa_2['score'] = ((1-tarefa_2['predict'])*1000).astype('int')\n",
    "tarefa_2['TARGET'] = y_train"
   ]
  },
  {
   "cell_type": "markdown",
   "metadata": {},
   "source": [
    "## Verifica distribuição do score para clientes satisfeitos e insatisfeitos"
   ]
  },
  {
   "cell_type": "code",
   "execution_count": 36,
   "metadata": {
    "execution": {
     "iopub.execute_input": "2022-01-14T18:17:30.450324Z",
     "iopub.status.busy": "2022-01-14T18:17:30.450149Z",
     "iopub.status.idle": "2022-01-14T18:17:30.729992Z",
     "shell.execute_reply": "2022-01-14T18:17:30.729532Z",
     "shell.execute_reply.started": "2022-01-14T18:17:30.450306Z"
    }
   },
   "outputs": [
    {
     "data": {
      "text/plain": [
       "<matplotlib.legend.Legend at 0x7f8d78146940>"
      ]
     },
     "execution_count": 36,
     "metadata": {},
     "output_type": "execute_result"
    },
    {
     "data": {
      "image/png": "[encoded data removed]",
      "text/plain": [
       "<Figure size 576x432 with 1 Axes>"
      ]
     },
     "metadata": {
      "needs_background": "light"
     },
     "output_type": "display_data"
    }
   ],
   "source": [
    "plt.figure(figsize=(8,6))\n",
    "plt.hist(tarefa_2.loc[(tarefa_2.TARGET == 1)]['score'], bins=50, density = True ,  alpha=0.5, label=\"Insatisfeito\")\n",
    "plt.hist(tarefa_2.loc[(tarefa_2.TARGET == 0)]['score'], bins=50, density = True , alpha=0.5, label=\"Satisfeito\")\n",
    "\n",
    "plt.xlabel(\"Score\", size=14)\n",
    "plt.ylabel(\"%Quantidade\", size=14)\n",
    "plt.title(\"Distribuição Score - Público Total\")\n",
    "plt.legend(loc='upper right')"
   ]
  },
  {
   "cell_type": "markdown",
   "metadata": {},
   "source": [
    "## Separa clientes alvo da ação de retenção (Rating 1)"
   ]
  },
  {
   "cell_type": "markdown",
   "metadata": {},
   "source": [
    "Aplica um laço para verificar o score em que pode ser feito o corte para definir o público alvo da ação de retenção de forma a se obter o máximo de lucro. "
   ]
  },
  {
   "cell_type": "code",
   "execution_count": 37,
   "metadata": {
    "execution": {
     "iopub.execute_input": "2022-01-14T18:17:30.730925Z",
     "iopub.status.busy": "2022-01-14T18:17:30.730762Z",
     "iopub.status.idle": "2022-01-14T18:17:31.197581Z",
     "shell.execute_reply": "2022-01-14T18:17:31.197036Z",
     "shell.execute_reply.started": "2022-01-14T18:17:30.730908Z"
    }
   },
   "outputs": [],
   "source": [
    "resumo = []\n",
    "\n",
    "# Iteranto sobre os pontos de corte de interesse.\n",
    "for corte in np.arange(100, 1000, 10):\n",
    "    \n",
    "    qtdd = tarefa_2.loc[tarefa_2.score <= corte].shape[0]\n",
    "    bads = tarefa_2.loc[tarefa_2.score <= corte]['TARGET'].sum()\n",
    "    lucro = 100*bads - 10*qtdd\n",
    "    \n",
    "    # Apendando na lista\n",
    "    resumo.append([corte, lucro, qtdd, bads])"
   ]
  },
  {
   "cell_type": "code",
   "execution_count": 38,
   "metadata": {
    "execution": {
     "iopub.execute_input": "2022-01-14T18:17:31.198639Z",
     "iopub.status.busy": "2022-01-14T18:17:31.198460Z",
     "iopub.status.idle": "2022-01-14T18:17:31.206446Z",
     "shell.execute_reply": "2022-01-14T18:17:31.206033Z",
     "shell.execute_reply.started": "2022-01-14T18:17:31.198620Z"
    }
   },
   "outputs": [
    {
     "data": {
      "text/html": [
       "<div>\n",
       "<style scoped>\n",
       "    .dataframe tbody tr th:only-of-type {\n",
       "        vertical-align: middle;\n",
       "    }\n",
       "\n",
       "    .dataframe tbody tr th {\n",
       "        vertical-align: top;\n",
       "    }\n",
       "\n",
       "    .dataframe thead th {\n",
       "        text-align: right;\n",
       "    }\n",
       "</style>\n",
       "<table border=\"1\" class=\"dataframe\">\n",
       "  <thead>\n",
       "    <tr style=\"text-align: right;\">\n",
       "      <th></th>\n",
       "      <th>Score</th>\n",
       "      <th>Lucro</th>\n",
       "      <th>Quantidade</th>\n",
       "      <th>Bads</th>\n",
       "    </tr>\n",
       "  </thead>\n",
       "  <tbody>\n",
       "    <tr>\n",
       "      <th>25</th>\n",
       "      <td>350</td>\n",
       "      <td>63280</td>\n",
       "      <td>7202</td>\n",
       "      <td>1353</td>\n",
       "    </tr>\n",
       "  </tbody>\n",
       "</table>\n",
       "</div>"
      ],
      "text/plain": [
       "    Score  Lucro  Quantidade  Bads\n",
       "25    350  63280        7202  1353"
      ]
     },
     "execution_count": 38,
     "metadata": {},
     "output_type": "execute_result"
    }
   ],
   "source": [
    "resumo_df = pd.DataFrame(resumo, columns = [\"Score\",\"Lucro\",\"Quantidade\",\"Bads\"])\n",
    "max_lucro = resumo_df.loc[resumo_df.Lucro == max(resumo_df['Lucro'])]\n",
    "max_lucro"
   ]
  },
  {
   "cell_type": "code",
   "execution_count": 39,
   "metadata": {
    "execution": {
     "iopub.execute_input": "2022-01-14T18:17:31.207301Z",
     "iopub.status.busy": "2022-01-14T18:17:31.207154Z",
     "iopub.status.idle": "2022-01-14T18:17:31.231270Z",
     "shell.execute_reply": "2022-01-14T18:17:31.230899Z",
     "shell.execute_reply.started": "2022-01-14T18:17:31.207283Z"
    }
   },
   "outputs": [
    {
     "data": {
      "text/plain": [
       "350"
      ]
     },
     "execution_count": 39,
     "metadata": {},
     "output_type": "execute_result"
    }
   ],
   "source": [
    "score_max_lucro = max_lucro['Score'].values[0]\n",
    "score_max_lucro"
   ]
  },
  {
   "cell_type": "markdown",
   "metadata": {},
   "source": [
    "### Separa base com clientes Rating 1"
   ]
  },
  {
   "cell_type": "code",
   "execution_count": 40,
   "metadata": {
    "execution": {
     "iopub.execute_input": "2022-01-14T18:17:31.232086Z",
     "iopub.status.busy": "2022-01-14T18:17:31.231936Z",
     "iopub.status.idle": "2022-01-14T18:17:31.270429Z",
     "shell.execute_reply": "2022-01-14T18:17:31.269990Z",
     "shell.execute_reply.started": "2022-01-14T18:17:31.232069Z"
    }
   },
   "outputs": [
    {
     "name": "stderr",
     "output_type": "stream",
     "text": [
      "\n",
      "A value is trying to be set on a copy of a slice from a DataFrame.\n",
      "Try using .loc[row_indexer,col_indexer] = value instead\n",
      "\n",
      "See the caveats in the documentation: https://pandas.pydata.org/pandas-docs/stable/user_guide/indexing.html#returning-a-view-versus-a-copy\n"
     ]
    },
    {
     "data": {
      "text/html": [
       "<div>\n",
       "<style scoped>\n",
       "    .dataframe tbody tr th:only-of-type {\n",
       "        vertical-align: middle;\n",
       "    }\n",
       "\n",
       "    .dataframe tbody tr th {\n",
       "        vertical-align: top;\n",
       "    }\n",
       "\n",
       "    .dataframe thead th {\n",
       "        text-align: right;\n",
       "    }\n",
       "</style>\n",
       "<table border=\"1\" class=\"dataframe\">\n",
       "  <thead>\n",
       "    <tr style=\"text-align: right;\">\n",
       "      <th></th>\n",
       "      <th>var15</th>\n",
       "      <th>imp_ent_var16_ult1</th>\n",
       "      <th>imp_op_var39_comer_ult1</th>\n",
       "      <th>imp_op_var39_comer_ult3</th>\n",
       "      <th>imp_op_var41_comer_ult3</th>\n",
       "      <th>imp_op_var41_efect_ult3</th>\n",
       "      <th>imp_op_var41_ult1</th>\n",
       "      <th>imp_op_var39_efect_ult3</th>\n",
       "      <th>imp_op_var39_ult1</th>\n",
       "      <th>num_var4</th>\n",
       "      <th>...</th>\n",
       "      <th>num_var45_ult3</th>\n",
       "      <th>saldo_medio_var5_hace2</th>\n",
       "      <th>saldo_medio_var5_hace3</th>\n",
       "      <th>saldo_medio_var5_ult1</th>\n",
       "      <th>saldo_medio_var5_ult3</th>\n",
       "      <th>var38</th>\n",
       "      <th>predict</th>\n",
       "      <th>score</th>\n",
       "      <th>TARGET</th>\n",
       "      <th>rating</th>\n",
       "    </tr>\n",
       "  </thead>\n",
       "  <tbody>\n",
       "    <tr>\n",
       "      <th>69087</th>\n",
       "      <td>37.0</td>\n",
       "      <td>0.0</td>\n",
       "      <td>0.0</td>\n",
       "      <td>0.0</td>\n",
       "      <td>0.0</td>\n",
       "      <td>0.0</td>\n",
       "      <td>0.0</td>\n",
       "      <td>0.0</td>\n",
       "      <td>0.0</td>\n",
       "      <td>0.0</td>\n",
       "      <td>...</td>\n",
       "      <td>3.0</td>\n",
       "      <td>0.00</td>\n",
       "      <td>0.0</td>\n",
       "      <td>0.00</td>\n",
       "      <td>0.00</td>\n",
       "      <td>62932.560000</td>\n",
       "      <td>0.828639</td>\n",
       "      <td>171</td>\n",
       "      <td>0</td>\n",
       "      <td>1</td>\n",
       "    </tr>\n",
       "    <tr>\n",
       "      <th>46700</th>\n",
       "      <td>38.0</td>\n",
       "      <td>0.0</td>\n",
       "      <td>0.0</td>\n",
       "      <td>0.0</td>\n",
       "      <td>0.0</td>\n",
       "      <td>0.0</td>\n",
       "      <td>0.0</td>\n",
       "      <td>0.0</td>\n",
       "      <td>0.0</td>\n",
       "      <td>0.0</td>\n",
       "      <td>...</td>\n",
       "      <td>0.0</td>\n",
       "      <td>0.00</td>\n",
       "      <td>0.0</td>\n",
       "      <td>0.00</td>\n",
       "      <td>0.00</td>\n",
       "      <td>89379.720000</td>\n",
       "      <td>0.814648</td>\n",
       "      <td>185</td>\n",
       "      <td>1</td>\n",
       "      <td>1</td>\n",
       "    </tr>\n",
       "    <tr>\n",
       "      <th>49212</th>\n",
       "      <td>40.0</td>\n",
       "      <td>0.0</td>\n",
       "      <td>0.0</td>\n",
       "      <td>0.0</td>\n",
       "      <td>0.0</td>\n",
       "      <td>0.0</td>\n",
       "      <td>0.0</td>\n",
       "      <td>0.0</td>\n",
       "      <td>0.0</td>\n",
       "      <td>0.0</td>\n",
       "      <td>...</td>\n",
       "      <td>15.0</td>\n",
       "      <td>0.00</td>\n",
       "      <td>0.0</td>\n",
       "      <td>0.00</td>\n",
       "      <td>0.00</td>\n",
       "      <td>90061.020000</td>\n",
       "      <td>0.820125</td>\n",
       "      <td>179</td>\n",
       "      <td>0</td>\n",
       "      <td>1</td>\n",
       "    </tr>\n",
       "    <tr>\n",
       "      <th>67626</th>\n",
       "      <td>45.0</td>\n",
       "      <td>0.0</td>\n",
       "      <td>0.0</td>\n",
       "      <td>0.0</td>\n",
       "      <td>0.0</td>\n",
       "      <td>0.0</td>\n",
       "      <td>0.0</td>\n",
       "      <td>0.0</td>\n",
       "      <td>0.0</td>\n",
       "      <td>0.0</td>\n",
       "      <td>...</td>\n",
       "      <td>0.0</td>\n",
       "      <td>0.00</td>\n",
       "      <td>0.0</td>\n",
       "      <td>0.00</td>\n",
       "      <td>0.00</td>\n",
       "      <td>63649.020000</td>\n",
       "      <td>0.838962</td>\n",
       "      <td>161</td>\n",
       "      <td>0</td>\n",
       "      <td>1</td>\n",
       "    </tr>\n",
       "    <tr>\n",
       "      <th>42549</th>\n",
       "      <td>28.0</td>\n",
       "      <td>0.0</td>\n",
       "      <td>0.0</td>\n",
       "      <td>0.0</td>\n",
       "      <td>0.0</td>\n",
       "      <td>0.0</td>\n",
       "      <td>0.0</td>\n",
       "      <td>0.0</td>\n",
       "      <td>0.0</td>\n",
       "      <td>0.0</td>\n",
       "      <td>...</td>\n",
       "      <td>0.0</td>\n",
       "      <td>0.00</td>\n",
       "      <td>0.0</td>\n",
       "      <td>0.00</td>\n",
       "      <td>0.00</td>\n",
       "      <td>75486.150000</td>\n",
       "      <td>0.784274</td>\n",
       "      <td>215</td>\n",
       "      <td>0</td>\n",
       "      <td>1</td>\n",
       "    </tr>\n",
       "    <tr>\n",
       "      <th>...</th>\n",
       "      <td>...</td>\n",
       "      <td>...</td>\n",
       "      <td>...</td>\n",
       "      <td>...</td>\n",
       "      <td>...</td>\n",
       "      <td>...</td>\n",
       "      <td>...</td>\n",
       "      <td>...</td>\n",
       "      <td>...</td>\n",
       "      <td>...</td>\n",
       "      <td>...</td>\n",
       "      <td>...</td>\n",
       "      <td>...</td>\n",
       "      <td>...</td>\n",
       "      <td>...</td>\n",
       "      <td>...</td>\n",
       "      <td>...</td>\n",
       "      <td>...</td>\n",
       "      <td>...</td>\n",
       "      <td>...</td>\n",
       "      <td>...</td>\n",
       "    </tr>\n",
       "    <tr>\n",
       "      <th>43533</th>\n",
       "      <td>37.0</td>\n",
       "      <td>0.0</td>\n",
       "      <td>0.0</td>\n",
       "      <td>0.0</td>\n",
       "      <td>0.0</td>\n",
       "      <td>0.0</td>\n",
       "      <td>0.0</td>\n",
       "      <td>0.0</td>\n",
       "      <td>0.0</td>\n",
       "      <td>0.0</td>\n",
       "      <td>...</td>\n",
       "      <td>0.0</td>\n",
       "      <td>0.00</td>\n",
       "      <td>0.0</td>\n",
       "      <td>0.00</td>\n",
       "      <td>0.00</td>\n",
       "      <td>56829.030000</td>\n",
       "      <td>0.830073</td>\n",
       "      <td>169</td>\n",
       "      <td>0</td>\n",
       "      <td>1</td>\n",
       "    </tr>\n",
       "    <tr>\n",
       "      <th>8771</th>\n",
       "      <td>29.0</td>\n",
       "      <td>0.0</td>\n",
       "      <td>0.0</td>\n",
       "      <td>0.0</td>\n",
       "      <td>0.0</td>\n",
       "      <td>0.0</td>\n",
       "      <td>0.0</td>\n",
       "      <td>0.0</td>\n",
       "      <td>0.0</td>\n",
       "      <td>0.0</td>\n",
       "      <td>...</td>\n",
       "      <td>0.0</td>\n",
       "      <td>0.00</td>\n",
       "      <td>0.0</td>\n",
       "      <td>0.00</td>\n",
       "      <td>0.00</td>\n",
       "      <td>117310.979016</td>\n",
       "      <td>0.699345</td>\n",
       "      <td>300</td>\n",
       "      <td>0</td>\n",
       "      <td>1</td>\n",
       "    </tr>\n",
       "    <tr>\n",
       "      <th>9848</th>\n",
       "      <td>49.0</td>\n",
       "      <td>0.0</td>\n",
       "      <td>0.0</td>\n",
       "      <td>0.0</td>\n",
       "      <td>0.0</td>\n",
       "      <td>0.0</td>\n",
       "      <td>0.0</td>\n",
       "      <td>0.0</td>\n",
       "      <td>0.0</td>\n",
       "      <td>0.0</td>\n",
       "      <td>...</td>\n",
       "      <td>0.0</td>\n",
       "      <td>0.00</td>\n",
       "      <td>0.0</td>\n",
       "      <td>0.00</td>\n",
       "      <td>0.00</td>\n",
       "      <td>119907.210000</td>\n",
       "      <td>0.718140</td>\n",
       "      <td>281</td>\n",
       "      <td>0</td>\n",
       "      <td>1</td>\n",
       "    </tr>\n",
       "    <tr>\n",
       "      <th>55964</th>\n",
       "      <td>52.0</td>\n",
       "      <td>90.0</td>\n",
       "      <td>0.0</td>\n",
       "      <td>0.0</td>\n",
       "      <td>0.0</td>\n",
       "      <td>0.0</td>\n",
       "      <td>0.0</td>\n",
       "      <td>0.0</td>\n",
       "      <td>0.0</td>\n",
       "      <td>2.0</td>\n",
       "      <td>...</td>\n",
       "      <td>6.0</td>\n",
       "      <td>2.88</td>\n",
       "      <td>0.0</td>\n",
       "      <td>31.77</td>\n",
       "      <td>17.34</td>\n",
       "      <td>95851.440000</td>\n",
       "      <td>0.697234</td>\n",
       "      <td>302</td>\n",
       "      <td>0</td>\n",
       "      <td>1</td>\n",
       "    </tr>\n",
       "    <tr>\n",
       "      <th>9484</th>\n",
       "      <td>46.0</td>\n",
       "      <td>0.0</td>\n",
       "      <td>0.0</td>\n",
       "      <td>0.0</td>\n",
       "      <td>0.0</td>\n",
       "      <td>0.0</td>\n",
       "      <td>0.0</td>\n",
       "      <td>0.0</td>\n",
       "      <td>0.0</td>\n",
       "      <td>0.0</td>\n",
       "      <td>...</td>\n",
       "      <td>0.0</td>\n",
       "      <td>0.00</td>\n",
       "      <td>0.0</td>\n",
       "      <td>0.00</td>\n",
       "      <td>0.00</td>\n",
       "      <td>76026.330000</td>\n",
       "      <td>0.834634</td>\n",
       "      <td>165</td>\n",
       "      <td>0</td>\n",
       "      <td>1</td>\n",
       "    </tr>\n",
       "  </tbody>\n",
       "</table>\n",
       "<p>7202 rows × 38 columns</p>\n",
       "</div>"
      ],
      "text/plain": [
       "       var15  imp_ent_var16_ult1  imp_op_var39_comer_ult1  \\\n",
       "69087   37.0                 0.0                      0.0   \n",
       "46700   38.0                 0.0                      0.0   \n",
       "49212   40.0                 0.0                      0.0   \n",
       "67626   45.0                 0.0                      0.0   \n",
       "42549   28.0                 0.0                      0.0   \n",
       "...      ...                 ...                      ...   \n",
       "43533   37.0                 0.0                      0.0   \n",
       "8771    29.0                 0.0                      0.0   \n",
       "9848    49.0                 0.0                      0.0   \n",
       "55964   52.0                90.0                      0.0   \n",
       "9484    46.0                 0.0                      0.0   \n",
       "\n",
       "       imp_op_var39_comer_ult3  imp_op_var41_comer_ult3  \\\n",
       "69087                      0.0                      0.0   \n",
       "46700                      0.0                      0.0   \n",
       "49212                      0.0                      0.0   \n",
       "67626                      0.0                      0.0   \n",
       "42549                      0.0                      0.0   \n",
       "...                        ...                      ...   \n",
       "43533                      0.0                      0.0   \n",
       "8771                       0.0                      0.0   \n",
       "9848                       0.0                      0.0   \n",
       "55964                      0.0                      0.0   \n",
       "9484                       0.0                      0.0   \n",
       "\n",
       "       imp_op_var41_efect_ult3  imp_op_var41_ult1  imp_op_var39_efect_ult3  \\\n",
       "69087                      0.0                0.0                      0.0   \n",
       "46700                      0.0                0.0                      0.0   \n",
       "49212                      0.0                0.0                      0.0   \n",
       "67626                      0.0                0.0                      0.0   \n",
       "42549                      0.0                0.0                      0.0   \n",
       "...                        ...                ...                      ...   \n",
       "43533                      0.0                0.0                      0.0   \n",
       "8771                       0.0                0.0                      0.0   \n",
       "9848                       0.0                0.0                      0.0   \n",
       "55964                      0.0                0.0                      0.0   \n",
       "9484                       0.0                0.0                      0.0   \n",
       "\n",
       "       imp_op_var39_ult1  num_var4  ...  num_var45_ult3  \\\n",
       "69087                0.0       0.0  ...             3.0   \n",
       "46700                0.0       0.0  ...             0.0   \n",
       "49212                0.0       0.0  ...            15.0   \n",
       "67626                0.0       0.0  ...             0.0   \n",
       "42549                0.0       0.0  ...             0.0   \n",
       "...                  ...       ...  ...             ...   \n",
       "43533                0.0       0.0  ...             0.0   \n",
       "8771                 0.0       0.0  ...             0.0   \n",
       "9848                 0.0       0.0  ...             0.0   \n",
       "55964                0.0       2.0  ...             6.0   \n",
       "9484                 0.0       0.0  ...             0.0   \n",
       "\n",
       "       saldo_medio_var5_hace2  saldo_medio_var5_hace3  saldo_medio_var5_ult1  \\\n",
       "69087                    0.00                     0.0                   0.00   \n",
       "46700                    0.00                     0.0                   0.00   \n",
       "49212                    0.00                     0.0                   0.00   \n",
       "67626                    0.00                     0.0                   0.00   \n",
       "42549                    0.00                     0.0                   0.00   \n",
       "...                       ...                     ...                    ...   \n",
       "43533                    0.00                     0.0                   0.00   \n",
       "8771                     0.00                     0.0                   0.00   \n",
       "9848                     0.00                     0.0                   0.00   \n",
       "55964                    2.88                     0.0                  31.77   \n",
       "9484                     0.00                     0.0                   0.00   \n",
       "\n",
       "       saldo_medio_var5_ult3          var38   predict  score  TARGET  rating  \n",
       "69087                   0.00   62932.560000  0.828639    171       0       1  \n",
       "46700                   0.00   89379.720000  0.814648    185       1       1  \n",
       "49212                   0.00   90061.020000  0.820125    179       0       1  \n",
       "67626                   0.00   63649.020000  0.838962    161       0       1  \n",
       "42549                   0.00   75486.150000  0.784274    215       0       1  \n",
       "...                      ...            ...       ...    ...     ...     ...  \n",
       "43533                   0.00   56829.030000  0.830073    169       0       1  \n",
       "8771                    0.00  117310.979016  0.699345    300       0       1  \n",
       "9848                    0.00  119907.210000  0.718140    281       0       1  \n",
       "55964                  17.34   95851.440000  0.697234    302       0       1  \n",
       "9484                    0.00   76026.330000  0.834634    165       0       1  \n",
       "\n",
       "[7202 rows x 38 columns]"
      ]
     },
     "execution_count": 40,
     "metadata": {},
     "output_type": "execute_result"
    }
   ],
   "source": [
    "rating_1 = tarefa_2[tarefa_2['score'] <= score_max_lucro]\n",
    "rating_1['rating'] = '1'\n",
    "rating_1"
   ]
  },
  {
   "cell_type": "markdown",
   "metadata": {},
   "source": [
    "## Separa clientes para os demais Ratings (2 a 5)"
   ]
  },
  {
   "cell_type": "code",
   "execution_count": 41,
   "metadata": {
    "execution": {
     "iopub.execute_input": "2022-01-14T18:17:31.271317Z",
     "iopub.status.busy": "2022-01-14T18:17:31.271162Z",
     "iopub.status.idle": "2022-01-14T18:17:31.278978Z",
     "shell.execute_reply": "2022-01-14T18:17:31.278493Z",
     "shell.execute_reply.started": "2022-01-14T18:17:31.271299Z"
    }
   },
   "outputs": [],
   "source": [
    "rating_2a5 = tarefa_2[tarefa_2['score'] > score_max_lucro]"
   ]
  },
  {
   "cell_type": "code",
   "execution_count": 42,
   "metadata": {
    "execution": {
     "iopub.execute_input": "2022-01-14T18:17:31.279883Z",
     "iopub.status.busy": "2022-01-14T18:17:31.279726Z",
     "iopub.status.idle": "2022-01-14T18:17:31.590961Z",
     "shell.execute_reply": "2022-01-14T18:17:31.590426Z",
     "shell.execute_reply.started": "2022-01-14T18:17:31.279864Z"
    }
   },
   "outputs": [
    {
     "data": {
      "text/plain": [
       "<matplotlib.legend.Legend at 0x7f8d782b5dd8>"
      ]
     },
     "execution_count": 42,
     "metadata": {},
     "output_type": "execute_result"
    },
    {
     "data": {
      "image/png": "[encoded data removed]",
      "text/plain": [
       "<Figure size 576x432 with 1 Axes>"
      ]
     },
     "metadata": {
      "needs_background": "light"
     },
     "output_type": "display_data"
    }
   ],
   "source": [
    "plt.figure(figsize=(8,6))\n",
    "plt.hist(rating_2a5.loc[(rating_2a5.TARGET == 1)]['score'], bins=50, density = True ,  alpha=0.5, label=\"Insatisfeito\")\n",
    "plt.hist(rating_2a5.loc[(rating_2a5.TARGET == 0)]['score'], bins=50, density = True , alpha=0.5, label=\"Satisfeito\")\n",
    "\n",
    "plt.xlabel(\"Score\", size=14)\n",
    "plt.ylabel(\"%Quantidade\", size=14)\n",
    "plt.title(\"Distribuição de Score - Rating 2 a 5\")\n",
    "plt.legend(loc='upper right')"
   ]
  },
  {
   "cell_type": "markdown",
   "metadata": {},
   "source": [
    "A partir do gráfico, é possível observar que conforme aumenta o score, a taxa de insatisfação diminui. Desta forma, para determinar os ratings 2 a 5 será realizado uma separação do público restante em quartis. Desta forma, não haverá concentração de público em um determinado rating e, principalmente, haverá a ordenação na taxa de insatisfação. "
   ]
  },
  {
   "cell_type": "code",
   "execution_count": 43,
   "metadata": {
    "execution": {
     "iopub.execute_input": "2022-01-14T18:17:31.591991Z",
     "iopub.status.busy": "2022-01-14T18:17:31.591801Z",
     "iopub.status.idle": "2022-01-14T18:17:31.603434Z",
     "shell.execute_reply": "2022-01-14T18:17:31.602913Z",
     "shell.execute_reply.started": "2022-01-14T18:17:31.591969Z"
    }
   },
   "outputs": [
    {
     "name": "stderr",
     "output_type": "stream",
     "text": [
      "\n",
      "A value is trying to be set on a copy of a slice from a DataFrame.\n",
      "Try using .loc[row_indexer,col_indexer] = value instead\n",
      "\n",
      "See the caveats in the documentation: https://pandas.pydata.org/pandas-docs/stable/user_guide/indexing.html#returning-a-view-versus-a-copy\n"
     ]
    }
   ],
   "source": [
    "rating_2a5['rating'], bins = pd.qcut(rating_2a5['score'], q = 4, labels = ['2','3','4','5'], retbins = True)"
   ]
  },
  {
   "cell_type": "code",
   "execution_count": 44,
   "metadata": {
    "execution": {
     "iopub.execute_input": "2022-01-14T18:17:31.604397Z",
     "iopub.status.busy": "2022-01-14T18:17:31.604221Z",
     "iopub.status.idle": "2022-01-14T18:17:31.990292Z",
     "shell.execute_reply": "2022-01-14T18:17:31.989758Z",
     "shell.execute_reply.started": "2022-01-14T18:17:31.604376Z"
    }
   },
   "outputs": [
    {
     "data": {
      "text/plain": [
       "<AxesSubplot:xlabel='rating'>"
      ]
     },
     "execution_count": 44,
     "metadata": {},
     "output_type": "execute_result"
    },
    {
     "data": {
      "image/png": "[encoded data removed]",
      "text/plain": [
       "<Figure size 432x288 with 1 Axes>"
      ]
     },
     "metadata": {
      "needs_background": "light"
     },
     "output_type": "display_data"
    }
   ],
   "source": [
    "tarefa_2_final = pd.concat([rating_1, rating_2a5])\n",
    "tarefa_2_final.sort_values(['rating']).groupby(['rating']).size().plot.bar()"
   ]
  },
  {
   "cell_type": "markdown",
   "metadata": {},
   "source": [
    "O gráfico acima mostra a distribuição de clientes em cada rating"
   ]
  },
  {
   "cell_type": "code",
   "execution_count": 45,
   "metadata": {
    "execution": {
     "iopub.execute_input": "2022-01-14T18:17:31.991297Z",
     "iopub.status.busy": "2022-01-14T18:17:31.991104Z",
     "iopub.status.idle": "2022-01-14T18:17:32.083361Z",
     "shell.execute_reply": "2022-01-14T18:17:32.082891Z",
     "shell.execute_reply.started": "2022-01-14T18:17:31.991275Z"
    }
   },
   "outputs": [
    {
     "data": {
      "text/plain": [
       "array([350, 685, 824, 936, 996])"
      ]
     },
     "execution_count": 45,
     "metadata": {},
     "output_type": "execute_result"
    }
   ],
   "source": [
    "score_to_rating = tarefa_2_final.groupby(['rating']).agg(['max'])['score']\n",
    "bins_ratings = score_to_rating['max'].values\n",
    "bins_ratings"
   ]
  },
  {
   "cell_type": "code",
   "execution_count": 46,
   "metadata": {
    "execution": {
     "iopub.execute_input": "2022-01-14T18:17:32.084276Z",
     "iopub.status.busy": "2022-01-14T18:17:32.084085Z",
     "iopub.status.idle": "2022-01-14T18:17:32.177653Z",
     "shell.execute_reply": "2022-01-14T18:17:32.177181Z",
     "shell.execute_reply.started": "2022-01-14T18:17:32.084256Z"
    }
   },
   "outputs": [
    {
     "data": {
      "text/html": [
       "<div>\n",
       "<style scoped>\n",
       "    .dataframe tbody tr th:only-of-type {\n",
       "        vertical-align: middle;\n",
       "    }\n",
       "\n",
       "    .dataframe tbody tr th {\n",
       "        vertical-align: top;\n",
       "    }\n",
       "\n",
       "    .dataframe thead th {\n",
       "        text-align: right;\n",
       "    }\n",
       "</style>\n",
       "<table border=\"1\" class=\"dataframe\">\n",
       "  <thead>\n",
       "    <tr style=\"text-align: right;\">\n",
       "      <th></th>\n",
       "      <th>mean</th>\n",
       "      <th>sum</th>\n",
       "    </tr>\n",
       "    <tr>\n",
       "      <th>rating</th>\n",
       "      <th></th>\n",
       "      <th></th>\n",
       "    </tr>\n",
       "  </thead>\n",
       "  <tbody>\n",
       "    <tr>\n",
       "      <th>1</th>\n",
       "      <td>8.786448</td>\n",
       "      <td>63280</td>\n",
       "    </tr>\n",
       "    <tr>\n",
       "      <th>2</th>\n",
       "      <td>0.000000</td>\n",
       "      <td>0</td>\n",
       "    </tr>\n",
       "    <tr>\n",
       "      <th>3</th>\n",
       "      <td>0.000000</td>\n",
       "      <td>0</td>\n",
       "    </tr>\n",
       "    <tr>\n",
       "      <th>4</th>\n",
       "      <td>0.000000</td>\n",
       "      <td>0</td>\n",
       "    </tr>\n",
       "    <tr>\n",
       "      <th>5</th>\n",
       "      <td>0.000000</td>\n",
       "      <td>0</td>\n",
       "    </tr>\n",
       "  </tbody>\n",
       "</table>\n",
       "</div>"
      ],
      "text/plain": [
       "            mean    sum\n",
       "rating                 \n",
       "1       8.786448  63280\n",
       "2       0.000000      0\n",
       "3       0.000000      0\n",
       "4       0.000000      0\n",
       "5       0.000000      0"
      ]
     },
     "execution_count": 46,
     "metadata": {},
     "output_type": "execute_result"
    }
   ],
   "source": [
    "conditions = [\n",
    "                (tarefa_2_final['score'] <= score_max_lucro),\n",
    "                (tarefa_2_final['score'] > score_max_lucro)\n",
    "            ]\n",
    "\n",
    "values = [tarefa_2_final['TARGET']*100 - (tarefa_2_final['score'] <= score_max_lucro)*10, 0]\n",
    "tarefa_2_final['lucro'] = np.select(conditions, values)\n",
    "tarefa_2_final.groupby(['rating']).agg(['mean','sum'])['lucro']"
   ]
  },
  {
   "cell_type": "markdown",
   "metadata": {},
   "source": [
    "É possível observar que a partir dos ratings assignados no processo anterior, haverá um lucro de 63.280 reais na base de treino. A seguir iremos aplicar estes mesmos cortes na base de teste. "
   ]
  },
  {
   "cell_type": "markdown",
   "metadata": {},
   "source": [
    "## Aplica classificação de ratings na base de teste"
   ]
  },
  {
   "cell_type": "code",
   "execution_count": 47,
   "metadata": {
    "execution": {
     "iopub.execute_input": "2022-01-14T18:17:32.178640Z",
     "iopub.status.busy": "2022-01-14T18:17:32.178431Z",
     "iopub.status.idle": "2022-01-14T18:17:32.269444Z",
     "shell.execute_reply": "2022-01-14T18:17:32.268948Z",
     "shell.execute_reply.started": "2022-01-14T18:17:32.178621Z"
    }
   },
   "outputs": [
    {
     "name": "stderr",
     "output_type": "stream",
     "text": [
      "\n",
      "A value is trying to be set on a copy of a slice from a DataFrame.\n",
      "Try using .loc[row_indexer,col_indexer] = value instead\n",
      "\n",
      "See the caveats in the documentation: https://pandas.pydata.org/pandas-docs/stable/user_guide/indexing.html#returning-a-view-versus-a-copy\n",
      "\n",
      "A value is trying to be set on a copy of a slice from a DataFrame.\n",
      "Try using .loc[row_indexer,col_indexer] = value instead\n",
      "\n",
      "See the caveats in the documentation: https://pandas.pydata.org/pandas-docs/stable/user_guide/indexing.html#returning-a-view-versus-a-copy\n",
      "\n",
      "A value is trying to be set on a copy of a slice from a DataFrame.\n",
      "Try using .loc[row_indexer,col_indexer] = value instead\n",
      "\n",
      "See the caveats in the documentation: https://pandas.pydata.org/pandas-docs/stable/user_guide/indexing.html#returning-a-view-versus-a-copy\n",
      "\n",
      "A value is trying to be set on a copy of a slice from a DataFrame.\n",
      "Try using .loc[row_indexer,col_indexer] = value instead\n",
      "\n",
      "See the caveats in the documentation: https://pandas.pydata.org/pandas-docs/stable/user_guide/indexing.html#returning-a-view-versus-a-copy\n"
     ]
    }
   ],
   "source": [
    "base_teste = X_test[selected_vars]\n",
    "base_teste['predict'] = final_model.predict_proba(base_teste)[:,1]\n",
    "base_teste['score'] = ((1-base_teste['predict'])*1000).astype('int')\n",
    "base_teste['TARGET'] = y_test\n",
    "base_teste['rating'] = pd.cut(base_teste['score'], bins = np.append(0,bins_ratings) ,labels=['1','2','3','4','5'])"
   ]
  },
  {
   "cell_type": "code",
   "execution_count": 48,
   "metadata": {
    "execution": {
     "iopub.execute_input": "2022-01-14T18:17:32.270314Z",
     "iopub.status.busy": "2022-01-14T18:17:32.270163Z",
     "iopub.status.idle": "2022-01-14T18:17:32.378839Z",
     "shell.execute_reply": "2022-01-14T18:17:32.378387Z",
     "shell.execute_reply.started": "2022-01-14T18:17:32.270296Z"
    }
   },
   "outputs": [
    {
     "data": {
      "text/plain": [
       "<AxesSubplot:xlabel='rating'>"
      ]
     },
     "execution_count": 48,
     "metadata": {},
     "output_type": "execute_result"
    },
    {
     "data": {
      "image/png": "[encoded data removed]",
      "text/plain": [
       "<Figure size 432x288 with 1 Axes>"
      ]
     },
     "metadata": {
      "needs_background": "light"
     },
     "output_type": "display_data"
    }
   ],
   "source": [
    "base_teste.sort_values(['rating']).groupby(['rating']).size().plot.bar()"
   ]
  },
  {
   "cell_type": "markdown",
   "metadata": {},
   "source": [
    "Pelo gráfico acima é possível observar um comportamento similar ao observado na base treino. Com os ratings 2 a 5 com proporções similares de clientes e os clientes de rating 1 com menor concentração. "
   ]
  },
  {
   "cell_type": "code",
   "execution_count": 49,
   "metadata": {
    "execution": {
     "iopub.execute_input": "2022-01-14T18:17:32.379733Z",
     "iopub.status.busy": "2022-01-14T18:17:32.379577Z",
     "iopub.status.idle": "2022-01-14T18:17:32.478143Z",
     "shell.execute_reply": "2022-01-14T18:17:32.477668Z",
     "shell.execute_reply.started": "2022-01-14T18:17:32.379714Z"
    }
   },
   "outputs": [
    {
     "name": "stderr",
     "output_type": "stream",
     "text": [
      "\n",
      "A value is trying to be set on a copy of a slice from a DataFrame.\n",
      "Try using .loc[row_indexer,col_indexer] = value instead\n",
      "\n",
      "See the caveats in the documentation: https://pandas.pydata.org/pandas-docs/stable/user_guide/indexing.html#returning-a-view-versus-a-copy\n"
     ]
    },
    {
     "data": {
      "text/html": [
       "<div>\n",
       "<style scoped>\n",
       "    .dataframe tbody tr th:only-of-type {\n",
       "        vertical-align: middle;\n",
       "    }\n",
       "\n",
       "    .dataframe tbody tr th {\n",
       "        vertical-align: top;\n",
       "    }\n",
       "\n",
       "    .dataframe thead th {\n",
       "        text-align: right;\n",
       "    }\n",
       "</style>\n",
       "<table border=\"1\" class=\"dataframe\">\n",
       "  <thead>\n",
       "    <tr style=\"text-align: right;\">\n",
       "      <th></th>\n",
       "      <th>mean</th>\n",
       "      <th>sum</th>\n",
       "    </tr>\n",
       "    <tr>\n",
       "      <th>rating</th>\n",
       "      <th></th>\n",
       "      <th></th>\n",
       "    </tr>\n",
       "  </thead>\n",
       "  <tbody>\n",
       "    <tr>\n",
       "      <th>1</th>\n",
       "      <td>7.293233</td>\n",
       "      <td>22310</td>\n",
       "    </tr>\n",
       "    <tr>\n",
       "      <th>2</th>\n",
       "      <td>0.000000</td>\n",
       "      <td>0</td>\n",
       "    </tr>\n",
       "    <tr>\n",
       "      <th>3</th>\n",
       "      <td>0.000000</td>\n",
       "      <td>0</td>\n",
       "    </tr>\n",
       "    <tr>\n",
       "      <th>4</th>\n",
       "      <td>0.000000</td>\n",
       "      <td>0</td>\n",
       "    </tr>\n",
       "    <tr>\n",
       "      <th>5</th>\n",
       "      <td>0.000000</td>\n",
       "      <td>0</td>\n",
       "    </tr>\n",
       "  </tbody>\n",
       "</table>\n",
       "</div>"
      ],
      "text/plain": [
       "            mean    sum\n",
       "rating                 \n",
       "1       7.293233  22310\n",
       "2       0.000000      0\n",
       "3       0.000000      0\n",
       "4       0.000000      0\n",
       "5       0.000000      0"
      ]
     },
     "execution_count": 49,
     "metadata": {},
     "output_type": "execute_result"
    }
   ],
   "source": [
    "conditions = [\n",
    "                (base_teste['score'] <= score_max_lucro),\n",
    "                (base_teste['score'] > score_max_lucro)\n",
    "            ]\n",
    "\n",
    "values = [base_teste['TARGET']*100 - (base_teste['score'] <= score_max_lucro)*10, 0]\n",
    "base_teste['lucro'] = np.select(conditions, values)\n",
    "base_teste.groupby(['rating']).agg(['mean','sum'])['lucro']"
   ]
  },
  {
   "cell_type": "markdown",
   "metadata": {},
   "source": [
    "A partir da tabela acima é possível observar que com os ratings definidos anteriormente, tem-se um lucro de 22.310 reais na base de teste. "
   ]
  },
  {
   "cell_type": "code",
   "execution_count": 50,
   "metadata": {
    "execution": {
     "iopub.execute_input": "2022-01-14T18:17:32.479073Z",
     "iopub.status.busy": "2022-01-14T18:17:32.478904Z",
     "iopub.status.idle": "2022-01-14T18:17:32.578134Z",
     "shell.execute_reply": "2022-01-14T18:17:32.577652Z",
     "shell.execute_reply.started": "2022-01-14T18:17:32.479054Z"
    }
   },
   "outputs": [
    {
     "data": {
      "text/html": [
       "<div>\n",
       "<style scoped>\n",
       "    .dataframe tbody tr th:only-of-type {\n",
       "        vertical-align: middle;\n",
       "    }\n",
       "\n",
       "    .dataframe tbody tr th {\n",
       "        vertical-align: top;\n",
       "    }\n",
       "\n",
       "    .dataframe thead th {\n",
       "        text-align: right;\n",
       "    }\n",
       "</style>\n",
       "<table border=\"1\" class=\"dataframe\">\n",
       "  <thead>\n",
       "    <tr style=\"text-align: right;\">\n",
       "      <th></th>\n",
       "      <th>mean</th>\n",
       "      <th>sum</th>\n",
       "    </tr>\n",
       "    <tr>\n",
       "      <th>rating</th>\n",
       "      <th></th>\n",
       "      <th></th>\n",
       "    </tr>\n",
       "  </thead>\n",
       "  <tbody>\n",
       "    <tr>\n",
       "      <th>1</th>\n",
       "      <td>0.172932</td>\n",
       "      <td>529</td>\n",
       "    </tr>\n",
       "    <tr>\n",
       "      <th>2</th>\n",
       "      <td>0.047468</td>\n",
       "      <td>240</td>\n",
       "    </tr>\n",
       "    <tr>\n",
       "      <th>3</th>\n",
       "      <td>0.019044</td>\n",
       "      <td>94</td>\n",
       "    </tr>\n",
       "    <tr>\n",
       "      <th>4</th>\n",
       "      <td>0.008520</td>\n",
       "      <td>41</td>\n",
       "    </tr>\n",
       "    <tr>\n",
       "      <th>5</th>\n",
       "      <td>0.001821</td>\n",
       "      <td>9</td>\n",
       "    </tr>\n",
       "  </tbody>\n",
       "</table>\n",
       "</div>"
      ],
      "text/plain": [
       "            mean  sum\n",
       "rating               \n",
       "1       0.172932  529\n",
       "2       0.047468  240\n",
       "3       0.019044   94\n",
       "4       0.008520   41\n",
       "5       0.001821    9"
      ]
     },
     "execution_count": 50,
     "metadata": {},
     "output_type": "execute_result"
    }
   ],
   "source": [
    "base_teste.groupby(['rating']).agg(['mean','sum'])['TARGET']"
   ]
  },
  {
   "cell_type": "markdown",
   "metadata": {},
   "source": [
    "Ademais, conforme mencionado anteriormente, é possível observar que conforme aumenta o score, a taxa média de insatisfação diminui, sendo de 17% no rating 1 e 0,18% no rating 5. "
   ]
  },
  {
   "cell_type": "markdown",
   "metadata": {},
   "source": [
    "# <font color='blue'> **TAREFA 3**"
   ]
  },
  {
   "cell_type": "markdown",
   "metadata": {},
   "source": [
    "A última tarefa solicitada foi encontrar os 3 grupos naturais com maior lucro esperado por cliente. Para esta tarefa será utilizado o algoritmo de clusterização K-Means. Dado que este algoritmo se baseia na distância euclidiana, será aplicado um pré processamento para que todas as features tenham a mesma escala, para que uma não tenha um peso maior que a outra. Além disso, será utilizado o algoritmo de PCA (Principal Componentes Analysis) para reduzir a dimensionalidade da base, uma vez que esse algoritmo sofre da maldição da dimensionalidade. "
   ]
  },
  {
   "cell_type": "markdown",
   "metadata": {},
   "source": [
    "## Carrega Base"
   ]
  },
  {
   "cell_type": "code",
   "execution_count": 51,
   "metadata": {
    "execution": {
     "iopub.execute_input": "2022-01-14T18:17:32.579091Z",
     "iopub.status.busy": "2022-01-14T18:17:32.578921Z",
     "iopub.status.idle": "2022-01-14T18:17:32.744012Z",
     "shell.execute_reply": "2022-01-14T18:17:32.743542Z",
     "shell.execute_reply.started": "2022-01-14T18:17:32.579072Z"
    }
   },
   "outputs": [
    {
     "data": {
      "text/html": [
       "<div>\n",
       "<style scoped>\n",
       "    .dataframe tbody tr th:only-of-type {\n",
       "        vertical-align: middle;\n",
       "    }\n",
       "\n",
       "    .dataframe tbody tr th {\n",
       "        vertical-align: top;\n",
       "    }\n",
       "\n",
       "    .dataframe thead th {\n",
       "        text-align: right;\n",
       "    }\n",
       "</style>\n",
       "<table border=\"1\" class=\"dataframe\">\n",
       "  <thead>\n",
       "    <tr style=\"text-align: right;\">\n",
       "      <th></th>\n",
       "      <th>var15</th>\n",
       "      <th>imp_ent_var16_ult1</th>\n",
       "      <th>imp_op_var39_comer_ult1</th>\n",
       "      <th>imp_op_var39_comer_ult3</th>\n",
       "      <th>imp_op_var41_comer_ult3</th>\n",
       "      <th>imp_op_var41_efect_ult3</th>\n",
       "      <th>imp_op_var41_ult1</th>\n",
       "      <th>imp_op_var39_efect_ult3</th>\n",
       "      <th>imp_op_var39_ult1</th>\n",
       "      <th>num_var4</th>\n",
       "      <th>...</th>\n",
       "      <th>num_meses_var39_vig_ult3</th>\n",
       "      <th>num_var45_hace2</th>\n",
       "      <th>num_var45_hace3</th>\n",
       "      <th>num_var45_ult1</th>\n",
       "      <th>num_var45_ult3</th>\n",
       "      <th>saldo_medio_var5_hace2</th>\n",
       "      <th>saldo_medio_var5_hace3</th>\n",
       "      <th>saldo_medio_var5_ult1</th>\n",
       "      <th>saldo_medio_var5_ult3</th>\n",
       "      <th>var38</th>\n",
       "    </tr>\n",
       "  </thead>\n",
       "  <tbody>\n",
       "    <tr>\n",
       "      <th>count</th>\n",
       "      <td>76020.000000</td>\n",
       "      <td>76020.000000</td>\n",
       "      <td>76020.000000</td>\n",
       "      <td>76020.000000</td>\n",
       "      <td>76020.000000</td>\n",
       "      <td>76020.000000</td>\n",
       "      <td>76020.000000</td>\n",
       "      <td>76020.000000</td>\n",
       "      <td>76020.000000</td>\n",
       "      <td>76020.000000</td>\n",
       "      <td>...</td>\n",
       "      <td>76020.000000</td>\n",
       "      <td>76020.000000</td>\n",
       "      <td>76020.000000</td>\n",
       "      <td>76020.000000</td>\n",
       "      <td>76020.000000</td>\n",
       "      <td>76020.000000</td>\n",
       "      <td>76020.000000</td>\n",
       "      <td>76020.000000</td>\n",
       "      <td>76020.000000</td>\n",
       "      <td>76020.000000</td>\n",
       "    </tr>\n",
       "    <tr>\n",
       "      <th>mean</th>\n",
       "      <td>32.915476</td>\n",
       "      <td>48.050829</td>\n",
       "      <td>51.229826</td>\n",
       "      <td>86.185522</td>\n",
       "      <td>81.558818</td>\n",
       "      <td>83.909842</td>\n",
       "      <td>104.114464</td>\n",
       "      <td>84.193138</td>\n",
       "      <td>106.417009</td>\n",
       "      <td>1.064731</td>\n",
       "      <td>...</td>\n",
       "      <td>1.592791</td>\n",
       "      <td>4.578299</td>\n",
       "      <td>3.320674</td>\n",
       "      <td>3.523443</td>\n",
       "      <td>11.832102</td>\n",
       "      <td>976.425628</td>\n",
       "      <td>541.760228</td>\n",
       "      <td>661.375594</td>\n",
       "      <td>686.366667</td>\n",
       "      <td>113064.168167</td>\n",
       "    </tr>\n",
       "    <tr>\n",
       "      <th>std</th>\n",
       "      <td>11.990362</td>\n",
       "      <td>337.560807</td>\n",
       "      <td>179.133270</td>\n",
       "      <td>289.499217</td>\n",
       "      <td>273.986398</td>\n",
       "      <td>352.342554</td>\n",
       "      <td>351.991883</td>\n",
       "      <td>353.401210</td>\n",
       "      <td>358.533582</td>\n",
       "      <td>0.861929</td>\n",
       "      <td>...</td>\n",
       "      <td>0.719655</td>\n",
       "      <td>9.361333</td>\n",
       "      <td>6.833144</td>\n",
       "      <td>8.363389</td>\n",
       "      <td>21.919998</td>\n",
       "      <td>4322.863335</td>\n",
       "      <td>3033.712663</td>\n",
       "      <td>2903.329630</td>\n",
       "      <td>2829.673391</td>\n",
       "      <td>74493.565148</td>\n",
       "    </tr>\n",
       "    <tr>\n",
       "      <th>min</th>\n",
       "      <td>5.000000</td>\n",
       "      <td>0.000000</td>\n",
       "      <td>0.000000</td>\n",
       "      <td>0.000000</td>\n",
       "      <td>0.000000</td>\n",
       "      <td>0.000000</td>\n",
       "      <td>0.000000</td>\n",
       "      <td>0.000000</td>\n",
       "      <td>0.000000</td>\n",
       "      <td>0.000000</td>\n",
       "      <td>...</td>\n",
       "      <td>0.000000</td>\n",
       "      <td>0.000000</td>\n",
       "      <td>0.000000</td>\n",
       "      <td>0.000000</td>\n",
       "      <td>0.000000</td>\n",
       "      <td>-128.370000</td>\n",
       "      <td>-8.040000</td>\n",
       "      <td>-922.380000</td>\n",
       "      <td>-476.070000</td>\n",
       "      <td>5163.750000</td>\n",
       "    </tr>\n",
       "    <tr>\n",
       "      <th>25%</th>\n",
       "      <td>23.000000</td>\n",
       "      <td>0.000000</td>\n",
       "      <td>0.000000</td>\n",
       "      <td>0.000000</td>\n",
       "      <td>0.000000</td>\n",
       "      <td>0.000000</td>\n",
       "      <td>0.000000</td>\n",
       "      <td>0.000000</td>\n",
       "      <td>0.000000</td>\n",
       "      <td>0.000000</td>\n",
       "      <td>...</td>\n",
       "      <td>1.000000</td>\n",
       "      <td>0.000000</td>\n",
       "      <td>0.000000</td>\n",
       "      <td>0.000000</td>\n",
       "      <td>0.000000</td>\n",
       "      <td>0.000000</td>\n",
       "      <td>0.000000</td>\n",
       "      <td>0.000000</td>\n",
       "      <td>0.000000</td>\n",
       "      <td>67870.612500</td>\n",
       "    </tr>\n",
       "    <tr>\n",
       "      <th>50%</th>\n",
       "      <td>28.000000</td>\n",
       "      <td>0.000000</td>\n",
       "      <td>0.000000</td>\n",
       "      <td>0.000000</td>\n",
       "      <td>0.000000</td>\n",
       "      <td>0.000000</td>\n",
       "      <td>0.000000</td>\n",
       "      <td>0.000000</td>\n",
       "      <td>0.000000</td>\n",
       "      <td>1.000000</td>\n",
       "      <td>...</td>\n",
       "      <td>2.000000</td>\n",
       "      <td>0.000000</td>\n",
       "      <td>0.000000</td>\n",
       "      <td>0.000000</td>\n",
       "      <td>0.000000</td>\n",
       "      <td>3.000000</td>\n",
       "      <td>0.990000</td>\n",
       "      <td>3.000000</td>\n",
       "      <td>2.730000</td>\n",
       "      <td>106409.160000</td>\n",
       "    </tr>\n",
       "    <tr>\n",
       "      <th>75%</th>\n",
       "      <td>40.000000</td>\n",
       "      <td>0.000000</td>\n",
       "      <td>0.000000</td>\n",
       "      <td>0.000000</td>\n",
       "      <td>0.000000</td>\n",
       "      <td>0.000000</td>\n",
       "      <td>0.000000</td>\n",
       "      <td>0.000000</td>\n",
       "      <td>0.000000</td>\n",
       "      <td>1.000000</td>\n",
       "      <td>...</td>\n",
       "      <td>2.000000</td>\n",
       "      <td>3.000000</td>\n",
       "      <td>3.000000</td>\n",
       "      <td>3.000000</td>\n",
       "      <td>12.000000</td>\n",
       "      <td>90.000000</td>\n",
       "      <td>12.217500</td>\n",
       "      <td>90.000000</td>\n",
       "      <td>83.790000</td>\n",
       "      <td>118756.252500</td>\n",
       "    </tr>\n",
       "    <tr>\n",
       "      <th>max</th>\n",
       "      <td>65.603867</td>\n",
       "      <td>4123.074995</td>\n",
       "      <td>920.647065</td>\n",
       "      <td>1485.186385</td>\n",
       "      <td>1393.435570</td>\n",
       "      <td>2488.425430</td>\n",
       "      <td>1881.512781</td>\n",
       "      <td>2497.723290</td>\n",
       "      <td>1922.309858</td>\n",
       "      <td>3.353339</td>\n",
       "      <td>...</td>\n",
       "      <td>3.000000</td>\n",
       "      <td>41.633213</td>\n",
       "      <td>29.936278</td>\n",
       "      <td>40.379472</td>\n",
       "      <td>96.910588</td>\n",
       "      <td>31950.066549</td>\n",
       "      <td>25612.695764</td>\n",
       "      <td>25114.366120</td>\n",
       "      <td>21523.593910</td>\n",
       "      <td>573894.302116</td>\n",
       "    </tr>\n",
       "  </tbody>\n",
       "</table>\n",
       "<p>8 rows × 34 columns</p>\n",
       "</div>"
      ],
      "text/plain": [
       "              var15  imp_ent_var16_ult1  imp_op_var39_comer_ult1  \\\n",
       "count  76020.000000        76020.000000             76020.000000   \n",
       "mean      32.915476           48.050829                51.229826   \n",
       "std       11.990362          337.560807               179.133270   \n",
       "min        5.000000            0.000000                 0.000000   \n",
       "25%       23.000000            0.000000                 0.000000   \n",
       "50%       28.000000            0.000000                 0.000000   \n",
       "75%       40.000000            0.000000                 0.000000   \n",
       "max       65.603867         4123.074995               920.647065   \n",
       "\n",
       "       imp_op_var39_comer_ult3  imp_op_var41_comer_ult3  \\\n",
       "count             76020.000000             76020.000000   \n",
       "mean                 86.185522                81.558818   \n",
       "std                 289.499217               273.986398   \n",
       "min                   0.000000                 0.000000   \n",
       "25%                   0.000000                 0.000000   \n",
       "50%                   0.000000                 0.000000   \n",
       "75%                   0.000000                 0.000000   \n",
       "max                1485.186385              1393.435570   \n",
       "\n",
       "       imp_op_var41_efect_ult3  imp_op_var41_ult1  imp_op_var39_efect_ult3  \\\n",
       "count             76020.000000       76020.000000             76020.000000   \n",
       "mean                 83.909842         104.114464                84.193138   \n",
       "std                 352.342554         351.991883               353.401210   \n",
       "min                   0.000000           0.000000                 0.000000   \n",
       "25%                   0.000000           0.000000                 0.000000   \n",
       "50%                   0.000000           0.000000                 0.000000   \n",
       "75%                   0.000000           0.000000                 0.000000   \n",
       "max                2488.425430        1881.512781              2497.723290   \n",
       "\n",
       "       imp_op_var39_ult1      num_var4  ...  num_meses_var39_vig_ult3  \\\n",
       "count       76020.000000  76020.000000  ...              76020.000000   \n",
       "mean          106.417009      1.064731  ...                  1.592791   \n",
       "std           358.533582      0.861929  ...                  0.719655   \n",
       "min             0.000000      0.000000  ...                  0.000000   \n",
       "25%             0.000000      0.000000  ...                  1.000000   \n",
       "50%             0.000000      1.000000  ...                  2.000000   \n",
       "75%             0.000000      1.000000  ...                  2.000000   \n",
       "max          1922.309858      3.353339  ...                  3.000000   \n",
       "\n",
       "       num_var45_hace2  num_var45_hace3  num_var45_ult1  num_var45_ult3  \\\n",
       "count     76020.000000     76020.000000    76020.000000    76020.000000   \n",
       "mean          4.578299         3.320674        3.523443       11.832102   \n",
       "std           9.361333         6.833144        8.363389       21.919998   \n",
       "min           0.000000         0.000000        0.000000        0.000000   \n",
       "25%           0.000000         0.000000        0.000000        0.000000   \n",
       "50%           0.000000         0.000000        0.000000        0.000000   \n",
       "75%           3.000000         3.000000        3.000000       12.000000   \n",
       "max          41.633213        29.936278       40.379472       96.910588   \n",
       "\n",
       "       saldo_medio_var5_hace2  saldo_medio_var5_hace3  saldo_medio_var5_ult1  \\\n",
       "count            76020.000000            76020.000000           76020.000000   \n",
       "mean               976.425628              541.760228             661.375594   \n",
       "std               4322.863335             3033.712663            2903.329630   \n",
       "min               -128.370000               -8.040000            -922.380000   \n",
       "25%                  0.000000                0.000000               0.000000   \n",
       "50%                  3.000000                0.990000               3.000000   \n",
       "75%                 90.000000               12.217500              90.000000   \n",
       "max              31950.066549            25612.695764           25114.366120   \n",
       "\n",
       "       saldo_medio_var5_ult3          var38  \n",
       "count           76020.000000   76020.000000  \n",
       "mean              686.366667  113064.168167  \n",
       "std              2829.673391   74493.565148  \n",
       "min              -476.070000    5163.750000  \n",
       "25%                 0.000000   67870.612500  \n",
       "50%                 2.730000  106409.160000  \n",
       "75%                83.790000  118756.252500  \n",
       "max             21523.593910  573894.302116  \n",
       "\n",
       "[8 rows x 34 columns]"
      ]
     },
     "execution_count": 51,
     "metadata": {},
     "output_type": "execute_result"
    }
   ],
   "source": [
    "tarefa_3 = df[selected_vars]\n",
    "tarefa_3.describe()"
   ]
  },
  {
   "cell_type": "markdown",
   "metadata": {},
   "source": [
    "## Pré-Processamento"
   ]
  },
  {
   "cell_type": "markdown",
   "metadata": {},
   "source": [
    "**Aplica-se a padronização dos dados para que todas as features estejam na mesma escala, assim evita-se que features com ranges de valor maior tenham maior peso no processo de clusterização, uma vez que será utilizada o K-Means e este depende da distância entre observações.**"
   ]
  },
  {
   "cell_type": "code",
   "execution_count": 52,
   "metadata": {
    "execution": {
     "iopub.execute_input": "2022-01-14T18:17:32.745015Z",
     "iopub.status.busy": "2022-01-14T18:17:32.744841Z",
     "iopub.status.idle": "2022-01-14T18:17:32.807435Z",
     "shell.execute_reply": "2022-01-14T18:17:32.806961Z",
     "shell.execute_reply.started": "2022-01-14T18:17:32.744995Z"
    }
   },
   "outputs": [
    {
     "data": {
      "text/plain": [
       "array([[-0.82695933, -0.14234812, -0.2859891 , ..., -0.2278005 ,\n",
       "        -0.24256198, -0.99148811],\n",
       "       [ 0.09045023, -0.14234812, -0.2859891 , ..., -0.2278005 ,\n",
       "        -0.24256198, -0.85626936],\n",
       "       [-0.82695933, -0.14234812, -0.2859891 , ..., -0.2267672 ,\n",
       "        -0.24183044, -0.61388791],\n",
       "       ...,\n",
       "       [-0.82695933, -0.14234812, -0.2859891 , ..., -0.2267672 ,\n",
       "        -0.24150178, -0.52402211],\n",
       "       [-0.66015759, -0.14234812, -0.2859891 , ..., -0.2267672 ,\n",
       "        -0.24165021, -0.38642529],\n",
       "       [ 1.09126065, -0.14234812, -0.2859891 , ..., -0.2278005 ,\n",
       "        -0.24256198,  0.05700947]])"
      ]
     },
     "execution_count": 52,
     "metadata": {},
     "output_type": "execute_result"
    }
   ],
   "source": [
    "scaler = StandardScaler()\n",
    "scaled_features = scaler.fit_transform(tarefa_3)\n",
    "scaled_features"
   ]
  },
  {
   "cell_type": "code",
   "execution_count": 53,
   "metadata": {
    "execution": {
     "iopub.execute_input": "2022-01-14T18:17:32.808438Z",
     "iopub.status.busy": "2022-01-14T18:17:32.808265Z",
     "iopub.status.idle": "2022-01-14T18:17:35.473673Z",
     "shell.execute_reply": "2022-01-14T18:17:35.473183Z",
     "shell.execute_reply.started": "2022-01-14T18:17:32.808417Z"
    }
   },
   "outputs": [
    {
     "data": {
      "text/plain": [
       "array([2.99996769e-01, 1.23737701e-01, 7.54577941e-02, 5.78681116e-02,\n",
       "       5.26543044e-02, 4.45933524e-02, 3.54450505e-02, 3.38773847e-02,\n",
       "       2.91454626e-02, 2.87703566e-02, 2.77898531e-02, 2.57124221e-02,\n",
       "       2.49361744e-02, 2.20438585e-02, 2.05338081e-02, 1.62986090e-02,\n",
       "       1.35626684e-02, 1.23059120e-02, 1.03979394e-02, 8.38352155e-03,\n",
       "       7.47552903e-03, 6.43469839e-03, 5.78330246e-03, 5.50964502e-03,\n",
       "       3.65980642e-03, 2.72880594e-03, 2.29571885e-03, 8.40109331e-04,\n",
       "       7.07620482e-04, 5.81070515e-04, 2.38202283e-04, 1.10664892e-04,\n",
       "       1.00762765e-04, 2.30099558e-05])"
      ]
     },
     "execution_count": 53,
     "metadata": {},
     "output_type": "execute_result"
    }
   ],
   "source": [
    "pca = PCA()\n",
    "pca.fit(scaled_features)\n",
    "pca.explained_variance_ratio_"
   ]
  },
  {
   "cell_type": "code",
   "execution_count": 54,
   "metadata": {
    "execution": {
     "iopub.execute_input": "2022-01-14T18:17:35.474680Z",
     "iopub.status.busy": "2022-01-14T18:17:35.474503Z",
     "iopub.status.idle": "2022-01-14T18:17:35.720191Z",
     "shell.execute_reply": "2022-01-14T18:17:35.719709Z",
     "shell.execute_reply.started": "2022-01-14T18:17:35.474660Z"
    }
   },
   "outputs": [
    {
     "data": {
      "text/plain": [
       "Text(0, 0.5, 'Variância Explicativa Acumulada')"
      ]
     },
     "execution_count": 54,
     "metadata": {},
     "output_type": "execute_result"
    },
    {
     "data": {
      "image/png": "[encoded data removed]",
      "text/plain": [
       "<Figure size 720x576 with 1 Axes>"
      ]
     },
     "metadata": {
      "needs_background": "light"
     },
     "output_type": "display_data"
    }
   ],
   "source": [
    "plt.figure(figsize = (10,8))\n",
    "plt.plot(range(1, (len(pca.explained_variance_ratio_)+1)), pca.explained_variance_ratio_.cumsum(), marker = 'o', linestyle = '--')\n",
    "plt.xlabel('Quantidade de Componentes')\n",
    "plt.ylabel('Variância Explicativa Acumulada')"
   ]
  },
  {
   "cell_type": "markdown",
   "metadata": {},
   "source": [
    "Serão selecionados os 10 primeiros componentes principais, uma vez que estes somam cerca de 80% da variância. Assim reduz-se a dimensionalidade da base. "
   ]
  },
  {
   "cell_type": "code",
   "execution_count": 55,
   "metadata": {
    "execution": {
     "iopub.execute_input": "2022-01-14T18:17:35.721131Z",
     "iopub.status.busy": "2022-01-14T18:17:35.720963Z",
     "iopub.status.idle": "2022-01-14T18:17:45.371082Z",
     "shell.execute_reply": "2022-01-14T18:17:45.370174Z",
     "shell.execute_reply.started": "2022-01-14T18:17:35.721106Z"
    }
   },
   "outputs": [],
   "source": [
    "pca = PCA(n_components = 10)\n",
    "pca.fit(scaled_features)\n",
    "scores_pca = pca.transform(scaled_features)"
   ]
  },
  {
   "cell_type": "markdown",
   "metadata": {},
   "source": [
    "## Gera Clusters"
   ]
  },
  {
   "cell_type": "markdown",
   "metadata": {},
   "source": [
    "Será utilizado o algoritmo de K-Means para a clusterização. Para definir o valor de K, serão simulados diversos modelos e será utilizado o Método do Cotovelo. "
   ]
  },
  {
   "cell_type": "code",
   "execution_count": 56,
   "metadata": {
    "execution": {
     "iopub.execute_input": "2022-01-14T18:17:45.372620Z",
     "iopub.status.busy": "2022-01-14T18:17:45.372424Z",
     "iopub.status.idle": "2022-01-14T18:24:36.808843Z",
     "shell.execute_reply": "2022-01-14T18:24:36.808195Z",
     "shell.execute_reply.started": "2022-01-14T18:17:45.372587Z"
    }
   },
   "outputs": [
    {
     "name": "stdout",
     "output_type": "stream",
     "text": [
      "Quantidade de Clusters: 2\n",
      "Fim: 2\n",
      "Quantidade de Clusters: 3\n",
      "Fim: 3\n",
      "Quantidade de Clusters: 4\n",
      "Fim: 4\n",
      "Quantidade de Clusters: 5\n",
      "Fim: 5\n",
      "Quantidade de Clusters: 6\n",
      "Fim: 6\n",
      "Quantidade de Clusters: 7\n",
      "Fim: 7\n",
      "Quantidade de Clusters: 8\n",
      "Fim: 8\n",
      "Quantidade de Clusters: 9\n",
      "Fim: 9\n",
      "Quantidade de Clusters: 10\n",
      "Fim: 10\n",
      "Quantidade de Clusters: 11\n",
      "Fim: 11\n",
      "Quantidade de Clusters: 12\n",
      "Fim: 12\n",
      "Quantidade de Clusters: 13\n",
      "Fim: 13\n",
      "Quantidade de Clusters: 14\n",
      "Fim: 14\n"
     ]
    }
   ],
   "source": [
    "wcss = []\n",
    "\n",
    "for k in range(2, 15):\n",
    "    print(\"Quantidade de Clusters:\", k)\n",
    "    kmeans = KMeans(n_clusters = k, init = \"k-means++\", n_init = 15,  random_state = 14)\n",
    "    kmeans.fit(scores_pca)\n",
    "    wcss.append(kmeans.inertia_)\n",
    "    print(\"Fim:\", k)"
   ]
  },
  {
   "cell_type": "markdown",
   "metadata": {},
   "source": [
    "## Escolha de K"
   ]
  },
  {
   "cell_type": "code",
   "execution_count": 57,
   "metadata": {
    "execution": {
     "iopub.execute_input": "2022-01-14T18:24:36.810145Z",
     "iopub.status.busy": "2022-01-14T18:24:36.809937Z",
     "iopub.status.idle": "2022-01-14T18:24:36.960381Z",
     "shell.execute_reply": "2022-01-14T18:24:36.959883Z",
     "shell.execute_reply.started": "2022-01-14T18:24:36.810106Z"
    }
   },
   "outputs": [
    {
     "data": {
      "image/png": "[encoded data removed]",
      "text/plain": [
       "<Figure size 432x288 with 1 Axes>"
      ]
     },
     "metadata": {
      "needs_background": "light"
     },
     "output_type": "display_data"
    }
   ],
   "source": [
    "plt.plot(range(2, 15), wcss, marker = 'o', linestyle = '--')\n",
    "plt.xticks(range(2, 15))\n",
    "plt.xlabel(\"Quantidade de Clusters\")\n",
    "plt.ylabel(\"WCSS\")\n",
    "plt.show()"
   ]
  },
  {
   "cell_type": "markdown",
   "metadata": {},
   "source": [
    "**A partir do método do \"cotovelo\" não foi possível chegar a conclusão pois não é claro o ponto de inflexão na curva, podendo ser entre k= 4 ou 5. Assim será calculado o coeficiente de silhueta para auxiliar a definir o valor de k**"
   ]
  },
  {
   "cell_type": "code",
   "execution_count": 59,
   "metadata": {
    "execution": {
     "iopub.execute_input": "2022-01-14T18:24:36.966855Z",
     "iopub.status.busy": "2022-01-14T18:24:36.966689Z",
     "iopub.status.idle": "2022-01-14T19:00:25.175355Z",
     "shell.execute_reply": "2022-01-14T19:00:25.174106Z",
     "shell.execute_reply.started": "2022-01-14T18:24:36.966837Z"
    }
   },
   "outputs": [
    {
     "name": "stdout",
     "output_type": "stream",
     "text": [
      "Quantidade de Clusters: 2\n",
      "Fim: 2\n",
      "Quantidade de Clusters: 3\n",
      "Fim: 3\n",
      "Quantidade de Clusters: 4\n",
      "Fim: 4\n",
      "Quantidade de Clusters: 5\n",
      "Fim: 5\n",
      "Quantidade de Clusters: 6\n",
      "Fim: 6\n"
     ]
    }
   ],
   "source": [
    "silhouette_coefficients = []\n",
    "\n",
    "for k in range(2, 7):\n",
    "    print(\"Quantidade de Clusters:\", k)\n",
    "    kmeans = KMeans(n_clusters = k, init = \"k-means++\", n_init = 10,  random_state = 14)\n",
    "    kmeans.fit(scores_pca)\n",
    "    score = silhouette_score(scores_pca, kmeans.labels_)\n",
    "    silhouette_coefficients.append(score)\n",
    "    \n",
    "    print(\"Fim:\", k)"
   ]
  },
  {
   "cell_type": "code",
   "execution_count": 60,
   "metadata": {
    "execution": {
     "iopub.execute_input": "2022-01-14T19:00:25.177358Z",
     "iopub.status.busy": "2022-01-14T19:00:25.177095Z",
     "iopub.status.idle": "2022-01-14T19:00:25.329059Z",
     "shell.execute_reply": "2022-01-14T19:00:25.328368Z",
     "shell.execute_reply.started": "2022-01-14T19:00:25.177328Z"
    }
   },
   "outputs": [
    {
     "data": {
      "image/png": "[encoded data removed]",
      "text/plain": [
       "<Figure size 432x288 with 1 Axes>"
      ]
     },
     "metadata": {
      "needs_background": "light"
     },
     "output_type": "display_data"
    }
   ],
   "source": [
    "plt.plot(range(2, 7), silhouette_coefficients, marker = 'o', linestyle = '--')\n",
    "plt.xticks(range(2, 7))\n",
    "plt.xlabel(\"Quantidade de Clusters\")\n",
    "plt.ylabel(\"Coeficiente da Silhueta\")\n",
    "plt.show()"
   ]
  },
  {
   "cell_type": "markdown",
   "metadata": {},
   "source": [
    "**A partir do método do cotovelo e do coeficiente da silheuta, decidi por definir o valor de k = 4.**"
   ]
  },
  {
   "cell_type": "code",
   "execution_count": 68,
   "metadata": {
    "execution": {
     "iopub.execute_input": "2022-01-14T19:06:06.041410Z",
     "iopub.status.busy": "2022-01-14T19:06:06.041111Z",
     "iopub.status.idle": "2022-01-14T19:06:14.885720Z",
     "shell.execute_reply": "2022-01-14T19:06:14.885039Z",
     "shell.execute_reply.started": "2022-01-14T19:06:06.041384Z"
    }
   },
   "outputs": [
    {
     "data": {
      "text/plain": [
       "KMeans(n_clusters=4, random_state=14)"
      ]
     },
     "execution_count": 68,
     "metadata": {},
     "output_type": "execute_result"
    }
   ],
   "source": [
    "modelo_kmeans_final = KMeans(n_clusters=4, init = \"k-means++\", n_init=10,  random_state = 14)\n",
    "modelo_kmeans_final.fit(scores_pca)"
   ]
  },
  {
   "cell_type": "markdown",
   "metadata": {},
   "source": [
    "## Verifica clusterização"
   ]
  },
  {
   "cell_type": "code",
   "execution_count": 69,
   "metadata": {
    "execution": {
     "iopub.execute_input": "2022-01-14T19:06:14.887060Z",
     "iopub.status.busy": "2022-01-14T19:06:14.886874Z",
     "iopub.status.idle": "2022-01-14T19:06:23.309514Z",
     "shell.execute_reply": "2022-01-14T19:06:23.308710Z",
     "shell.execute_reply.started": "2022-01-14T19:06:14.887039Z"
    }
   },
   "outputs": [],
   "source": [
    "cluster = modelo_kmeans_final.fit_predict(scores_pca)\n",
    "temp_cluster = tarefa_3.copy()\n",
    "temp_cluster['cluster'] = cluster\n",
    "temp_cluster['TARGET'] = y"
   ]
  },
  {
   "cell_type": "markdown",
   "metadata": {},
   "source": [
    "## Verifica lucro por cluster"
   ]
  },
  {
   "cell_type": "markdown",
   "metadata": {},
   "source": [
    "Inclui variáveis de target e predito do modelo final"
   ]
  },
  {
   "cell_type": "code",
   "execution_count": 70,
   "metadata": {
    "execution": {
     "iopub.execute_input": "2022-01-14T19:06:23.311073Z",
     "iopub.status.busy": "2022-01-14T19:06:23.310875Z",
     "iopub.status.idle": "2022-01-14T19:06:23.756321Z",
     "shell.execute_reply": "2022-01-14T19:06:23.755489Z",
     "shell.execute_reply.started": "2022-01-14T19:06:23.311050Z"
    }
   },
   "outputs": [
    {
     "data": {
      "text/html": [
       "<div>\n",
       "<style scoped>\n",
       "    .dataframe tbody tr th:only-of-type {\n",
       "        vertical-align: middle;\n",
       "    }\n",
       "\n",
       "    .dataframe tbody tr th {\n",
       "        vertical-align: top;\n",
       "    }\n",
       "\n",
       "    .dataframe thead th {\n",
       "        text-align: right;\n",
       "    }\n",
       "</style>\n",
       "<table border=\"1\" class=\"dataframe\">\n",
       "  <thead>\n",
       "    <tr style=\"text-align: right;\">\n",
       "      <th></th>\n",
       "      <th>var15</th>\n",
       "      <th>imp_ent_var16_ult1</th>\n",
       "      <th>imp_op_var39_comer_ult1</th>\n",
       "      <th>imp_op_var39_comer_ult3</th>\n",
       "      <th>imp_op_var41_comer_ult3</th>\n",
       "      <th>imp_op_var41_efect_ult3</th>\n",
       "      <th>imp_op_var41_ult1</th>\n",
       "      <th>imp_op_var39_efect_ult3</th>\n",
       "      <th>imp_op_var39_ult1</th>\n",
       "      <th>num_var4</th>\n",
       "      <th>...</th>\n",
       "      <th>num_var45_ult3</th>\n",
       "      <th>saldo_medio_var5_hace2</th>\n",
       "      <th>saldo_medio_var5_hace3</th>\n",
       "      <th>saldo_medio_var5_ult1</th>\n",
       "      <th>saldo_medio_var5_ult3</th>\n",
       "      <th>var38</th>\n",
       "      <th>cluster</th>\n",
       "      <th>TARGET</th>\n",
       "      <th>predict</th>\n",
       "      <th>predito</th>\n",
       "    </tr>\n",
       "  </thead>\n",
       "  <tbody>\n",
       "    <tr>\n",
       "      <th>0</th>\n",
       "      <td>23.0</td>\n",
       "      <td>0.0</td>\n",
       "      <td>0.0</td>\n",
       "      <td>0.0</td>\n",
       "      <td>0.0</td>\n",
       "      <td>0.0</td>\n",
       "      <td>0.0</td>\n",
       "      <td>0.0</td>\n",
       "      <td>0.0</td>\n",
       "      <td>0.0</td>\n",
       "      <td>...</td>\n",
       "      <td>0.0</td>\n",
       "      <td>0.00</td>\n",
       "      <td>0.00</td>\n",
       "      <td>0.00000</td>\n",
       "      <td>0.00</td>\n",
       "      <td>39205.170000</td>\n",
       "      <td>0</td>\n",
       "      <td>0</td>\n",
       "      <td>0.377561</td>\n",
       "      <td>0</td>\n",
       "    </tr>\n",
       "    <tr>\n",
       "      <th>1</th>\n",
       "      <td>34.0</td>\n",
       "      <td>0.0</td>\n",
       "      <td>0.0</td>\n",
       "      <td>0.0</td>\n",
       "      <td>0.0</td>\n",
       "      <td>0.0</td>\n",
       "      <td>0.0</td>\n",
       "      <td>0.0</td>\n",
       "      <td>0.0</td>\n",
       "      <td>1.0</td>\n",
       "      <td>...</td>\n",
       "      <td>0.0</td>\n",
       "      <td>0.00</td>\n",
       "      <td>88.89</td>\n",
       "      <td>0.00000</td>\n",
       "      <td>0.00</td>\n",
       "      <td>49278.030000</td>\n",
       "      <td>0</td>\n",
       "      <td>0</td>\n",
       "      <td>0.362964</td>\n",
       "      <td>0</td>\n",
       "    </tr>\n",
       "    <tr>\n",
       "      <th>2</th>\n",
       "      <td>23.0</td>\n",
       "      <td>0.0</td>\n",
       "      <td>0.0</td>\n",
       "      <td>0.0</td>\n",
       "      <td>0.0</td>\n",
       "      <td>0.0</td>\n",
       "      <td>0.0</td>\n",
       "      <td>0.0</td>\n",
       "      <td>0.0</td>\n",
       "      <td>1.0</td>\n",
       "      <td>...</td>\n",
       "      <td>0.0</td>\n",
       "      <td>3.00</td>\n",
       "      <td>0.18</td>\n",
       "      <td>3.00000</td>\n",
       "      <td>2.07</td>\n",
       "      <td>67333.770000</td>\n",
       "      <td>0</td>\n",
       "      <td>0</td>\n",
       "      <td>0.054120</td>\n",
       "      <td>0</td>\n",
       "    </tr>\n",
       "    <tr>\n",
       "      <th>3</th>\n",
       "      <td>37.0</td>\n",
       "      <td>0.0</td>\n",
       "      <td>195.0</td>\n",
       "      <td>195.0</td>\n",
       "      <td>195.0</td>\n",
       "      <td>0.0</td>\n",
       "      <td>195.0</td>\n",
       "      <td>0.0</td>\n",
       "      <td>195.0</td>\n",
       "      <td>3.0</td>\n",
       "      <td>...</td>\n",
       "      <td>48.0</td>\n",
       "      <td>186.09</td>\n",
       "      <td>0.00</td>\n",
       "      <td>91.56000</td>\n",
       "      <td>138.84</td>\n",
       "      <td>64007.970000</td>\n",
       "      <td>1</td>\n",
       "      <td>0</td>\n",
       "      <td>0.233513</td>\n",
       "      <td>0</td>\n",
       "    </tr>\n",
       "    <tr>\n",
       "      <th>4</th>\n",
       "      <td>39.0</td>\n",
       "      <td>0.0</td>\n",
       "      <td>0.0</td>\n",
       "      <td>0.0</td>\n",
       "      <td>0.0</td>\n",
       "      <td>0.0</td>\n",
       "      <td>0.0</td>\n",
       "      <td>0.0</td>\n",
       "      <td>0.0</td>\n",
       "      <td>1.0</td>\n",
       "      <td>...</td>\n",
       "      <td>0.0</td>\n",
       "      <td>3.00</td>\n",
       "      <td>0.30</td>\n",
       "      <td>25114.36612</td>\n",
       "      <td>13501.47</td>\n",
       "      <td>117310.979016</td>\n",
       "      <td>3</td>\n",
       "      <td>0</td>\n",
       "      <td>0.033902</td>\n",
       "      <td>0</td>\n",
       "    </tr>\n",
       "    <tr>\n",
       "      <th>...</th>\n",
       "      <td>...</td>\n",
       "      <td>...</td>\n",
       "      <td>...</td>\n",
       "      <td>...</td>\n",
       "      <td>...</td>\n",
       "      <td>...</td>\n",
       "      <td>...</td>\n",
       "      <td>...</td>\n",
       "      <td>...</td>\n",
       "      <td>...</td>\n",
       "      <td>...</td>\n",
       "      <td>...</td>\n",
       "      <td>...</td>\n",
       "      <td>...</td>\n",
       "      <td>...</td>\n",
       "      <td>...</td>\n",
       "      <td>...</td>\n",
       "      <td>...</td>\n",
       "      <td>...</td>\n",
       "      <td>...</td>\n",
       "      <td>...</td>\n",
       "    </tr>\n",
       "    <tr>\n",
       "      <th>76015</th>\n",
       "      <td>48.0</td>\n",
       "      <td>0.0</td>\n",
       "      <td>0.0</td>\n",
       "      <td>0.0</td>\n",
       "      <td>0.0</td>\n",
       "      <td>0.0</td>\n",
       "      <td>0.0</td>\n",
       "      <td>0.0</td>\n",
       "      <td>0.0</td>\n",
       "      <td>0.0</td>\n",
       "      <td>...</td>\n",
       "      <td>0.0</td>\n",
       "      <td>0.00</td>\n",
       "      <td>0.00</td>\n",
       "      <td>0.00000</td>\n",
       "      <td>0.00</td>\n",
       "      <td>60926.490000</td>\n",
       "      <td>0</td>\n",
       "      <td>0</td>\n",
       "      <td>0.838962</td>\n",
       "      <td>1</td>\n",
       "    </tr>\n",
       "    <tr>\n",
       "      <th>76016</th>\n",
       "      <td>39.0</td>\n",
       "      <td>0.0</td>\n",
       "      <td>0.0</td>\n",
       "      <td>0.0</td>\n",
       "      <td>0.0</td>\n",
       "      <td>0.0</td>\n",
       "      <td>0.0</td>\n",
       "      <td>0.0</td>\n",
       "      <td>0.0</td>\n",
       "      <td>1.0</td>\n",
       "      <td>...</td>\n",
       "      <td>48.0</td>\n",
       "      <td>130.65</td>\n",
       "      <td>0.00</td>\n",
       "      <td>0.00000</td>\n",
       "      <td>0.00</td>\n",
       "      <td>118634.520000</td>\n",
       "      <td>1</td>\n",
       "      <td>0</td>\n",
       "      <td>0.198039</td>\n",
       "      <td>0</td>\n",
       "    </tr>\n",
       "    <tr>\n",
       "      <th>76017</th>\n",
       "      <td>23.0</td>\n",
       "      <td>0.0</td>\n",
       "      <td>0.0</td>\n",
       "      <td>0.0</td>\n",
       "      <td>0.0</td>\n",
       "      <td>0.0</td>\n",
       "      <td>0.0</td>\n",
       "      <td>0.0</td>\n",
       "      <td>0.0</td>\n",
       "      <td>1.0</td>\n",
       "      <td>...</td>\n",
       "      <td>0.0</td>\n",
       "      <td>3.00</td>\n",
       "      <td>0.00</td>\n",
       "      <td>3.00000</td>\n",
       "      <td>3.00</td>\n",
       "      <td>74028.150000</td>\n",
       "      <td>0</td>\n",
       "      <td>0</td>\n",
       "      <td>0.084569</td>\n",
       "      <td>0</td>\n",
       "    </tr>\n",
       "    <tr>\n",
       "      <th>76018</th>\n",
       "      <td>25.0</td>\n",
       "      <td>0.0</td>\n",
       "      <td>0.0</td>\n",
       "      <td>0.0</td>\n",
       "      <td>0.0</td>\n",
       "      <td>0.0</td>\n",
       "      <td>0.0</td>\n",
       "      <td>0.0</td>\n",
       "      <td>0.0</td>\n",
       "      <td>1.0</td>\n",
       "      <td>...</td>\n",
       "      <td>0.0</td>\n",
       "      <td>3.00</td>\n",
       "      <td>1.74</td>\n",
       "      <td>3.00000</td>\n",
       "      <td>2.58</td>\n",
       "      <td>84278.160000</td>\n",
       "      <td>0</td>\n",
       "      <td>0</td>\n",
       "      <td>0.194325</td>\n",
       "      <td>0</td>\n",
       "    </tr>\n",
       "    <tr>\n",
       "      <th>76019</th>\n",
       "      <td>46.0</td>\n",
       "      <td>0.0</td>\n",
       "      <td>0.0</td>\n",
       "      <td>0.0</td>\n",
       "      <td>0.0</td>\n",
       "      <td>0.0</td>\n",
       "      <td>0.0</td>\n",
       "      <td>0.0</td>\n",
       "      <td>0.0</td>\n",
       "      <td>0.0</td>\n",
       "      <td>...</td>\n",
       "      <td>0.0</td>\n",
       "      <td>0.00</td>\n",
       "      <td>0.00</td>\n",
       "      <td>0.00000</td>\n",
       "      <td>0.00</td>\n",
       "      <td>117310.979016</td>\n",
       "      <td>0</td>\n",
       "      <td>0</td>\n",
       "      <td>0.800482</td>\n",
       "      <td>1</td>\n",
       "    </tr>\n",
       "  </tbody>\n",
       "</table>\n",
       "<p>76020 rows × 38 columns</p>\n",
       "</div>"
      ],
      "text/plain": [
       "       var15  imp_ent_var16_ult1  imp_op_var39_comer_ult1  \\\n",
       "0       23.0                 0.0                      0.0   \n",
       "1       34.0                 0.0                      0.0   \n",
       "2       23.0                 0.0                      0.0   \n",
       "3       37.0                 0.0                    195.0   \n",
       "4       39.0                 0.0                      0.0   \n",
       "...      ...                 ...                      ...   \n",
       "76015   48.0                 0.0                      0.0   \n",
       "76016   39.0                 0.0                      0.0   \n",
       "76017   23.0                 0.0                      0.0   \n",
       "76018   25.0                 0.0                      0.0   \n",
       "76019   46.0                 0.0                      0.0   \n",
       "\n",
       "       imp_op_var39_comer_ult3  imp_op_var41_comer_ult3  \\\n",
       "0                          0.0                      0.0   \n",
       "1                          0.0                      0.0   \n",
       "2                          0.0                      0.0   \n",
       "3                        195.0                    195.0   \n",
       "4                          0.0                      0.0   \n",
       "...                        ...                      ...   \n",
       "76015                      0.0                      0.0   \n",
       "76016                      0.0                      0.0   \n",
       "76017                      0.0                      0.0   \n",
       "76018                      0.0                      0.0   \n",
       "76019                      0.0                      0.0   \n",
       "\n",
       "       imp_op_var41_efect_ult3  imp_op_var41_ult1  imp_op_var39_efect_ult3  \\\n",
       "0                          0.0                0.0                      0.0   \n",
       "1                          0.0                0.0                      0.0   \n",
       "2                          0.0                0.0                      0.0   \n",
       "3                          0.0              195.0                      0.0   \n",
       "4                          0.0                0.0                      0.0   \n",
       "...                        ...                ...                      ...   \n",
       "76015                      0.0                0.0                      0.0   \n",
       "76016                      0.0                0.0                      0.0   \n",
       "76017                      0.0                0.0                      0.0   \n",
       "76018                      0.0                0.0                      0.0   \n",
       "76019                      0.0                0.0                      0.0   \n",
       "\n",
       "       imp_op_var39_ult1  num_var4  ...  num_var45_ult3  \\\n",
       "0                    0.0       0.0  ...             0.0   \n",
       "1                    0.0       1.0  ...             0.0   \n",
       "2                    0.0       1.0  ...             0.0   \n",
       "3                  195.0       3.0  ...            48.0   \n",
       "4                    0.0       1.0  ...             0.0   \n",
       "...                  ...       ...  ...             ...   \n",
       "76015                0.0       0.0  ...             0.0   \n",
       "76016                0.0       1.0  ...            48.0   \n",
       "76017                0.0       1.0  ...             0.0   \n",
       "76018                0.0       1.0  ...             0.0   \n",
       "76019                0.0       0.0  ...             0.0   \n",
       "\n",
       "       saldo_medio_var5_hace2  saldo_medio_var5_hace3  saldo_medio_var5_ult1  \\\n",
       "0                        0.00                    0.00                0.00000   \n",
       "1                        0.00                   88.89                0.00000   \n",
       "2                        3.00                    0.18                3.00000   \n",
       "3                      186.09                    0.00               91.56000   \n",
       "4                        3.00                    0.30            25114.36612   \n",
       "...                       ...                     ...                    ...   \n",
       "76015                    0.00                    0.00                0.00000   \n",
       "76016                  130.65                    0.00                0.00000   \n",
       "76017                    3.00                    0.00                3.00000   \n",
       "76018                    3.00                    1.74                3.00000   \n",
       "76019                    0.00                    0.00                0.00000   \n",
       "\n",
       "       saldo_medio_var5_ult3          var38  cluster  TARGET   predict  \\\n",
       "0                       0.00   39205.170000        0       0  0.377561   \n",
       "1                       0.00   49278.030000        0       0  0.362964   \n",
       "2                       2.07   67333.770000        0       0  0.054120   \n",
       "3                     138.84   64007.970000        1       0  0.233513   \n",
       "4                   13501.47  117310.979016        3       0  0.033902   \n",
       "...                      ...            ...      ...     ...       ...   \n",
       "76015                   0.00   60926.490000        0       0  0.838962   \n",
       "76016                   0.00  118634.520000        1       0  0.198039   \n",
       "76017                   3.00   74028.150000        0       0  0.084569   \n",
       "76018                   2.58   84278.160000        0       0  0.194325   \n",
       "76019                   0.00  117310.979016        0       0  0.800482   \n",
       "\n",
       "       predito  \n",
       "0            0  \n",
       "1            0  \n",
       "2            0  \n",
       "3            0  \n",
       "4            0  \n",
       "...        ...  \n",
       "76015        1  \n",
       "76016        0  \n",
       "76017        0  \n",
       "76018        0  \n",
       "76019        1  \n",
       "\n",
       "[76020 rows x 38 columns]"
      ]
     },
     "execution_count": 70,
     "metadata": {},
     "output_type": "execute_result"
    }
   ],
   "source": [
    "predict_base_total = final_model.predict_proba(tarefa_3)[:,1]\n",
    "temp_cluster['predict'] = predict_base_total\n",
    "temp_cluster['predito'] = (temp_cluster['predict'] >= corte_otimo).astype('int')\n",
    "temp_cluster"
   ]
  },
  {
   "cell_type": "markdown",
   "metadata": {},
   "source": [
    "## Cria variável de lucro para cada cliente"
   ]
  },
  {
   "cell_type": "code",
   "execution_count": 71,
   "metadata": {
    "execution": {
     "iopub.execute_input": "2022-01-14T19:06:23.757914Z",
     "iopub.status.busy": "2022-01-14T19:06:23.757695Z",
     "iopub.status.idle": "2022-01-14T19:06:23.770511Z",
     "shell.execute_reply": "2022-01-14T19:06:23.769745Z",
     "shell.execute_reply.started": "2022-01-14T19:06:23.757889Z"
    }
   },
   "outputs": [],
   "source": [
    "conditions = [\n",
    "                (temp_cluster['predito'] == 1),\n",
    "                (temp_cluster['predito'] == 0)\n",
    "            ]\n",
    "values = [temp_cluster['TARGET']*100 - temp_cluster['predito']*10, 0]\n",
    "temp_cluster['lucro'] = np.select(conditions, values)"
   ]
  },
  {
   "cell_type": "markdown",
   "metadata": {},
   "source": [
    "## Verifica distribuição de clientes e lucro por cluster"
   ]
  },
  {
   "cell_type": "code",
   "execution_count": 73,
   "metadata": {
    "execution": {
     "iopub.execute_input": "2022-01-14T19:06:23.812937Z",
     "iopub.status.busy": "2022-01-14T19:06:23.812732Z",
     "iopub.status.idle": "2022-01-14T19:06:23.961549Z",
     "shell.execute_reply": "2022-01-14T19:06:23.960868Z",
     "shell.execute_reply.started": "2022-01-14T19:06:23.812913Z"
    }
   },
   "outputs": [
    {
     "data": {
      "text/html": [
       "<div>\n",
       "<style scoped>\n",
       "    .dataframe tbody tr th:only-of-type {\n",
       "        vertical-align: middle;\n",
       "    }\n",
       "\n",
       "    .dataframe tbody tr th {\n",
       "        vertical-align: top;\n",
       "    }\n",
       "\n",
       "    .dataframe thead th {\n",
       "        text-align: right;\n",
       "    }\n",
       "</style>\n",
       "<table border=\"1\" class=\"dataframe\">\n",
       "  <thead>\n",
       "    <tr style=\"text-align: right;\">\n",
       "      <th></th>\n",
       "      <th>count</th>\n",
       "      <th>sum</th>\n",
       "      <th>mean</th>\n",
       "    </tr>\n",
       "    <tr>\n",
       "      <th>cluster</th>\n",
       "      <th></th>\n",
       "      <th></th>\n",
       "      <th></th>\n",
       "    </tr>\n",
       "  </thead>\n",
       "  <tbody>\n",
       "    <tr>\n",
       "      <th>0</th>\n",
       "      <td>56465</td>\n",
       "      <td>67500</td>\n",
       "      <td>1.195431</td>\n",
       "    </tr>\n",
       "    <tr>\n",
       "      <th>1</th>\n",
       "      <td>13111</td>\n",
       "      <td>8120</td>\n",
       "      <td>0.619327</td>\n",
       "    </tr>\n",
       "    <tr>\n",
       "      <th>2</th>\n",
       "      <td>4765</td>\n",
       "      <td>9970</td>\n",
       "      <td>2.092340</td>\n",
       "    </tr>\n",
       "    <tr>\n",
       "      <th>3</th>\n",
       "      <td>1679</td>\n",
       "      <td>0</td>\n",
       "      <td>0.000000</td>\n",
       "    </tr>\n",
       "  </tbody>\n",
       "</table>\n",
       "</div>"
      ],
      "text/plain": [
       "         count    sum      mean\n",
       "cluster                        \n",
       "0        56465  67500  1.195431\n",
       "1        13111   8120  0.619327\n",
       "2         4765   9970  2.092340\n",
       "3         1679      0  0.000000"
      ]
     },
     "execution_count": 73,
     "metadata": {},
     "output_type": "execute_result"
    }
   ],
   "source": [
    "temp_cluster.groupby(temp_cluster['cluster']).agg(['count', 'sum','mean'])['lucro']"
   ]
  },
  {
   "cell_type": "code",
   "execution_count": 74,
   "metadata": {
    "execution": {
     "iopub.execute_input": "2022-01-14T19:06:23.962778Z",
     "iopub.status.busy": "2022-01-14T19:06:23.962592Z",
     "iopub.status.idle": "2022-01-14T19:06:24.106296Z",
     "shell.execute_reply": "2022-01-14T19:06:24.105641Z",
     "shell.execute_reply.started": "2022-01-14T19:06:23.962757Z"
    }
   },
   "outputs": [
    {
     "data": {
      "text/plain": [
       "<AxesSubplot:xlabel='cluster'>"
      ]
     },
     "execution_count": 74,
     "metadata": {},
     "output_type": "execute_result"
    },
    {
     "data": {
      "image/png": "[encoded data removed]",
      "text/plain": [
       "<Figure size 432x288 with 1 Axes>"
      ]
     },
     "metadata": {
      "needs_background": "light"
     },
     "output_type": "display_data"
    }
   ],
   "source": [
    "temp_cluster.sort_values(['cluster']).groupby(['cluster']).size().plot.bar()"
   ]
  },
  {
   "cell_type": "markdown",
   "metadata": {},
   "source": [
    "A partir da distribuição de clientes é possível observar que há uma alta concentração no cluster 0 e uma baixa concentração, principalmente, no cluster 3. <br>\n",
    "Com relação ao lucro esperado por cliente, o cluster com maior lucro esperado é o cluster 2 com média de lucro de 2.09 reais/cliente, seguido do cluster 1 com 1.19 reais/cliente e o terceiro cluster com maior lucro é o cluster 1 com 0.61 reais/cliente. Cabe destacar que não houve nenhum cluster com prejuízo, por outro lado, o cluster 3 não apresentou nenhum caso de ação de retenção. "
   ]
  }
 ],
 "metadata": {
  "kernelspec": {
   "display_name": "Python 3",
   "language": "python",
   "name": "python3"
  },
  "language_info": {
   "codemirror_mode": {
    "name": "ipython",
    "version": 3
   },
   "file_extension": ".py",
   "mimetype": "text/x-python",
   "name": "python",
   "nbconvert_exporter": "python",
   "pygments_lexer": "ipython3",
   "version": "3.6.10"
  }
 },
 "nbformat": 4,
 "nbformat_minor": 4
}
